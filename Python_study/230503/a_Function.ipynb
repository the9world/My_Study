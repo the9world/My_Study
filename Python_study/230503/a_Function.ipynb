{
 "cells": [
  {
   "cell_type": "markdown",
   "metadata": {},
   "source": [
    "add_all 함수를 짜봅시다"
   ]
  },
  {
   "cell_type": "code",
   "execution_count": 31,
   "metadata": {},
   "outputs": [
    {
     "data": {
      "text/plain": [
       "55"
      ]
     },
     "execution_count": 31,
     "metadata": {},
     "output_type": "execute_result"
    }
   ],
   "source": [
    "def add_all(*args):\n",
    "    a=0\n",
    "    for i in range(len(args)):\n",
    "        a +=args[i]\n",
    "    return a\n",
    "add_all(1,2,3,4,5,6,7,8,9,10)"
   ]
  },
  {
   "cell_type": "code",
   "execution_count": 32,
   "metadata": {},
   "outputs": [
    {
     "name": "stdout",
     "output_type": "stream",
     "text": [
      "55\n"
     ]
    }
   ],
   "source": [
    "def add_all4(*args):  # args 튜플을 리스트로 받는 법\n",
    "    temp = 0\n",
    "    for i in range(len(args)) :\n",
    "        if type(args[i]) == list:\n",
    "            for j in args[i] :\n",
    "                temp += j\n",
    "        else :\n",
    "            temp += args[i]\n",
    "    return temp"
   ]
  },
  {
   "cell_type": "code",
   "execution_count": 33,
   "metadata": {},
   "outputs": [
    {
     "data": {
      "text/plain": [
       "55"
      ]
     },
     "execution_count": 33,
     "metadata": {},
     "output_type": "execute_result"
    }
   ],
   "source": [
    "add_all4([1,2,3,4,5,6,7,8,9,10]) # 리스트"
   ]
  },
  {
   "cell_type": "code",
   "execution_count": 34,
   "metadata": {},
   "outputs": [
    {
     "data": {
      "text/plain": [
       "55"
      ]
     },
     "execution_count": 34,
     "metadata": {},
     "output_type": "execute_result"
    }
   ],
   "source": [
    "add_all4(1,2,3,4,5,6,7,8,9,10) # 튜플"
   ]
  },
  {
   "attachments": {},
   "cell_type": "markdown",
   "metadata": {},
   "source": [
    "numpy \n",
    "- 산술계산용 라이브러리\n",
    "- n 차원의 다양한 객체 \n",
    "array 각각이 오브젝트 (자유로움)"
   ]
  },
  {
   "cell_type": "code",
   "execution_count": 37,
   "metadata": {},
   "outputs": [
    {
     "name": "stdout",
     "output_type": "stream",
     "text": [
      "1.24.3\n"
     ]
    }
   ],
   "source": [
    "import numpy as np\n",
    "print(np.__version__)"
   ]
  },
  {
   "cell_type": "code",
   "execution_count": 39,
   "metadata": {},
   "outputs": [
    {
     "name": "stdout",
     "output_type": "stream",
     "text": [
      "A의 출력입니다.array([1, 2, 3, 4])\n",
      "S의 출력입니다.[1 2]\n"
     ]
    }
   ],
   "source": [
    "import numpy as np\n",
    "A = [1,2,3,4,]\n",
    "a = np.array(A)\n",
    "s = a[:2]\n",
    "print('A의 출력입니다.%a'%a)\n",
    "print('S의 출력입니다.%s'%s)"
   ]
  },
  {
   "attachments": {},
   "cell_type": "markdown",
   "metadata": {},
   "source": [
    "- Ndarray 타입을 검색하거나 슬라이싱은 참조만 할당하므로  \n",
    "변경을 방지하기 위해서는 새로운 ndarray로 만들어 사용 .copy 메소드가 필요"
   ]
  },
  {
   "cell_type": "code",
   "execution_count": 40,
   "metadata": {},
   "outputs": [
    {
     "name": "stdout",
     "output_type": "stream",
     "text": [
      "2\n",
      "[1 2 3 4]\n",
      "[1 2]\n",
      "[99  2]\n"
     ]
    }
   ],
   "source": [
    "ss = a[:2].copy()\n",
    "print(ss.size)\n",
    "ss[0]=99\n",
    "print(a)\n",
    "print(s)\n",
    "print(ss)"
   ]
  },
  {
   "cell_type": "code",
   "execution_count": 41,
   "metadata": {},
   "outputs": [
    {
     "name": "stdout",
     "output_type": "stream",
     "text": [
      "[[1 2 3]\n",
      " [4 5 6]]\n"
     ]
    }
   ],
   "source": [
    "arr = np.array([[1,2,3],[4,5,6]])\n",
    "print(arr)\n"
   ]
  }
 ],
 "metadata": {
  "kernelspec": {
   "display_name": "Python 3",
   "language": "python",
   "name": "python3"
  },
  "language_info": {
   "codemirror_mode": {
    "name": "ipython",
    "version": 3
   },
   "file_extension": ".py",
   "mimetype": "text/x-python",
   "name": "python",
   "nbconvert_exporter": "python",
   "pygments_lexer": "ipython3",
   "version": "3.9.13"
  },
  "orig_nbformat": 4
 },
 "nbformat": 4,
 "nbformat_minor": 2
}
