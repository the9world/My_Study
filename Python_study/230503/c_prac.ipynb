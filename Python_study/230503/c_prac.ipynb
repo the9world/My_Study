{
 "cells": [
  {
   "cell_type": "code",
   "execution_count": 7,
   "metadata": {},
   "outputs": [],
   "source": [
    "import numpy as np"
   ]
  },
  {
   "cell_type": "code",
   "execution_count": 26,
   "metadata": {},
   "outputs": [],
   "source": [
    "a= np.arange(10)\n",
    "b = np.resize(a, (2,5))\n",
    "# reshape : 중복 X //a.reshape O // (열, 행)\n",
    "# resize : 중복 O // a.resize X // (열, 행)"
   ]
  },
  {
   "cell_type": "code",
   "execution_count": null,
   "metadata": {},
   "outputs": [],
   "source": [
    "array,\n",
    "https://analytics4everything.tistory.com/60\n",
    "np. resize , np.reshape\n",
    "numpy transpose, T\n",
    "numpy.random.randint\n",
    "\n",
    "pandas loc, iloc\n",
    "inner join, outer join\n",
    "normalize"
   ]
  }
 ],
 "metadata": {
  "kernelspec": {
   "display_name": "Python 3",
   "language": "python",
   "name": "python3"
  },
  "language_info": {
   "codemirror_mode": {
    "name": "ipython",
    "version": 3
   },
   "file_extension": ".py",
   "mimetype": "text/x-python",
   "name": "python",
   "nbconvert_exporter": "python",
   "pygments_lexer": "ipython3",
   "version": "3.9.13"
  },
  "orig_nbformat": 4
 },
 "nbformat": 4,
 "nbformat_minor": 2
}
