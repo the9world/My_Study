{
 "cells": [
  {
   "cell_type": "code",
   "execution_count": 4,
   "metadata": {},
   "outputs": [
    {
     "name": "stdout",
     "output_type": "stream",
     "text": [
      "125\n"
     ]
    }
   ],
   "source": [
    "square = lambda x: x**3\n",
    "print(square(5))"
   ]
  },
  {
   "cell_type": "code",
   "execution_count": 1,
   "metadata": {},
   "outputs": [
    {
     "name": "stdout",
     "output_type": "stream",
     "text": [
      "[8, 27, 64, 125, 216]\n"
     ]
    }
   ],
   "source": [
    "numbers = [2, 3, 4, 5, 6]\n",
    "squares = map(lambda x: x**3, numbers)\n",
    "print(list(squares))  # [1, 4, 9, 16, 25]"
   ]
  },
  {
   "cell_type": "code",
   "execution_count": 3,
   "metadata": {},
   "outputs": [
    {
     "ename": "NameError",
     "evalue": "name 'animal' is not defined",
     "output_type": "error",
     "traceback": [
      "\u001b[1;31m---------------------------------------------------------------------------\u001b[0m",
      "\u001b[1;31mNameError\u001b[0m                                 Traceback (most recent call last)",
      "Cell \u001b[1;32mIn[3], line 1\u001b[0m\n\u001b[1;32m----> 1\u001b[0m ret\u001b[39m=\u001b[39m dog \u001b[39mif\u001b[39;00m animal \u001b[39mis\u001b[39;00m dog \u001b[39melse\u001b[39;00m cot \u001b[39mif\u001b[39;00m animal \u001b[39mis\u001b[39;00m cat \u001b[39melse\u001b[39;00m cat\n\u001b[0;32m      2\u001b[0m \u001b[39mprint\u001b[39m(ret)\n",
      "\u001b[1;31mNameError\u001b[0m: name 'animal' is not defined"
     ]
    }
   ],
   "source": [
    "ret= dog if animal is dog else cot if animal is cat else cat\n",
    "print(ret)"
   ]
  },
  {
   "cell_type": "code",
   "execution_count": 24,
   "metadata": {},
   "outputs": [
    {
     "name": "stdout",
     "output_type": "stream",
     "text": [
      "lion\n"
     ]
    }
   ],
   "source": [
    "cat = 'cat'\n",
    "dog = 'dog'\n",
    "cow = 'cow'\n",
    "lion = 'lion'\n",
    "animal = dog\n",
    "ret=  cow if animal is cat else lion if animal is dog else lion\n",
    "print(ret)"
   ]
  },
  {
   "cell_type": "code",
   "execution_count": 29,
   "metadata": {},
   "outputs": [
    {
     "name": "stdout",
     "output_type": "stream",
     "text": [
      "cow\n"
     ]
    }
   ],
   "source": [
    "cat = 'cat'\n",
    "dog = 'dog'\n",
    "cow = 'cow'\n",
    "lion = 'lion'\n",
    "animal  = cow\n",
    "ret = None\n",
    "if animal is cat:\n",
    "    ret = cat\n",
    "elif animal is dog:\n",
    "    ret = dog\n",
    "elif animal is cow :\n",
    "    ret = cow\n",
    "else :\n",
    "    ret = lion\n",
    "print(ret)"
   ]
  },
  {
   "cell_type": "code",
   "execution_count": null,
   "metadata": {},
   "outputs": [],
   "source": []
  }
 ],
 "metadata": {
  "kernelspec": {
   "display_name": "Python 3",
   "language": "python",
   "name": "python3"
  },
  "language_info": {
   "codemirror_mode": {
    "name": "ipython",
    "version": 3
   },
   "file_extension": ".py",
   "mimetype": "text/x-python",
   "name": "python",
   "nbconvert_exporter": "python",
   "pygments_lexer": "ipython3",
   "version": "3.9.13"
  },
  "orig_nbformat": 4
 },
 "nbformat": 4,
 "nbformat_minor": 2
}
