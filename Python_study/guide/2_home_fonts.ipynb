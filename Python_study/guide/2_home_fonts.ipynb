{
 "cells": [
  {
   "cell_type": "code",
   "execution_count": null,
   "metadata": {},
   "outputs": [],
   "source": [
    "# # 한글 깨짐 방지 ( VS code )\n",
    "from matplotlib import font_manager, rc\n",
    "font_path = \"C:/Windows/Fonts/gulim.ttc\"\n",
    "\n",
    "# 폰트 이름을 가져옵니다.\n",
    "fontprop = font_manager.FontProperties(fname=font_path)\n",
    "font_name = fontprop.get_name()\n",
    "\n",
    "# 폰트 설정을 변경합니다.\n",
    "rc('font', family=font_name)"
   ]
  }
 ],
 "metadata": {
  "language_info": {
   "name": "python"
  },
  "orig_nbformat": 4
 },
 "nbformat": 4,
 "nbformat_minor": 2
}
