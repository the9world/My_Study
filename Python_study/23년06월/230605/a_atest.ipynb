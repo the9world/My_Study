{
 "cells": [
  {
   "cell_type": "code",
   "execution_count": 1,
   "metadata": {},
   "outputs": [
    {
     "ename": "ModuleNotFoundError",
     "evalue": "No module named 'fbprophet'",
     "output_type": "error",
     "traceback": [
      "\u001b[1;31m---------------------------------------------------------------------------\u001b[0m",
      "\u001b[1;31mModuleNotFoundError\u001b[0m                       Traceback (most recent call last)",
      "Cell \u001b[1;32mIn[1], line 2\u001b[0m\n\u001b[0;32m      1\u001b[0m \u001b[39mimport\u001b[39;00m \u001b[39mpandas\u001b[39;00m \u001b[39mas\u001b[39;00m \u001b[39mpd\u001b[39;00m\n\u001b[1;32m----> 2\u001b[0m \u001b[39mfrom\u001b[39;00m \u001b[39mfbprophet\u001b[39;00m \u001b[39mimport\u001b[39;00m Prophet\n\u001b[0;32m      4\u001b[0m \u001b[39m# 연도 데이터 생성\u001b[39;00m\n\u001b[0;32m      5\u001b[0m years \u001b[39m=\u001b[39m [\u001b[39m2010\u001b[39m, \u001b[39m2011\u001b[39m, \u001b[39m2012\u001b[39m, \u001b[39m2013\u001b[39m, \u001b[39m2014\u001b[39m, \u001b[39m2015\u001b[39m]\n",
      "\u001b[1;31mModuleNotFoundError\u001b[0m: No module named 'fbprophet'"
     ]
    }
   ],
   "source": [
    "import pandas as pd\n",
    "from fbprophet import Prophet\n",
    "\n",
    "# 연도 데이터 생성\n",
    "years = [2010, 2011, 2012, 2013, 2014, 2015]\n",
    "df = pd.DataFrame({'ds': pd.to_datetime(years, format='%Y')})\n",
    "\n",
    "# 예측을 위해 빈 값을 가진 'y' 열 추가\n",
    "df['y'] = None\n",
    "\n",
    "# Prophet 모델 학습\n",
    "model = Prophet()\n",
    "model.fit(df)\n",
    "\n",
    "# 미래의 연도 생성\n",
    "future_years = [2016, 2017, 2018, 2019, 2020]\n",
    "future = pd.DataFrame({'ds': pd.to_datetime(future_years, format='%Y')})\n",
    "\n",
    "# 예측 수행\n",
    "forecast = model.predict(future)\n",
    "\n",
    "# 결과 출력\n",
    "print(forecast[['ds', 'yhat', 'yhat_lower', 'yhat_upper']].tail())\n"
   ]
  },
  {
   "cell_type": "code",
   "execution_count": null,
   "metadata": {},
   "outputs": [
    {
     "ename": "ModuleNotFoundError",
     "evalue": "No module named 'fbprophet'",
     "output_type": "error",
     "traceback": [
      "\u001b[1;31m---------------------------------------------------------------------------\u001b[0m",
      "\u001b[1;31mModuleNotFoundError\u001b[0m                       Traceback (most recent call last)",
      "Cell \u001b[1;32mIn[3], line 2\u001b[0m\n\u001b[0;32m      1\u001b[0m \u001b[39mimport\u001b[39;00m \u001b[39mpandas\u001b[39;00m \u001b[39mas\u001b[39;00m \u001b[39mpd\u001b[39;00m\n\u001b[1;32m----> 2\u001b[0m \u001b[39mfrom\u001b[39;00m \u001b[39mfbprophet\u001b[39;00m \u001b[39mimport\u001b[39;00m Prophet\n\u001b[0;32m      4\u001b[0m \u001b[39m# 연도 데이터 생성\u001b[39;00m\n\u001b[0;32m      5\u001b[0m years \u001b[39m=\u001b[39m [\u001b[39m2010\u001b[39m, \u001b[39m2011\u001b[39m, \u001b[39m2012\u001b[39m, \u001b[39m2013\u001b[39m, \u001b[39m2014\u001b[39m, \u001b[39m2015\u001b[39m]\n",
      "\u001b[1;31mModuleNotFoundError\u001b[0m: No module named 'fbprophet'"
     ]
    }
   ],
   "source": [
    "import pandas as pd\n",
    "from fbprophet import Prophet\n",
    "\n",
    "# 연도 데이터 생성\n",
    "years = [2010, 2011, 2012, 2013, 2014, 2015]\n",
    "df = pd.DataFrame({'ds': pd.to_datetime(years, format='%Y')})\n",
    "\n",
    "# 예측을 위해 빈 값을 가진 'y' 열 추가\n",
    "df['y'] = None\n",
    "\n",
    "# Prophet 모델 학습\n",
    "model = Prophet()\n",
    "model.fit(df)\n",
    "\n",
    "# 미래의 연도 생성\n",
    "future_years = [2016, 2017, 2018, 2019, 2020]\n",
    "future = pd.DataFrame({'ds': pd.to_datetime(future_years, format='%Y')})\n",
    "\n",
    "# 예측 수행\n",
    "forecast = model.predict(future)\n",
    "\n",
    "# 결과 출력\n",
    "print(forecast[['ds', 'yhat', 'yhat_lower', 'yhat_upper']].tail())\n"
   ]
  },
  {
   "cell_type": "code",
   "execution_count": null,
   "metadata": {},
   "outputs": [],
   "source": []
  }
 ],
 "metadata": {
  "kernelspec": {
   "display_name": "Python 3",
   "language": "python",
   "name": "python3"
  },
  "language_info": {
   "codemirror_mode": {
    "name": "ipython",
    "version": 3
   },
   "file_extension": ".py",
   "mimetype": "text/x-python",
   "name": "python",
   "nbconvert_exporter": "python",
   "pygments_lexer": "ipython3",
   "version": "3.9.13"
  },
  "orig_nbformat": 4
 },
 "nbformat": 4,
 "nbformat_minor": 2
}
