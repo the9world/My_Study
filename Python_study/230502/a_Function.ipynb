{
 "cells": [
  {
   "cell_type": "code",
   "execution_count": null,
   "metadata": {},
   "outputs": [],
   "source": [
    "a = [1,2,3,4,5]\n",
    "\n",
    "def swap_value(x, y):\n",
    "    temp= x\n",
    "    x=y\n",
    "    y=temp\n",
    "swap_value(a[1], a[2])\n",
    "print(a)"
   ]
  },
  {
   "cell_type": "code",
   "execution_count": null,
   "metadata": {},
   "outputs": [],
   "source": [
    "a = [1,2,3,4,5]\n",
    "def swap_offset(offset_x, offset_y,) :\n",
    "    temp = a[offset_x]\n",
    "    a[offset_x] = a[offset_y]\n",
    "    a[offset_y] =temp\n",
    "swap_offset(1, 2)\n",
    "print(a)"
   ]
  },
  {
   "cell_type": "code",
   "execution_count": null,
   "metadata": {},
   "outputs": [],
   "source": []
  },
  {
   "cell_type": "code",
   "execution_count": null,
   "metadata": {},
   "outputs": [],
   "source": [
    "a = [1,2,3,4,5]\n",
    "def swap_reference(list, offset_x, offset_y):\n",
    "    temp = list[offset_x]\n",
    "    list[offset_x] = list[offset_y]\n",
    "    list[offset_y] = temp\n",
    "swap_reference(a, 1, 2)\n",
    "print(a)"
   ]
  },
  {
   "cell_type": "code",
   "execution_count": null,
   "metadata": {},
   "outputs": [],
   "source": [
    "def div2(a,b):\n",
    "\n",
    "    if a > b :\n",
    "       return a // b, a % b\n",
    "    elif b > a :\n",
    "       return b // a, b % a\n",
    "    try :\n",
    "         b // 0\n",
    "         a // 0\n",
    "    except ZeroDivisionError:\n",
    "           print(\"0으로 나눌 수 없습니다.\")\n",
    "    print(div2(0,5))"
   ]
  },
  {
   "cell_type": "code",
   "execution_count": null,
   "metadata": {},
   "outputs": [],
   "source": [
    "def div3(a,b):\n",
    "\tif a<b:\n",
    "\t\tbig=b\n",
    "\t\tsmall=a\n",
    "\telif b<=a:\n",
    "\t\tbig=a\n",
    "\t\tsmall=b\n",
    "\telse:\n",
    "\t\tprint(\"정수가 아닙니다.\")\n",
    "\tif small==0:\n",
    "\t\tprint('0은 사용할 수 없습니다.')\n",
    "\telif abs(big)< 0 or abs(small)<0:\n",
    "\t\tprint('정수를 입력하세요.')\n",
    "\telse:\n",
    "\t\tq = big // small\n",
    "\t\tr = big % small\n",
    "\t\treturn(q,r)\n",
    "print(div3(10,1))"
   ]
  },
  {
   "cell_type": "code",
   "execution_count": null,
   "metadata": {},
   "outputs": [],
   "source": [
    "def func(string, unit=2):\n",
    "    i = 0\n",
    "    while i < len(string):\n",
    "        print(string[i:i+unit])\n",
    "        i += unit\n",
    "func(\"테스트를 위한 문장입니다\")"
   ]
  },
  {
   "attachments": {},
   "cell_type": "markdown",
   "metadata": {},
   "source": [
    "add_all 함수를 짜봅시다.\n",
    "add_all(1,2,3,4,5,6,7,8,9,10) = 55\n",
    "hint : *args를 input으로 받으세요."
   ]
  },
  {
   "cell_type": "code",
   "execution_count": null,
   "metadata": {},
   "outputs": [],
   "source": [
    "def add_all(*input):\n",
    "\ts=0\n",
    "\tfor i in range(len(input)):\n",
    "\t\ts+=input[i]\n",
    "\treturn s\n",
    "add_all(1,2,3,4,5,6,7,8,9,10)"
   ]
  },
  {
   "cell_type": "code",
   "execution_count": null,
   "metadata": {},
   "outputs": [],
   "source": [
    "# 불가\n",
    "def add_all3(*args):\n",
    "    s = 0\n",
    "    for i in args :\n",
    "        for j in i :\n",
    "            s += j\n",
    "        return s\n",
    "print(add_all3([1,2,3,4,5,6,7,8,9,10]))"
   ]
  },
  {
   "cell_type": "code",
   "execution_count": null,
   "metadata": {},
   "outputs": [],
   "source": [
    "def add_all4(*args):\n",
    "    temp = 0\n",
    "    for i in range(len(args)) :\n",
    "        if type(args[i]) == list:\n",
    "            for j in args[i] :\n",
    "                temp += j\n",
    "        else :\n",
    "            temp += args[i]\n",
    "    return temp\n",
    "add_all4(1,2,3,4,5,6,7,8,9,10)"
   ]
  },
  {
   "cell_type": "code",
   "execution_count": null,
   "metadata": {},
   "outputs": [],
   "source": [
    "def fact(n): # 재귀적으로 하지 않은 것\n",
    "\tf = 1 # 곱을 계산할 변수의 초기값\n",
    "\tfor i in range(1, n+1): # 1 부터 n 까지 반복\n",
    "\t    f = f * i # 곱셈연산\n",
    "print(fact(5))\n"
   ]
  },
  {
   "cell_type": "code",
   "execution_count": null,
   "metadata": {},
   "outputs": [],
   "source": [
    "def fact1(n): # 재귀적으로 하는 것\n",
    "\tif n<=1:  # n이 1이하이면 종료 조건\n",
    "\t\treturn 1\n",
    "\treturn n * fact1(n-1)\n",
    "print(fact1(5))"
   ]
  },
  {
   "cell_type": "code",
   "execution_count": null,
   "metadata": {},
   "outputs": [],
   "source": [
    "people=['김무일', '김무이', '김무삼', '김무사']\n",
    "\n",
    "def func1(line):\n",
    "\tnew_lines=[]\n",
    "\ti =1 # 대기번호를 트래킹하는 변수 i\n",
    "\tfor x in line :\n",
    "\t\tprint('대기번호 %d번 : %s' % (i,x))\n",
    "\t\tnew_lines.append((i,x))\n",
    "\t\ti += 1 # 별도로 업데이트 해야함.\n",
    "\treturn new_lines\n",
    "lines = func1(people)"
   ]
  },
  {
   "cell_type": "code",
   "execution_count": null,
   "metadata": {},
   "outputs": [],
   "source": [
    "people = ['펭수','뽀로로','뚝딱이','텔레토비']\n",
    "\n",
    "def func1(line):\n",
    "    new_lines = []\n",
    "    i=1 #대기번호를 트래킹하는 변수 i\n",
    "    for x in line:\n",
    "        print('대기번호 %d번 : %s' %(i,x))\n",
    "        new_lines.append((i,x))\n",
    "        i +=1 #별도로 업데이트를 해줘야 함.\n",
    "    return new_lines\n",
    "lines = func1(people)"
   ]
  },
  {
   "cell_type": "code",
   "execution_count": null,
   "metadata": {},
   "outputs": [],
   "source": [
    "def func1(line): # enumerate\n",
    "    new_lines = []\n",
    "    for idx,val in enumerate(line):\n",
    "        print('대기번호 %d번 : %s' %(idx,val))\n",
    "        new_lines.append((idx+1,val))\n",
    "    return new_lines\n",
    "lines = func1(people)"
   ]
  },
  {
   "cell_type": "code",
   "execution_count": null,
   "metadata": {},
   "outputs": [],
   "source": [
    "list_4 =[]\n",
    "for x in range(1,11):\n",
    "    if x%2==1:\n",
    "        list_4.append(x**2)\n",
    "    else :\n",
    "        list_4.append(x**3)\n",
    "print(list_4)"
   ]
  },
  {
   "cell_type": "code",
   "execution_count": null,
   "metadata": {},
   "outputs": [],
   "source": [
    "[x**2 if x%2==1 else x**3 for x in range(1,11)]"
   ]
  },
  {
   "cell_type": "code",
   "execution_count": null,
   "metadata": {},
   "outputs": [],
   "source": [
    "import numpy as np\n",
    "n = 1000000\n",
    "numpy_arr = np.arange(n)\n",
    "python_list = list(range(n))\n",
    "\n",
    "%%time\n",
    "python_list = [x**3+10 for x in python_list]\n",
    "\n",
    "%%timee\n",
    "numpy_arr = numpy_arr**3+10"
   ]
  },
  {
   "cell_type": "code",
   "execution_count": null,
   "metadata": {},
   "outputs": [],
   "source": [
    "%%time\n",
    "python_list = [x**3+10 for x in python_list]"
   ]
  },
  {
   "cell_type": "code",
   "execution_count": null,
   "metadata": {},
   "outputs": [],
   "source": [
    "%%timee\n",
    "numpy_arr = numpy_arr**3+10"
   ]
  },
  {
   "cell_type": "code",
   "execution_count": null,
   "metadata": {},
   "outputs": [],
   "source": [
    "from time import time\n",
    "python_list = [x**3+10 for x in python_list]\n",
    "time()"
   ]
  },
  {
   "cell_type": "code",
   "execution_count": null,
   "metadata": {},
   "outputs": [],
   "source": [
    "import time\n",
    "start = time.time() #시작시간 저장\n",
    "python_list = [x**3+10 for x in python_list]\n",
    "print('time:', time.time() - start)"
   ]
  },
  {
   "cell_type": "code",
   "execution_count": null,
   "metadata": {},
   "outputs": [],
   "source": [
    "import numpy"
   ]
  },
  {
   "cell_type": "code",
   "execution_count": null,
   "metadata": {},
   "outputs": [],
   "source": [
    "A = [1,2,3,4]\n",
    "\n",
    "a = np.array(A, np.int)\n",
    "print(type(a))\n",
    "print(a)"
   ]
  },
  {
   "cell_type": "code",
   "execution_count": null,
   "metadata": {},
   "outputs": [],
   "source": [
    "arr = np.array([[1,2,3],[4,5,6]])\n",
    "arr"
   ]
  },
  {
   "cell_type": "code",
   "execution_count": null,
   "metadata": {},
   "outputs": [],
   "source": [
    "arr+arr"
   ]
  },
  {
   "cell_type": "code",
   "execution_count": null,
   "metadata": {},
   "outputs": [],
   "source": [
    "list_1 = [1,2,3]\n",
    "list_1 + list_1"
   ]
  },
  {
   "cell_type": "code",
   "execution_count": null,
   "metadata": {},
   "outputs": [],
   "source": [
    "arr_1 = np.array([1,2,3])\n",
    "arr_1+arr_1"
   ]
  },
  {
   "cell_type": "code",
   "execution_count": null,
   "metadata": {},
   "outputs": [],
   "source": []
  }
 ],
 "metadata": {
  "kernelspec": {
   "display_name": "Python 3",
   "language": "python",
   "name": "python3"
  },
  "language_info": {
   "codemirror_mode": {
    "name": "ipython",
    "version": 3
   },
   "file_extension": ".py",
   "mimetype": "text/x-python",
   "name": "python",
   "nbconvert_exporter": "python",
   "pygments_lexer": "ipython3",
   "version": "3.9.13"
  },
  "orig_nbformat": 4
 },
 "nbformat": 4,
 "nbformat_minor": 2
}
