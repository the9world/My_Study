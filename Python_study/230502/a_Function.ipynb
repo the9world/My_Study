{
 "cells": [
  {
   "attachments": {},
   "cell_type": "markdown",
   "metadata": {},
   "source": [
    "복사관련"
   ]
  },
  {
   "cell_type": "code",
   "execution_count": null,
   "metadata": {},
   "outputs": [],
   "source": [
    "a = [1,2,3,4,5]\n",
    "\n",
    "def swap_value(x, y):\n",
    "    temp= x\n",
    "    x=y\n",
    "    y=temp\n",
    "swap_value(a[1], a[2])\n",
    "print(a)"
   ]
  },
  {
   "cell_type": "code",
   "execution_count": null,
   "metadata": {},
   "outputs": [],
   "source": [
    "a = [1,2,3,4,5]\n",
    "def swap_offset(offset_x, offset_y,) :\n",
    "    temp = a[offset_x]\n",
    "    a[offset_x] = a[offset_y]\n",
    "    a[offset_y] =temp\n",
    "swap_offset(1, 2)\n",
    "print(a)"
   ]
  },
  {
   "cell_type": "code",
   "execution_count": null,
   "metadata": {},
   "outputs": [],
   "source": [
    "a = [1,2,3,4,5]\n",
    "def swap_reference(list, offset_x, offset_y):\n",
    "    temp = list[offset_x]\n",
    "    list[offset_x] = list[offset_y]\n",
    "    list[offset_y] = temp\n",
    "swap_reference(a, 1, 2)\n",
    "print(a)"
   ]
  },
  {
   "cell_type": "code",
   "execution_count": 47,
   "metadata": {},
   "outputs": [
    {
     "name": "stdout",
     "output_type": "stream",
     "text": [
      "0은 사용할 수 없습니다.\n"
     ]
    }
   ],
   "source": [
    "def div3(a,b):\n",
    "\tif a<b:\n",
    "\t\tbig=b\n",
    "\t\tsmall=a\n",
    "\telif b<=a:\n",
    "\t\tbig=a\n",
    "\t\tsmall=b\n",
    "\telse:\n",
    "\t\tprint(\"정수가 아닙니다.\")\n",
    "\tif small==0:\n",
    "\t\tprint('0은 사용할 수 없습니다.')\n",
    "\telif abs(big)< 0 or abs(small)<0:\n",
    "\t\tprint('정수를 입력하세요.')\n",
    "\telse:\n",
    "\t\tq = big // small\n",
    "\t\tr = big % small\n",
    "\t\treturn(q,r)\n",
    "div3(1,0)"
   ]
  },
  {
   "cell_type": "code",
   "execution_count": 8,
   "metadata": {},
   "outputs": [
    {
     "name": "stdout",
     "output_type": "stream",
     "text": [
      "테스트를 \n",
      "위한 문장\n",
      "입니다\n"
     ]
    }
   ],
   "source": [
    "''' 어떠한 string을 받으면 일정한 단위로 끊어서 화면에 출력하는 함수를 짜보자.\n",
    "끊는 단위는 따로 정하지 않으면 2로 설정해보자.\n",
    "hint : input을 string과 unit2=2 로 받고, while을 사용하고, 길이는 len 함수를 사용'''\n",
    "\n",
    "def func(string, unit=2):\n",
    "    i = 0\n",
    "    while i < len(string):\n",
    "        print(string[i:i+unit])\n",
    "        i += unit\n",
    "func(\"테스트를 위한 문장입니다\",5) # 문장 뒤에, 정수 입력값만 큼 출력후 줄바꿈"
   ]
  },
  {
   "attachments": {},
   "cell_type": "markdown",
   "metadata": {},
   "source": [
    "- *arsg 참고 : https://mingrammer.com/understanding-the-asterisk-of-python/"
   ]
  },
  {
   "cell_type": "code",
   "execution_count": 16,
   "metadata": {},
   "outputs": [
    {
     "name": "stdout",
     "output_type": "stream",
     "text": [
      "(10, 10)\n"
     ]
    }
   ],
   "source": [
    "def test(*args):\n",
    "    print(args)\n",
    "test(10,10) # 나중에 몇이든 몇개든 값을 입력\n",
    "# * 가 중요하고 args는 보편적 명칭, 바꿔도 상관은 없음"
   ]
  },
  {
   "cell_type": "code",
   "execution_count": 18,
   "metadata": {},
   "outputs": [
    {
     "name": "stdout",
     "output_type": "stream",
     "text": [
      "([1, 2], 3)\n"
     ]
    }
   ],
   "source": [
    "test([1,2],3)"
   ]
  },
  {
   "cell_type": "code",
   "execution_count": 19,
   "metadata": {},
   "outputs": [
    {
     "name": "stdout",
     "output_type": "stream",
     "text": [
      "([1, 2],)\n"
     ]
    }
   ],
   "source": [
    "test([1,2])"
   ]
  },
  {
   "cell_type": "code",
   "execution_count": 22,
   "metadata": {},
   "outputs": [],
   "source": [
    "def test2(**kwargs):\n",
    "    print(kwargs) # 딕셔너리 형태로 나중에 값을 입력\n",
    "# ** 가 중요하고 args는 보편적 명칭, 바꿔도 상관은 없음"
   ]
  },
  {
   "cell_type": "code",
   "execution_count": 24,
   "metadata": {},
   "outputs": [
    {
     "name": "stdout",
     "output_type": "stream",
     "text": [
      "{'a': 1, 'b': 2, 'c': 3}\n"
     ]
    }
   ],
   "source": [
    "test2(a=1,b=2,c=3)"
   ]
  },
  {
   "cell_type": "code",
   "execution_count": 26,
   "metadata": {},
   "outputs": [
    {
     "data": {
      "text/plain": [
       "55"
      ]
     },
     "execution_count": 26,
     "metadata": {},
     "output_type": "execute_result"
    }
   ],
   "source": [
    "''' add_all 함수를 짜봅시다. \n",
    "add_all(1,2,3,4,5,6,7,8,9,10) = 55 (hint : *args를 input으로 받으세요)'''\n",
    "\n",
    "def add_all(*input):\n",
    "\ts=0\n",
    "\tfor i in range(len(input)):\n",
    "\t\ts+=input[i]\n",
    "\treturn s\n",
    "add_all(1,2,3,4,5,6,7,8,9,10)"
   ]
  },
  {
   "cell_type": "code",
   "execution_count": 27,
   "metadata": {},
   "outputs": [
    {
     "ename": "TypeError",
     "evalue": "unsupported operand type(s) for +=: 'int' and 'list'",
     "output_type": "error",
     "traceback": [
      "\u001b[1;31m---------------------------------------------------------------------------\u001b[0m",
      "\u001b[1;31mTypeError\u001b[0m                                 Traceback (most recent call last)",
      "Cell \u001b[1;32mIn[27], line 5\u001b[0m\n\u001b[0;32m      3\u001b[0m \u001b[39mdef\u001b[39;00m \u001b[39madd_all2\u001b[39m(\u001b[39m*\u001b[39minputs):\n\u001b[0;32m      4\u001b[0m     \u001b[39mreturn\u001b[39;00m \u001b[39msum\u001b[39m(inputs)\n\u001b[1;32m----> 5\u001b[0m add_all([\u001b[39m1\u001b[39;49m,\u001b[39m2\u001b[39;49m,\u001b[39m3\u001b[39;49m,\u001b[39m4\u001b[39;49m,\u001b[39m5\u001b[39;49m,\u001b[39m6\u001b[39;49m,\u001b[39m7\u001b[39;49m,\u001b[39m8\u001b[39;49m,\u001b[39m9\u001b[39;49m,\u001b[39m10\u001b[39;49m])\n",
      "Cell \u001b[1;32mIn[26], line 4\u001b[0m, in \u001b[0;36madd_all\u001b[1;34m(*input)\u001b[0m\n\u001b[0;32m      2\u001b[0m s\u001b[39m=\u001b[39m\u001b[39m0\u001b[39m\n\u001b[0;32m      3\u001b[0m \u001b[39mfor\u001b[39;00m i \u001b[39min\u001b[39;00m \u001b[39mrange\u001b[39m(\u001b[39mlen\u001b[39m(\u001b[39minput\u001b[39m)):\n\u001b[1;32m----> 4\u001b[0m \ts\u001b[39m+\u001b[39m\u001b[39m=\u001b[39m\u001b[39minput\u001b[39m[i]\n\u001b[0;32m      5\u001b[0m \u001b[39mreturn\u001b[39;00m s\n",
      "\u001b[1;31mTypeError\u001b[0m: unsupported operand type(s) for +=: 'int' and 'list'"
     ]
    }
   ],
   "source": [
    "\"\"\" TypeError: unsupported operand type(s) for +=: 'int' and 'list' \"\"\"\n",
    "\n",
    "# def add_all2(*inputs):\n",
    "#     return sum(inputs)\n",
    "# add_all([1,2,3,4,5,6,7,8,9,10])"
   ]
  },
  {
   "cell_type": "code",
   "execution_count": 28,
   "metadata": {},
   "outputs": [
    {
     "data": {
      "text/plain": [
       "55"
      ]
     },
     "execution_count": 28,
     "metadata": {},
     "output_type": "execute_result"
    }
   ],
   "source": [
    "def add_all3(*args):\n",
    "    s=0\n",
    "    for i in args:\n",
    "        for j in i:\n",
    "            s +=j\n",
    "        return s\n",
    "add_all3([1,2,3,4,5,6,7,8,9,10])"
   ]
  },
  {
   "cell_type": "code",
   "execution_count": 29,
   "metadata": {},
   "outputs": [
    {
     "ename": "TypeError",
     "evalue": "'int' object is not iterable",
     "output_type": "error",
     "traceback": [
      "\u001b[1;31m---------------------------------------------------------------------------\u001b[0m",
      "\u001b[1;31mTypeError\u001b[0m                                 Traceback (most recent call last)",
      "Cell \u001b[1;32mIn[29], line 1\u001b[0m\n\u001b[1;32m----> 1\u001b[0m add_all3(\u001b[39m1\u001b[39;49m,\u001b[39m2\u001b[39;49m,\u001b[39m3\u001b[39;49m,\u001b[39m4\u001b[39;49m,\u001b[39m5\u001b[39;49m,\u001b[39m6\u001b[39;49m,\u001b[39m7\u001b[39;49m,\u001b[39m8\u001b[39;49m,\u001b[39m9\u001b[39;49m,\u001b[39m10\u001b[39;49m)\n",
      "Cell \u001b[1;32mIn[28], line 4\u001b[0m, in \u001b[0;36madd_all3\u001b[1;34m(*args)\u001b[0m\n\u001b[0;32m      2\u001b[0m s\u001b[39m=\u001b[39m\u001b[39m0\u001b[39m\n\u001b[0;32m      3\u001b[0m \u001b[39mfor\u001b[39;00m i \u001b[39min\u001b[39;00m args:\n\u001b[1;32m----> 4\u001b[0m     \u001b[39mfor\u001b[39;00m j \u001b[39min\u001b[39;00m i:\n\u001b[0;32m      5\u001b[0m         s \u001b[39m+\u001b[39m\u001b[39m=\u001b[39mj\n\u001b[0;32m      6\u001b[0m     \u001b[39mreturn\u001b[39;00m s\n",
      "\u001b[1;31mTypeError\u001b[0m: 'int' object is not iterable"
     ]
    }
   ],
   "source": [
    "\"\"\" TypeError: 'int' object is not iterable \"\"\"\n",
    "# add_all3(1,2,3,4,5,6,7,8,9,10)"
   ]
  },
  {
   "cell_type": "code",
   "execution_count": 30,
   "metadata": {},
   "outputs": [
    {
     "data": {
      "text/plain": [
       "55"
      ]
     },
     "execution_count": 30,
     "metadata": {},
     "output_type": "execute_result"
    }
   ],
   "source": [
    "def add_all4(*args): # *args 튜플을 리스트로 받는 법\n",
    "    temp = 0\n",
    "    for i in range(len(args)) :\n",
    "        if type(args[i]) == list:\n",
    "            for j in args[i] :\n",
    "                temp += j\n",
    "        else :\n",
    "            temp += args[i]\n",
    "    return temp\n",
    "add_all4(1,2,3,4,5,6,7,8,9,10)"
   ]
  },
  {
   "cell_type": "code",
   "execution_count": 33,
   "metadata": {},
   "outputs": [
    {
     "data": {
      "text/plain": [
       "120"
      ]
     },
     "execution_count": 33,
     "metadata": {},
     "output_type": "execute_result"
    }
   ],
   "source": [
    "''' 팩토리얼(Factorial)을 구하시오. ( ex) 5! = 120)\n",
    "1 부터 시작하여 어떤 범위에 있는 모든 정수를 곱하는 것.'''\n",
    "\n",
    "def fact(n): #재귀적으로 하지 않은 것.\n",
    "    f=1 #곱을 계산할 변수의 초깃값\n",
    "    for i in range(1,n+1): #1부터 n까지 반복\n",
    "        f = f*i #곱셈연산\n",
    "    return f\n",
    "fact(5)"
   ]
  },
  {
   "cell_type": "code",
   "execution_count": 34,
   "metadata": {},
   "outputs": [
    {
     "name": "stdout",
     "output_type": "stream",
     "text": [
      "120\n"
     ]
    }
   ],
   "source": [
    "def fact(n): # 재귀적으로 하는 것\n",
    "    if n<=1: #n이 1이하이면 종료조건\n",
    "        return 1\n",
    "    return n*fact(n-1)\n",
    "print(fact(5))"
   ]
  },
  {
   "attachments": {},
   "cell_type": "markdown",
   "metadata": {},
   "source": [
    "- 팩토리얼 구하기(재귀)\n",
    "- 참고 : (https://velog.io/@joo4438/python-%ED%8C%A9%ED%86%A0%EB%A6%AC%EC%96%BC-%EA%B5%AC%ED%95%98%EA%B8%B0%EC%9E%AC%EA%B7%80)"
   ]
  },
  {
   "cell_type": "code",
   "execution_count": 39,
   "metadata": {},
   "outputs": [
    {
     "name": "stdout",
     "output_type": "stream",
     "text": [
      "대기번호 1번 : 펭수\n",
      "대기번호 2번 : 뽀로로\n",
      "대기번호 3번 : 뚝딱이\n",
      "대기번호 4번 : 텔레토비\n"
     ]
    }
   ],
   "source": [
    "''' pop quiz! 문제를 먼저 풀어보자. 여기는 동네 유명한 빵집이다.\n",
    "사람들에게 먼저 온 순서대로 번호표를 나누어주려고 한다.\n",
    "번호표를 나누어주는 함수를 작성해보자.\n",
    "- 함수는 사람이름으로 되어 있는 리스트를 받아서\n",
    "\"대기번호 x번: 사람이름\"을 화면에 출력하고 (번호표, 사람이름)을\n",
    "원소로 이루어진 리스트를 반환한다.\n",
    "input : list\n",
    "output : list '''\n",
    "\n",
    "people = ['펭수','뽀로로','뚝딱이','텔레토비']\n",
    "\n",
    "def func1(line):\n",
    "    new_lines = []\n",
    "    i=1 #대기번호를 트래킹하는 변수 i\n",
    "    for x in line:\n",
    "        print('대기번호 %d번 : %s' %(i,x))\n",
    "        new_lines.append((i,x))\n",
    "        i +=1 #별도로 업데이트를 해줘야 함.\n",
    "    return new_lines\n",
    "# func1(people)\n",
    "lines = func1(people)"
   ]
  },
  {
   "cell_type": "code",
   "execution_count": 50,
   "metadata": {},
   "outputs": [
    {
     "name": "stdout",
     "output_type": "stream",
     "text": [
      "대기번호 0번 : 펭수\n",
      "대기번호 1번 : 뽀로로\n",
      "대기번호 2번 : 뚝딱이\n",
      "대기번호 3번 : 텔레토비\n"
     ]
    },
    {
     "data": {
      "text/plain": [
       "[(1, '펭수'), (2, '뽀로로'), (3, '뚝딱이'), (4, '텔레토비')]"
      ]
     },
     "execution_count": 50,
     "metadata": {},
     "output_type": "execute_result"
    }
   ],
   "source": [
    "def func1(line): # enumerate\n",
    "    new_lines = []\n",
    "    for idx,val in enumerate(line):\n",
    "        print('대기번호 %d번 : %s' %(idx,val))\n",
    "        new_lines.append((idx+1,val))\n",
    "    return new_lines\n",
    "func1(people)"
   ]
  },
  {
   "attachments": {},
   "cell_type": "markdown",
   "metadata": {},
   "source": [
    "- enumerate(열거하다)  \n",
    "    반복 가능한 객체의 인덱스와 원소에 함께 접근할 수 있는 함수."
   ]
  },
  {
   "cell_type": "code",
   "execution_count": 43,
   "metadata": {},
   "outputs": [
    {
     "name": "stdout",
     "output_type": "stream",
     "text": [
      "(0, 'a')\n",
      "(1, 'b')\n",
      "(2, 'c')\n"
     ]
    }
   ],
   "source": [
    "lst = ['a','b','c']\n",
    "for x in enumerate(lst):\n",
    "    print(x)"
   ]
  },
  {
   "cell_type": "code",
   "execution_count": 44,
   "metadata": {},
   "outputs": [
    {
     "name": "stdout",
     "output_type": "stream",
     "text": [
      "(0, 'a')\n",
      "(1, 'b')\n",
      "(2, 'c')\n",
      "(3, 'd')\n"
     ]
    }
   ],
   "source": [
    "lst1 = 'abcd'\n",
    "for x in enumerate(lst1):\n",
    "    print(x)"
   ]
  },
  {
   "attachments": {},
   "cell_type": "markdown",
   "metadata": {},
   "source": [
    "- zip()  \n",
    "반복가능한 객체들을(2개 이상) 병렬적으로 묶어주는 함수.  \n",
    "각 원소들을 튜플의 형식으로 묶어줌."
   ]
  },
  {
   "cell_type": "code",
   "execution_count": 51,
   "metadata": {},
   "outputs": [
    {
     "name": "stdout",
     "output_type": "stream",
     "text": [
      "(1, 'one')\n",
      "(2, 'two')\n",
      "(3, 'three')\n",
      "(4, 'four')\n"
     ]
    }
   ],
   "source": [
    "str_list = ['one','two','three','four']\n",
    "num_list = [1,2,3,4]\n",
    "\n",
    "for i in zip(num_list,str_list):\n",
    "    print(i)"
   ]
  },
  {
   "attachments": {},
   "cell_type": "markdown",
   "metadata": {},
   "source": [
    "- lambda/ 한 줄을 실행한 결과 값이 바로 반환값이 됨.\n",
    "- lambda는 식 형태로 되어 있어서 lambda expression(람다 표현식)라고도 불림\n",
    "- 람다는 익명 함수로서 함수를 간편하게 작성할 수 있게 해줌\n",
    "- python3에서 사용이 권장되지는 않지만 머신러닝이나 데이터 분석시 많이 사용됨"
   ]
  },
  {
   "cell_type": "code",
   "execution_count": 53,
   "metadata": {},
   "outputs": [
    {
     "name": "stdout",
     "output_type": "stream",
     "text": [
      "4\n"
     ]
    }
   ],
   "source": [
    "def plus_two(num):\n",
    "    return num + 2\n",
    "a = 2\n",
    "b = plus_two(a)\n",
    "print(b) # 4"
   ]
  },
  {
   "cell_type": "code",
   "execution_count": 55,
   "metadata": {},
   "outputs": [
    {
     "name": "stdout",
     "output_type": "stream",
     "text": [
      "4\n"
     ]
    }
   ],
   "source": [
    "lambda x : x +2 # 위의 코드를 lambda로 바꾼 것\n",
    "func2 = lambda x : x + 2\n",
    "c = func2(2)\n",
    "print(c) # 4"
   ]
  },
  {
   "attachments": {},
   "cell_type": "markdown",
   "metadata": {},
   "source": [
    "- map()\n",
    "- 리스트, 튜플 스트링 등 자료형 각각의 원소에 동일한 함수를 적용"
   ]
  },
  {
   "cell_type": "code",
   "execution_count": 56,
   "metadata": {},
   "outputs": [
    {
     "name": "stdout",
     "output_type": "stream",
     "text": [
      "[1, 4, 9, 16, 25]\n"
     ]
    }
   ],
   "source": [
    "items = [1,2,3,4,5]\n",
    "squared = []\n",
    "for i in items :\n",
    "    squared.append(i*i)\n",
    "print(squared)"
   ]
  },
  {
   "cell_type": "code",
   "execution_count": 57,
   "metadata": {},
   "outputs": [
    {
     "name": "stdout",
     "output_type": "stream",
     "text": [
      "[1, 4, 9, 16, 25]\n"
     ]
    }
   ],
   "source": [
    "squared_map = list(map(lambda x : x**2, items)) # 위와 같음\n",
    "print(squared_map) # [1,4,9,16,25] "
   ]
  },
  {
   "cell_type": "code",
   "execution_count": 59,
   "metadata": {},
   "outputs": [
    {
     "name": "stdout",
     "output_type": "stream",
     "text": [
      "['1', '24', '3', '6', '7']\n"
     ]
    }
   ],
   "source": [
    "''' lambda와 map을 이용하여 items의 요소들을 string(문자)으로\n",
    "바꾸는 것을 짜봅시다.'''\n",
    "items = [1, 24, 3, 6, 7]\n",
    "str_items = list(map(lambda x : str(x),items))\n",
    "print(str_items) # ['1', '24', '3', '6', '7']"
   ]
  },
  {
   "attachments": {},
   "cell_type": "markdown",
   "metadata": {},
   "source": [
    "- list comprehension\n",
    " - 0 ~ 9까지를 순서대로 가지고 있는 리스트를 만드세요"
   ]
  },
  {
   "cell_type": "code",
   "execution_count": 62,
   "metadata": {},
   "outputs": [
    {
     "name": "stdout",
     "output_type": "stream",
     "text": [
      "[0, 1, 2, 3, 4, 5, 6, 7, 8, 9]\n",
      "[0, 1, 2, 3, 4, 5, 6, 7, 8, 9]\n"
     ]
    }
   ],
   "source": [
    "list_1 = [0,1,2,3,4,5,6,7,8,9]\n",
    "print(list_1)\n",
    "list_2 = []\n",
    "for x in range(10):\n",
    "\tlist_2.append(x)\n",
    "print(list_2) # [0,1,2,3,4,5,6,7,8,9]"
   ]
  },
  {
   "cell_type": "code",
   "execution_count": 63,
   "metadata": {},
   "outputs": [
    {
     "name": "stdout",
     "output_type": "stream",
     "text": [
      "[0, 1, 2, 3, 4, 5, 6, 7, 8, 9]\n"
     ]
    }
   ],
   "source": [
    "lc_1 = [x for x in range(10)]\n",
    "print(lc_1) # [0,1,2,3,4,5,6,7,8,9]"
   ]
  },
  {
   "cell_type": "code",
   "execution_count": 66,
   "metadata": {},
   "outputs": [
    {
     "name": "stdout",
     "output_type": "stream",
     "text": [
      "[2, 4, 6, 8, 10, 12, 14, 16, 18]\n",
      "[3, 5, 4, 2, 3, 5, 6, 4, 2, 4, 7]\n"
     ]
    }
   ],
   "source": [
    "'''for 문\n",
    "quiz 1) 구구단 2단을 list comprehension을 이용하여 구현하고\n",
    "리스트를 화면에 출력해보자\n",
    "\n",
    "quiz 2) 다음의 문장을 분석해보자.\n",
    "\"코로나 바이러스를 예방하기 위해 사회적 거리두기를 실천합시다.\n",
    "마스크를 끼고 손씻기를 생활화합시다\" 라는 문장을 띄어쓰기별로 분석하려고 한다.\n",
    "띄어쓰기별로 문장을 나눈 후 각 요소의 길이를 리스트에 저장하라.\n",
    "(hint: 띄어쓰니느 split 함수 사용)'''\n",
    "\n",
    "tables = [2*x for x in range(1,10)] # Quiz 1\n",
    "print(tables)"
   ]
  },
  {
   "cell_type": "code",
   "execution_count": 67,
   "metadata": {},
   "outputs": [
    {
     "name": "stdout",
     "output_type": "stream",
     "text": [
      "[3, 5, 4, 2, 3, 5, 6, 4, 2, 4, 7]\n"
     ]
    }
   ],
   "source": [
    "sentence = \"\"\"코로나 바이러스를 예방하기 위해 사회적 거리두기를 실천합시다.  \n",
    "마스크를 끼고 손씻기를 생활화합시다.\"\"\"\n",
    "len_sent = [len(s) for s in sentence.split()] # Quiz 2\n",
    "print(len_sent) "
   ]
  },
  {
   "cell_type": "code",
   "execution_count": 68,
   "metadata": {},
   "outputs": [
    {
     "name": "stdout",
     "output_type": "stream",
     "text": [
      "[10, 12, 14, 16, 18, 20]\n"
     ]
    }
   ],
   "source": [
    "\"\"\" 10부터 20까지의 숫자들중에서 짝수만을 담은 리스트를 만들어보자\"\"\"\n",
    "list3=[]\n",
    "for x in range(10,21):\n",
    "    if x%2==0:\n",
    "        list3.append(x)\n",
    "print(list3) # [10, 12, 14, 16, 18, 20]"
   ]
  },
  {
   "cell_type": "code",
   "execution_count": 69,
   "metadata": {},
   "outputs": [
    {
     "name": "stdout",
     "output_type": "stream",
     "text": [
      "[10, 12, 14, 16, 18, 20]\n"
     ]
    }
   ],
   "source": [
    "lc_2 = [x for x in range(10,21) if x%2 ==0]\n",
    "print(lc_2) # [10, 12, 14, 16, 18, 20]"
   ]
  },
  {
   "cell_type": "code",
   "execution_count": 71,
   "metadata": {},
   "outputs": [
    {
     "name": "stdout",
     "output_type": "stream",
     "text": [
      "[1, 4, 9, 16, 25, 36, 49]\n"
     ]
    }
   ],
   "source": [
    "\"\"\" for 문 + if 문\n",
    "quiz 1) 1부터 10의 제곱수 중, 50 이하인 수만 리스트에 저장하라.\n",
    "quiz 2) 다음의 문장을 분석해보자.\n",
    "\"코로나 바이러스를 예방하기 위해 사회적 거리두기를 실천합시다.\n",
    "외출 시에는 마스크를 끼고, 손씻기를 생활화합시다.\" 라는 문장을 띄어쓰기별로 분석하려고 한다.\n",
    "띄어쓰기별로 문장을 나눈 후 각 요소의 길이가 5미만인 것들만 리스트에 저장 \"\"\"\n",
    "\n",
    "lc_3 = [x**2 for x in range(1,11) if x**2<50]\n",
    "print(lc_3) # [1, 4, 9, 16, 25, 36, 49]"
   ]
  },
  {
   "cell_type": "code",
   "execution_count": 73,
   "metadata": {},
   "outputs": [
    {
     "name": "stdout",
     "output_type": "stream",
     "text": [
      "['코로나', '예방하기', '위해', '사회적', '외출', '시에는', '마스크를', '끼고,', '손씻기를', '생활화', '합시다.']\n"
     ]
    }
   ],
   "source": [
    "sentence = \"\"\"코로나 바이러스를 예방하기 위해 사회적 거리두기를 실천합시다.\n",
    "외출 시에는 마스크를 끼고, 손씻기를 생활화 합시다.\"\"\"\n",
    "lc_4 = [s for s in sentence.split() if len(s) <5]\n",
    "print(lc_4)"
   ]
  },
  {
   "cell_type": "code",
   "execution_count": 74,
   "metadata": {},
   "outputs": [
    {
     "name": "stdout",
     "output_type": "stream",
     "text": [
      "[1, 8, 9, 64, 25, 216, 49, 512, 81, 1000]\n"
     ]
    }
   ],
   "source": [
    "\"\"\" for + if + else\n",
    "1 부터 10 까지의 숫자들 중 홀수이면 어떤 제곱수를\n",
    "짝수이면 세제곱수를 담은 리스트를 만들어보자 \"\"\"\n",
    "\n",
    "list_4 =[]\n",
    "for x in range(1,11):\n",
    "    if x%2==1:\n",
    "        list_4.append(x**2)\n",
    "    else :\n",
    "        list_4.append(x**3)\n",
    "print(list_4) # [1, 8, 9, 64, 25, 216, 49, 512, 81, 1000]"
   ]
  },
  {
   "cell_type": "code",
   "execution_count": 75,
   "metadata": {},
   "outputs": [
    {
     "name": "stdout",
     "output_type": "stream",
     "text": [
      "[1, 8, 9, 64, 25, 216, 49, 512, 81, 1000]\n"
     ]
    },
    {
     "data": {
      "text/plain": [
       "[1, 8, 9, 64, 25, 216, 49, 512, 81, 1000]"
      ]
     },
     "execution_count": 75,
     "metadata": {},
     "output_type": "execute_result"
    }
   ],
   "source": [
    "print([x**2 if x%2==1 else x**3 for x in range(1,11)])\n",
    "# [1, 8, 9, 64, 25, 216, 49, 512, 81, 1000]"
   ]
  },
  {
   "cell_type": "code",
   "execution_count": 76,
   "metadata": {},
   "outputs": [
    {
     "name": "stdout",
     "output_type": "stream",
     "text": [
      "['HW', 'Ho', 'Hr', 'Hl', 'Hd', 'eW', 'eo', 'er', 'el', 'ed', 'lW', 'lo', 'lr', 'll', 'ld', 'lW', 'lo', 'lr', 'll', 'ld', 'oW', 'oo', 'or', 'ol', 'od']\n"
     ]
    }
   ],
   "source": [
    "\"\"\" for 문 + for 문 \"\"\"\n",
    "word1 = 'Hello'\n",
    "word2 = 'World'\n",
    "result = [i+j for i in word1 for j in word2]\n",
    "print(result)\n",
    "\"\"\" ['HW', 'Ho', 'Hr', 'Hl', 'Hd', 'eW', 'eo', 'er', 'el', 'ed',\n",
    " 'lW', 'lo', 'lr', 'll', 'ld', 'lW', 'lo', 'lr', 'll', 'ld',\n",
    " 'oW', 'oo', 'or', 'ol', 'od'] \"\"\" # 출력 값"
   ]
  },
  {
   "cell_type": "code",
   "execution_count": 77,
   "metadata": {},
   "outputs": [
    {
     "data": {
      "text/plain": [
       "[17, 41, 37, 41, 24, 41, 34, 41]"
      ]
     },
     "execution_count": 77,
     "metadata": {},
     "output_type": "execute_result"
    }
   ],
   "source": [
    "\"\"\" for 문 + if 문\n",
    "quiz 1) 40 이하의 숫자는 5를 더하고,\n",
    "40 초과의 숫자는 41로 바꾸어 리스트로 저장하고, 리스트를 출력하라.\n",
    "\n",
    "quiz 2) 커트라인이 60점일 때, 사람이름과 통과여부를 리스트로 담아서 출력하라.\n",
    "이름과 통과여부는 튜플로 묶여있는 자료이다. \"\"\"\n",
    "\n",
    "list_5 = [12,67,32,48,19,57,29,49] # 1번\n",
    "lc_6 = [x+5 if x<=40 else 41 for x in list_5]\n",
    "lc_6"
   ]
  },
  {
   "cell_type": "code",
   "execution_count": 78,
   "metadata": {},
   "outputs": [
    {
     "name": "stdout",
     "output_type": "stream",
     "text": [
      "[('보라돌이', True), ('뚜비', False), ('나나', True), ('뽀', True)]\n"
     ]
    }
   ],
   "source": [
    "students = {\"보라돌이\":61, \"뚜비\":35, \"나나\":78,\"뽀\":88} # 2번\n",
    "\n",
    "result = [(name,True) if score>60 else (name, False)for name,score in students.items()]\n",
    "print(result)\n",
    "\n",
    "\"\"\" 조건이 2개 이상이면 for 가 뒤로 간다, 조건이 1개 이면 for 뒤에 조건을 쓴다 \"\"\""
   ]
  },
  {
   "attachments": {},
   "cell_type": "markdown",
   "metadata": {},
   "source": [
    "- 선형대수학(linear Algebra)\n",
    "- 선형성(linearity)\n",
    "- 벡터(vector)\n",
    "- 스칼라(Scalar) : 크기만 있고 방향이 없는 물리량, 즉 방향성을 가지지 않는 성분.\n",
    "- 벡터 : 크기와 방향이 있는 물리량, 즉 크기에 방향성을 함께 고려하여야 설명이 가능한  \n",
    "물리량이다. 물리량 중 변위, 속도, 가속도, 힘, 운동량, 충격량, 전,자기장 등은 벡터량이다\n",
    "- An ordered list of numbers\n",
    "- dx1 행/ 열   (트랜스포지 1xd)\n",
    "- 벡터의 기본연산  \n",
    "두 벡터를 차례로 따라 이동한 벡터의 끝지점만 가리키는 벡터가 있다면  \n",
    "그 벡터가 벡터의 합  \n",
    "수치적으로 벡터의 합을 연산하라면, 각 차원(자리)의 값들을 더해주면 그 것이 결과 벡터"
   ]
  },
  {
   "attachments": {},
   "cell_type": "markdown",
   "metadata": {},
   "source": [
    "- 행렬\n",
    "- 수 또는 변수 등의 일련의 개체들을 행(row)과 열(Column)에 맞추어 직사각형 모형으로  \n",
    "순서 있게 배열하여 괄호[]로 묶은 것.\n",
    "- 괄호 안의 개체와 같이 행렬을 구성하는 요소 보통 문자 aij,bij, cij 등으로 나타냄\n",
    "- (i행 j열의 원소)\n",
    "- 행(Row) 행렬의 가로줄\n",
    "- 열(Column) 행렬의 세로줄"
   ]
  },
  {
   "attachments": {},
   "cell_type": "markdown",
   "metadata": {},
   "source": [
    "- 행렬의 상등\n",
    "- 두 행렬 A 와 B의 행의 개수와 열의 개수가 같을 때, 이 두 행렬은 \"같은꼴\""
   ]
  },
  {
   "attachments": {},
   "cell_type": "markdown",
   "metadata": {},
   "source": []
  },
  {
   "cell_type": "code",
   "execution_count": null,
   "metadata": {},
   "outputs": [],
   "source": [
    "[x**2 if x%2==1 else x**3 for x in range(1,11)]"
   ]
  },
  {
   "cell_type": "code",
   "execution_count": 41,
   "metadata": {},
   "outputs": [
    {
     "name": "stdout",
     "output_type": "stream",
     "text": [
      "[1, 8, 9, 64, 25, 216, 49, 512, 81, 1000]\n"
     ]
    }
   ],
   "source": [
    "list_4 =[]\n",
    "for x in range(1,11):\n",
    "    if x%2==1:\n",
    "        list_4.append(x**2)\n",
    "    else :\n",
    "        list_4.append(x**3)\n",
    "print(list_4)"
   ]
  },
  {
   "cell_type": "code",
   "execution_count": null,
   "metadata": {},
   "outputs": [],
   "source": [
    "import numpy as np\n",
    "n = 1000000\n",
    "numpy_arr = np.arange(n)\n",
    "python_list = list(range(n))\n",
    "\n",
    "%%time\n",
    "python_list = [x**3+10 for x in python_list]\n",
    "\n",
    "%%timee\n",
    "numpy_arr = numpy_arr**3+10"
   ]
  },
  {
   "cell_type": "code",
   "execution_count": null,
   "metadata": {},
   "outputs": [],
   "source": [
    "%%time\n",
    "python_list = [x**3+10 for x in python_list]"
   ]
  },
  {
   "cell_type": "code",
   "execution_count": null,
   "metadata": {},
   "outputs": [],
   "source": [
    "%%timee\n",
    "numpy_arr = numpy_arr**3+10"
   ]
  },
  {
   "cell_type": "code",
   "execution_count": null,
   "metadata": {},
   "outputs": [],
   "source": [
    "from time import time\n",
    "python_list = [x**3+10 for x in python_list]\n",
    "time()"
   ]
  },
  {
   "cell_type": "code",
   "execution_count": null,
   "metadata": {},
   "outputs": [],
   "source": [
    "import time\n",
    "start = time.time() #시작시간 저장\n",
    "python_list = [x**3+10 for x in python_list]\n",
    "print('time:', time.time() - start)"
   ]
  },
  {
   "cell_type": "code",
   "execution_count": null,
   "metadata": {},
   "outputs": [],
   "source": [
    "import numpy"
   ]
  },
  {
   "cell_type": "code",
   "execution_count": null,
   "metadata": {},
   "outputs": [],
   "source": [
    "A = [1,2,3,4]\n",
    "\n",
    "a = np.array(A, np.int)\n",
    "print(type(a))\n",
    "print(a)"
   ]
  },
  {
   "cell_type": "code",
   "execution_count": null,
   "metadata": {},
   "outputs": [],
   "source": [
    "arr = np.array([[1,2,3],[4,5,6]])\n",
    "arr"
   ]
  },
  {
   "cell_type": "code",
   "execution_count": null,
   "metadata": {},
   "outputs": [],
   "source": [
    "arr+arr"
   ]
  },
  {
   "cell_type": "code",
   "execution_count": null,
   "metadata": {},
   "outputs": [],
   "source": [
    "list_1 = [1,2,3]\n",
    "list_1 + list_1"
   ]
  },
  {
   "cell_type": "code",
   "execution_count": null,
   "metadata": {},
   "outputs": [],
   "source": [
    "arr_1 = np.array([1,2,3])\n",
    "arr_1+arr_1"
   ]
  },
  {
   "cell_type": "code",
   "execution_count": null,
   "metadata": {},
   "outputs": [],
   "source": []
  }
 ],
 "metadata": {
  "kernelspec": {
   "display_name": "Python 3",
   "language": "python",
   "name": "python3"
  },
  "language_info": {
   "codemirror_mode": {
    "name": "ipython",
    "version": 3
   },
   "file_extension": ".py",
   "mimetype": "text/x-python",
   "name": "python",
   "nbconvert_exporter": "python",
   "pygments_lexer": "ipython3",
   "version": "3.9.13"
  },
  "orig_nbformat": 4
 },
 "nbformat": 4,
 "nbformat_minor": 2
}
