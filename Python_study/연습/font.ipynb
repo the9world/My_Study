{
 "cells": [
  {
   "cell_type": "code",
   "execution_count": null,
   "metadata": {},
   "outputs": [],
   "source": [
    "# # 한글 깨짐 방지 ( VS code )\n",
    "# # 그래프의 한글이 깨지니까 한글이 되게 해보자\n",
    "# import matplotlib.pyplot as plt\n",
    " \n",
    "# # 한글 폰트 사용을 위해서 세팅\n",
    "# from matplotlib import font_manager, rc\n",
    "# font_path = \"C:/Windows/Fonts/NGULIM.TTF\"\n",
    "# font = font_manager.FontProperties(fname=font_path).get_name()\n",
    "# rc('font', family=font)"
   ]
  },
  {
   "cell_type": "code",
   "execution_count": null,
   "metadata": {},
   "outputs": [],
   "source": [
    "# 한글 깨짐 방지 ( Colab )\n",
    "# !sudo apt-get install -y fonts-nanum\n",
    "# !sudo fc-cache -fv\n",
    "# !rm ~/.cache/matplotlib -rf\n",
    "# 완료 후 런타임 재 시작"
   ]
  },
  {
   "cell_type": "code",
   "execution_count": null,
   "metadata": {},
   "outputs": [],
   "source": [
    "# import matplotlib.pyplot as plt\n",
    "\n",
    "# plt.rc('font', family='NanumBarunGothic') "
   ]
  }
 ],
 "metadata": {
  "language_info": {
   "name": "python"
  },
  "orig_nbformat": 4
 },
 "nbformat": 4,
 "nbformat_minor": 2
}
