{
 "cells": [
  {
   "attachments": {},
   "cell_type": "markdown",
   "metadata": {},
   "source": [
    "- np.random.seed \n",
    "    - seed를 통한 난수 생성\n",
    "- np.random.randint\n",
    "    - 균일 분포의 정수 난수 1개 생성  \n",
    "- np.random.rand\n",
    "    - 0부터 1사이의 균일 분포에서 난수 matrix array생성\n",
    "- np.random.randn\n",
    "    - 가우시안 = 표준 정규 분포에서 난수 matrix array생성\n",
    "- np.random.shuffle\n",
    "    - 기존의 데이터의 순서 바꾸기\n",
    "- np.random.choice\n",
    "    - 기존의 데이터에서 sampling\n",
    "- np.unique\n",
    "    - 데이터에서 중복된 값을 제거하고 중복되지 않는 값의 리스트를 출력\n",
    "- np.bincount\n",
    "    - 발생하지 않은 사건에 대해서도 카운트를 해준다"
   ]
  },
  {
   "cell_type": "code",
   "execution_count": null,
   "metadata": {},
   "outputs": [],
   "source": [
    "def func(string, unit=2):\n",
    "    i=0\n",
    "    while i<len(string):\n",
    "        print(string[i:i+unit]) \n",
    "        i += unit # 0~3, 3~6, 6~9"
   ]
  },
  {
   "cell_type": "code",
   "execution_count": null,
   "metadata": {},
   "outputs": [],
   "source": [
    "func('테스트를 위한 문장입니다.')"
   ]
  },
  {
   "cell_type": "code",
   "execution_count": null,
   "metadata": {},
   "outputs": [],
   "source": [
    "func('테스트를 위한 문장입니다.',3)"
   ]
  },
  {
   "cell_type": "code",
   "execution_count": null,
   "metadata": {},
   "outputs": [],
   "source": [
    "def test2(**asd): # 딕셔너리 중요한건 **\n",
    "    print(asd)"
   ]
  },
  {
   "cell_type": "code",
   "execution_count": null,
   "metadata": {},
   "outputs": [],
   "source": [
    "test2(a=1,b=2,c=3)"
   ]
  },
  {
   "cell_type": "code",
   "execution_count": null,
   "metadata": {},
   "outputs": [],
   "source": [
    "def add_all(*inputs):\n",
    "    s=0\n",
    "    for i in range(len(inputs)):\n",
    "        s +=inputs[i]\n",
    "    return s\n",
    "add_all(7,3,5,5)"
   ]
  },
  {
   "cell_type": "code",
   "execution_count": null,
   "metadata": {},
   "outputs": [],
   "source": [
    "def add_all2(*inputs):\n",
    "    return sum(inputs)\n",
    "add_all2(7,3,5,5)"
   ]
  },
  {
   "cell_type": "code",
   "execution_count": null,
   "metadata": {},
   "outputs": [],
   "source": [
    "add_all[0,10,20,30,40]"
   ]
  },
  {
   "cell_type": "code",
   "execution_count": 10,
   "metadata": {},
   "outputs": [
    {
     "data": {
      "text/plain": [
       "55"
      ]
     },
     "execution_count": 10,
     "metadata": {},
     "output_type": "execute_result"
    }
   ],
   "source": [
    "def add_all3(*args):\n",
    "    s=0\n",
    "    for i in args:\n",
    "        for j in i:\n",
    "            s +=j\n",
    "        return s\n",
    "add_all3([1,2,3,4,5,6,7,8,9,10])"
   ]
  },
  {
   "attachments": {},
   "cell_type": "markdown",
   "metadata": {},
   "source": [
    "파이썬에서 논리 연산자의 종류는 다음과 같습니다.\n",
    "and : 두 개의 피연산자가 모두 True일 때 True를 반환합니다. 그 외의 경우는 False를 반환합니다.  \n",
    "or : 두 개의 피연산자 중 하나 이상이 True일 때 True를 반환합니다. 그 외의 경우는 False를 반환합니다.  \n",
    "not : 피연산자가 True이면 False를, False이면 True를 반환합니다.  \n",
    "\n",
    "반면에, 파이썬에서 비트 연산자의 종류는 다음과 같습니다.\n",
    "& : 두 개의 피연산자의 각 비트를 AND 연산합니다. 예를 들어, 0b1010 & 0b1100은 0b1000을 반환합니다.  \n",
    "| : 두 개의 피연산자의 각 비트를 OR 연산합니다. 예를 들어, 0b1010 | 0b1100은 0b1110을 반환합니다.  \n",
    "^ : 두 개의 피연산자의 각 비트를 XOR 연산합니다. 예를 들어, 0b1010 ^ 0b1100은 0b0110을 반환합니다.  \n",
    "~ : 단항 연산자로, 피연산자의 각 비트를 반전시킵니다. 예를 들어, ~0b1010은 0b0101을 반환합니다.  \n",
    "<< : 왼쪽 시프트 연산자로, 첫 번째 피연산자의 비트를 두 번째 피연산자만큼 왼쪽으로 이동시킵니다. 예를 들어, 0b1010 << 2은 0b101000을 반환합니다.  \n",
    "\\>> : 오른쪽 시프트 연산자로, 첫 번째 피연산자의 비트를 두 번째 피연산자만큼 오른쪽으로 이동시킵니다. 예를 들어, 0b1010 >> 2은 0b0010을 반환합니다.  \n",
    "논리 연산자와 비트 연산자는 각각 다른 연산을 수행하므로, 사용하는 상황에 따라 적절하게 선택해야 합니다.  \n",
    "논리 연산자는 주로 불리언 값에 대해 사용되고, 비트 연산자는 정수 값에 대해 사용됩니다."
   ]
  },
  {
   "cell_type": "code",
   "execution_count": null,
   "metadata": {},
   "outputs": [],
   "source": []
  }
 ],
 "metadata": {
  "kernelspec": {
   "display_name": "Python 3",
   "language": "python",
   "name": "python3"
  },
  "language_info": {
   "codemirror_mode": {
    "name": "ipython",
    "version": 3
   },
   "file_extension": ".py",
   "mimetype": "text/x-python",
   "name": "python",
   "nbconvert_exporter": "python",
   "pygments_lexer": "ipython3",
   "version": "3.9.13"
  },
  "orig_nbformat": 4
 },
 "nbformat": 4,
 "nbformat_minor": 2
}
