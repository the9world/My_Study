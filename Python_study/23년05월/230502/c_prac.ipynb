{
 "cells": [
  {
   "attachments": {},
   "cell_type": "markdown",
   "metadata": {},
   "source": [
    "p.229) 연습문제"
   ]
  },
  {
   "cell_type": "code",
   "execution_count": 1,
   "metadata": {},
   "outputs": [],
   "source": [
    "def func(string, unit=2):\n",
    "    i=0\n",
    "    while i<len(string):\n",
    "        print(string[i:i+unit]) \n",
    "        i += unit # 0~3, 3~6, 6~9"
   ]
  },
  {
   "cell_type": "code",
   "execution_count": 2,
   "metadata": {},
   "outputs": [
    {
     "name": "stdout",
     "output_type": "stream",
     "text": [
      "테스\n",
      "트를\n",
      " 위\n",
      "한 \n",
      "문장\n",
      "입니\n",
      "다.\n"
     ]
    }
   ],
   "source": [
    "func('테스트를 위한 문장입니다.')"
   ]
  },
  {
   "cell_type": "code",
   "execution_count": 3,
   "metadata": {},
   "outputs": [
    {
     "name": "stdout",
     "output_type": "stream",
     "text": [
      "테스트\n",
      "를 위\n",
      "한 문\n",
      "장입니\n",
      "다.\n"
     ]
    }
   ],
   "source": [
    "func('테스트를 위한 문장입니다.',3)"
   ]
  },
  {
   "cell_type": "code",
   "execution_count": 4,
   "metadata": {},
   "outputs": [],
   "source": [
    "def test2(**asd): # 딕셔너리 중요한건 **\n",
    "    print(asd)"
   ]
  },
  {
   "cell_type": "code",
   "execution_count": 5,
   "metadata": {},
   "outputs": [
    {
     "name": "stdout",
     "output_type": "stream",
     "text": [
      "{'a': 1, 'b': 2, 'c': 3}\n"
     ]
    }
   ],
   "source": [
    "test2(a=1,b=2,c=3)"
   ]
  },
  {
   "cell_type": "code",
   "execution_count": 6,
   "metadata": {},
   "outputs": [
    {
     "data": {
      "text/plain": [
       "20"
      ]
     },
     "execution_count": 6,
     "metadata": {},
     "output_type": "execute_result"
    }
   ],
   "source": [
    "def add_all(*inputs):\n",
    "    s=0\n",
    "    for i in range(len(inputs)):\n",
    "        s +=inputs[i]\n",
    "    return s\n",
    "add_all(7,3,5,5)"
   ]
  },
  {
   "cell_type": "code",
   "execution_count": 7,
   "metadata": {},
   "outputs": [
    {
     "data": {
      "text/plain": [
       "20"
      ]
     },
     "execution_count": 7,
     "metadata": {},
     "output_type": "execute_result"
    }
   ],
   "source": [
    "def add_all2(*inputs):\n",
    "    return sum(inputs)\n",
    "add_all2(7,3,5,5)"
   ]
  },
  {
   "cell_type": "code",
   "execution_count": null,
   "metadata": {},
   "outputs": [
    {
     "data": {
      "text/plain": [
       "55"
      ]
     },
     "execution_count": 76,
     "metadata": {},
     "output_type": "execute_result"
    }
   ],
   "source": [
    "def add_all3(*args):\n",
    "    s=0\n",
    "    for i in args:\n",
    "        for j in i:\n",
    "            s +=j\n",
    "        return s\n",
    "add_all3([1,2,3,4,5,6,7,8,9,10])"
   ]
  },
  {
   "cell_type": "code",
   "execution_count": 20,
   "metadata": {},
   "outputs": [
    {
     "name": "stdout",
     "output_type": "stream",
     "text": [
      "Myname is hoan\n",
      "반갑다\n"
     ]
    }
   ],
   "source": [
    "def hi(**kwargs):\n",
    "    for key, value in kwargs.items():\n",
    "        if 'ant' in kwargs.keys():\n",
    "            print(\"반갑다\")\n",
    "        else: print(\"{0} is {1}\".format(key,value))\n",
    "hi(Myname ='hoan')\n",
    "hi(ant ='ㅁ')"
   ]
  },
  {
   "attachments": {},
   "cell_type": "markdown",
   "metadata": {},
   "source": [
    "\n",
    "    \"    - seed를 통한 난수 생성\\n\",\n",
    "    \"- np.random.randint\\n\",\n",
    "    \"    - 균일 분포의 정수 난수 1개 생성  \\n\",\n",
    "    \"- np.random.rand\\n\",\n",
    "    \"    - 0부터 1사이의 균일 분포에서 난수 matrix array생성\\n\",\n",
    "    \"- np.random.randn\\n\",\n",
    "    \"    - 가우시안 = 표준 정규 분포에서 난수 matrix array생성\\n\",\n",
    "    \"- np.random.shuffle\\n\",\n",
    "    \"    - 기존의 데이터의 순서 바꾸기\\n\",\n",
    "    \"- np.random.choice\\n\",\n",
    "    \"    - 기존의 데이터에서 sampling\\n\",\n",
    "    \"- np.unique\\n\",\n",
    "    \"    - 데이터에서 중복된 값을 제거하고 중복되지 않는 값의 리스트를 출력\\n\",\n",
    "    \"- np.bincount\\n\",\n",
    "    \"    - 발생하지 않은 사건에 대해서도 카운트를 해준다\""
   ]
  }
 ],
 "metadata": {
  "kernelspec": {
   "display_name": "Python 3",
   "language": "python",
   "name": "python3"
  },
  "language_info": {
   "codemirror_mode": {
    "name": "ipython",
    "version": 3
   },
   "file_extension": ".py",
   "mimetype": "text/x-python",
   "name": "python",
   "nbconvert_exporter": "python",
   "pygments_lexer": "ipython3",
   "version": "3.9.13"
  },
  "orig_nbformat": 4
 },
 "nbformat": 4,
 "nbformat_minor": 2
}
