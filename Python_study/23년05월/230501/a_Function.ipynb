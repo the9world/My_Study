{
 "cells": [
  {
   "attachments": {},
   "cell_type": "markdown",
   "metadata": {},
   "source": [
    "- 가변공간 Python\n",
    "- 비교 연산자\n",
    "- ID 함수"
   ]
  },
  {
   "attachments": {},
   "cell_type": "markdown",
   "metadata": {},
   "source": [
    "- 3 & 4 # & : 논리 연산자 X -> 비트 연산자 O  \n",
    "0011 & 011 -> 0000"
   ]
  },
  {
   "cell_type": "code",
   "execution_count": 13,
   "metadata": {},
   "outputs": [
    {
     "data": {
      "text/plain": [
       "3"
      ]
     },
     "execution_count": 13,
     "metadata": {},
     "output_type": "execute_result"
    }
   ],
   "source": [
    "3 and 4 # 4\n",
    "3 or 4 # 3"
   ]
  },
  {
   "attachments": {},
   "cell_type": "markdown",
   "metadata": {},
   "source": [
    "- 같은 값을 복사하고 싶으면?"
   ]
  },
  {
   "cell_type": "code",
   "execution_count": 8,
   "metadata": {},
   "outputs": [
    {
     "data": {
      "text/plain": [
       "(2887136859904, 2887136742528)"
      ]
     },
     "execution_count": 8,
     "metadata": {},
     "output_type": "execute_result"
    }
   ],
   "source": [
    "a= [5,4,3,2,1]\n",
    "b=a[:]\n",
    "id(a),id(b) # 2887136619264, 2887136841984"
   ]
  },
  {
   "cell_type": "code",
   "execution_count": 36,
   "metadata": {},
   "outputs": [
    {
     "data": {
      "text/plain": [
       "([1, 2, 3, 4, 5], [5, 4, 3, 2, 1])"
      ]
     },
     "execution_count": 36,
     "metadata": {},
     "output_type": "execute_result"
    }
   ],
   "source": [
    "a.sort()\n",
    "a"
   ]
  },
  {
   "cell_type": "code",
   "execution_count": 37,
   "metadata": {},
   "outputs": [
    {
     "data": {
      "text/plain": [
       "([5, 4, 3, 2, 1], [1, 2, 3, 4, 5])"
      ]
     },
     "execution_count": 37,
     "metadata": {},
     "output_type": "execute_result"
    }
   ],
   "source": [
    "b"
   ]
  },
  {
   "cell_type": "code",
   "execution_count": 10,
   "metadata": {},
   "outputs": [
    {
     "data": {
      "text/plain": [
       "(2887135835264, 2887135974784)"
      ]
     },
     "execution_count": 10,
     "metadata": {},
     "output_type": "execute_result"
    }
   ],
   "source": [
    "a = [5,4,3,2,1]\n",
    "b = a.copy()\n",
    "id(a), id(b) # 1707619930816, 1707618760064"
   ]
  },
  {
   "cell_type": "code",
   "execution_count": 12,
   "metadata": {},
   "outputs": [
    {
     "data": {
      "text/plain": [
       "[1, 2, 3, 4, 5]"
      ]
     },
     "execution_count": 12,
     "metadata": {},
     "output_type": "execute_result"
    }
   ],
   "source": [
    "a.sort()\n",
    "a"
   ]
  },
  {
   "cell_type": "code",
   "execution_count": 13,
   "metadata": {},
   "outputs": [
    {
     "data": {
      "text/plain": [
       "[5, 4, 3, 2, 1]"
      ]
     },
     "execution_count": 13,
     "metadata": {},
     "output_type": "execute_result"
    }
   ],
   "source": [
    "b"
   ]
  },
  {
   "cell_type": "code",
   "execution_count": 14,
   "metadata": {},
   "outputs": [
    {
     "data": {
      "text/plain": [
       "[1, 2, 3, 4, 5]"
      ]
     },
     "execution_count": 14,
     "metadata": {},
     "output_type": "execute_result"
    }
   ],
   "source": [
    "a"
   ]
  },
  {
   "attachments": {},
   "cell_type": "markdown",
   "metadata": {},
   "source": [
    "- 비교 연산자"
   ]
  },
  {
   "cell_type": "code",
   "execution_count": 44,
   "metadata": {},
   "outputs": [
    {
     "name": "stdout",
     "output_type": "stream",
     "text": [
      "True\n",
      "True\n"
     ]
    }
   ],
   "source": [
    "a = 10 ; b = 10\n",
    "print(a == b) ; print(a is b) # 둘다 True"
   ]
  },
  {
   "cell_type": "code",
   "execution_count": 43,
   "metadata": {},
   "outputs": [
    {
     "name": "stdout",
     "output_type": "stream",
     "text": [
      "True\n",
      "False\n"
     ]
    }
   ],
   "source": [
    "a= 257 ; b = 257 # is 는 -5~256 넘어가면 False\n",
    "print(a == b) ; print(a is b)"
   ]
  },
  {
   "cell_type": "code",
   "execution_count": 45,
   "metadata": {},
   "outputs": [
    {
     "data": {
      "text/plain": [
       "True"
      ]
     },
     "execution_count": 45,
     "metadata": {},
     "output_type": "execute_result"
    }
   ],
   "source": [
    "a = -5 ; b= -5\n",
    "a is b  # True"
   ]
  },
  {
   "cell_type": "code",
   "execution_count": 46,
   "metadata": {},
   "outputs": [
    {
     "data": {
      "text/plain": [
       "False"
      ]
     },
     "execution_count": 46,
     "metadata": {},
     "output_type": "execute_result"
    }
   ],
   "source": [
    "a = -6 ; b= -6\n",
    "a is b # False"
   ]
  },
  {
   "cell_type": "code",
   "execution_count": 47,
   "metadata": {},
   "outputs": [
    {
     "name": "stdout",
     "output_type": "stream",
     "text": [
      "[1, 2, 3, 4, 5]\n",
      "[1, 2, 3, 4, 5]\n",
      "False\n"
     ]
    }
   ],
   "source": [
    "a = [1,2,3,4,5]\n",
    "b=a[:]\n",
    "print(a) ; print(b) ; print(a is b)"
   ]
  },
  {
   "cell_type": "code",
   "execution_count": 53,
   "metadata": {},
   "outputs": [
    {
     "name": "stdout",
     "output_type": "stream",
     "text": [
      "[1, 2, 3, 4, 5]\n",
      "[1, 2, 3, 4, 5]\n",
      "False\n"
     ]
    }
   ],
   "source": [
    "import copy\n",
    "a = [1,2,3,4,5]\n",
    "b = copy.deepcopy(a)\n",
    "print(a) ; print(b) ; print(a is b)"
   ]
  },
  {
   "attachments": {},
   "cell_type": "markdown",
   "metadata": {},
   "source": [
    "- 논리 연산자 : aAND 연산자, 두개의 조건식이 모두 True일 때, True를 리턴\n",
    "- 비트 연산자 : &는 비트 연산자, 두개의 이진수에서 동일한 위치의 bit가 1인 것들만 1로 계산"
   ]
  },
  {
   "cell_type": "code",
   "execution_count": 55,
   "metadata": {},
   "outputs": [
    {
     "name": "stdout",
     "output_type": "stream",
     "text": [
      "a si even\n",
      "7\n",
      "13\n"
     ]
    }
   ],
   "source": [
    "a = 100\n",
    "if a > 0 and (a%2)==0:\n",
    "    print('a si even')\n",
    "print(5 and 7) ; print(7 and 13) # 7 , 13"
   ]
  },
  {
   "cell_type": "code",
   "execution_count": 58,
   "metadata": {},
   "outputs": [
    {
     "name": "stdout",
     "output_type": "stream",
     "text": [
      "5\n",
      "5\n"
     ]
    }
   ],
   "source": [
    "print(7 & 13) # 0111 & 1101 = 5\n",
    "print(13 & 7) # 0111 & 1101 = 5"
   ]
  },
  {
   "attachments": {},
   "cell_type": "markdown",
   "metadata": {},
   "source": [
    "- b 로 a 를 나눈 나머지가 3초과면 실패, 3이면 무승부, 3미만 성공을 출력"
   ]
  },
  {
   "cell_type": "code",
   "execution_count": 59,
   "metadata": {},
   "outputs": [
    {
     "name": "stdout",
     "output_type": "stream",
     "text": [
      "실패\n"
     ]
    }
   ],
   "source": [
    "a = 34\n",
    "b = 4\n",
    "if  a % b > 3 : \n",
    "  print (\"성공\")\n",
    "elif a % b == 3:\n",
    "  print (\"무승부\")\n",
    "else :\n",
    "  print(\"실패\")"
   ]
  },
  {
   "attachments": {},
   "cell_type": "markdown",
   "metadata": {},
   "source": [
    "- 태어난 연도를 계산하여 학교 종류를 맞추는 프로그램  \n",
    "당신이 태어난 연도를 입력하세요 : 2000 : 당신은 학생이 아닙니다  \n",
    "나이는 현재년도 - 태어난 년도 +1 로 계산  \n",
    "26세 이하 20세 이상이면 \"대학생\", 20세 미만 17세 이상이면 \"고등학생\",  \n",
    "17세 미만 14세 이상이면 \"중학생\", 14세 미만 8세 이상이면 \"초등학생\",  \n",
    "그 외의 경우는 \"학생이 아닙니다\" 출력"
   ]
  },
  {
   "cell_type": "code",
   "execution_count": 63,
   "metadata": {},
   "outputs": [
    {
     "name": "stdout",
     "output_type": "stream",
     "text": [
      "대학생\n"
     ]
    }
   ],
   "source": [
    "birth_year = int(input('당신의 태어난 년도를 입력해주세요.'))\n",
    "\n",
    "age = 2023 - birth_year+1\n",
    "\n",
    "message = \"\"\n",
    "if 20<=age and age<=26:\n",
    "    message=\"대학생\"\n",
    "elif 17<=age and age<20:\n",
    "    message=\"고등학생\"\n",
    "elif 14<=age and age<17:\n",
    "    message=\"중학생\"\n",
    "elif 8<=age and age<14:\n",
    "    message=\"초등학생\"\n",
    "else:\n",
    "    print('학생이 아닙니다.')\n",
    "print(message)   "
   ]
  },
  {
   "attachments": {},
   "cell_type": "markdown",
   "metadata": {},
   "source": [
    "- 양의 정수 하나를 입력 받아 이 정수가 2의 배수인지 3의 배수인지 작성하시오."
   ]
  },
  {
   "cell_type": "code",
   "execution_count": 64,
   "metadata": {},
   "outputs": [
    {
     "name": "stdout",
     "output_type": "stream",
     "text": [
      "어느 것으로도 나누어지지 않습니다.\n"
     ]
    }
   ],
   "source": [
    "num = int(input('정수를 하나 입력하세요.'))\n",
    "\n",
    "if num %2==0:\n",
    "    if num%3==0:\n",
    "        print('2와 3으로 나누어 집니다.')\n",
    "    else : \n",
    "        print('2로 나누어집니다.')\n",
    "elif num %3==0:\n",
    "    print('3으로 나누어 집니다.')\n",
    "else:\n",
    "    print('어느 것으로도 나누어지지 않습니다.')"
   ]
  },
  {
   "cell_type": "code",
   "execution_count": 66,
   "metadata": {},
   "outputs": [
    {
     "name": "stdout",
     "output_type": "stream",
     "text": [
      "2\n",
      "4\n",
      "6\n",
      "8\n",
      "10\n"
     ]
    }
   ],
   "source": [
    "i = 1\n",
    "while i <= 10 : # 10이 i보다 크다면 if문\n",
    "  if i % 2 == 0: # i 를 2로 나눴을 때 남은 수가 0이면 출력 \n",
    "    print(i)\n",
    "  i += 1 # i % 2 ==0 아니라면 i에 +=1 하고 while으로 (최초 i=1에서 i=2가 됨)"
   ]
  },
  {
   "cell_type": "code",
   "execution_count": 67,
   "metadata": {},
   "outputs": [
    {
     "name": "stdout",
     "output_type": "stream",
     "text": [
      "5\n",
      "4\n",
      "3\n",
      "2\n",
      "1\n",
      "0\n"
     ]
    }
   ],
   "source": [
    "for count in range(5, -1, -1): # 5부터 0까지 -1 씩 내려감\n",
    "      print(count)"
   ]
  },
  {
   "cell_type": "code",
   "execution_count": 68,
   "metadata": {},
   "outputs": [
    {
     "name": "stdout",
     "output_type": "stream",
     "text": [
      "55\n"
     ]
    }
   ],
   "source": [
    "a=0\n",
    "for i in range(1,11): # i에 1부터 10까지 한 번씩 반복 순회\n",
    "    a = a+i # 최초 a=0에서 a(0)+i(1) 되어 2번째엔 a가 1이 되고 3번째엔 1+2=3, 이걸 10번\n",
    "print(a) # 1~10 까지 수를 차례로 합함  answer : 55"
   ]
  },
  {
   "attachments": {},
   "cell_type": "markdown",
   "metadata": {},
   "source": [
    "1. 계단형, n을 입력받아, n 만큼 줄을 만들고 계단 형태로 별 찍기\n",
    "2. 삼각형, 왼쪽 아래가 직각인 n만큼의 높이를 가지는 직각삼각형  \n",
    "2-1. 오른쪽 아래가 직각인 n만큼의 높이를 가지는 직각삼각형\n",
    "3. 역삼각형, 왼쪽 위가 직각인 n 만큼의 높이를 가지는 직각삼각형  \n",
    "3-1. 오른쪽 위의 직각인 n만큼의 높이를 가지는 직각삼각형\n",
    "4. 피라미드, n 만큼의 높이를 가지는 홀수개의 별 피라미드"
   ]
  },
  {
   "cell_type": "code",
   "execution_count": 71,
   "metadata": {},
   "outputs": [
    {
     "name": "stdout",
     "output_type": "stream",
     "text": [
      " ******\n",
      "  ******\n",
      "   ******\n",
      "    ******\n",
      "     ******\n",
      "      ******\n"
     ]
    }
   ],
   "source": [
    "n = int(input('n:')) # 1번 계단형 / n : 출력할 별의 갯수\n",
    "for i in range(n): # 입력 받은 숫자만큼 순회\n",
    "   print(' '*i,end=' ') # end 끝에 한번 \" \"공백 sep과 비슷한 기능(구분자 사용)\n",
    "   print('*'*n)"
   ]
  },
  {
   "cell_type": "code",
   "execution_count": 74,
   "metadata": {},
   "outputs": [
    {
     "name": "stdout",
     "output_type": "stream",
     "text": [
      "*\n",
      "**\n",
      "***\n",
      "****\n",
      "*****\n",
      "******\n",
      "*******\n",
      "********\n",
      "*********\n",
      "**********\n"
     ]
    }
   ],
   "source": [
    "n = int(input('n:')) # 2번 삼각형\n",
    "for i in range(1,n+1): # 별 1개부터 입력 받은 수 +1 까지 순회\n",
    "  print('*'*i) # 1개부터 n+1개까지"
   ]
  },
  {
   "cell_type": "code",
   "execution_count": 79,
   "metadata": {},
   "outputs": [
    {
     "name": "stdout",
     "output_type": "stream",
     "text": [
      "    \n",
      "*\n",
      "   \n",
      "**\n",
      "  \n",
      "***\n",
      " \n",
      "****\n",
      "\n",
      "*****\n"
     ]
    }
   ],
   "source": [
    "n = int(input('n:')) # 2-1번 역 삼각형\n",
    "for i in range(1, n+1): \n",
    "  print(' '*(n-i), end='') # 공백 * n-i(첨엔 많고 점점 줄음), end 줄바꿈 \n",
    "  print('*'*i) # 띄어쓰기 후 별갯수 # 다시"
   ]
  },
  {
   "cell_type": "code",
   "execution_count": 80,
   "metadata": {},
   "outputs": [
    {
     "name": "stdout",
     "output_type": "stream",
     "text": [
      "*****\n",
      "****\n",
      "***\n",
      "**\n",
      "*\n"
     ]
    }
   ],
   "source": [
    "n = int(input('n:')) # 3번 역삼각형\n",
    "for i in range(n): \n",
    "  print('*'*(n-i)) # 최초 별 n개-i(0) 출력 후 순회 할수록 i 값이 커져서 별이 줄음"
   ]
  },
  {
   "cell_type": "code",
   "execution_count": 81,
   "metadata": {},
   "outputs": [
    {
     "name": "stdout",
     "output_type": "stream",
     "text": [
      "*****\n",
      " ****\n",
      "  ***\n",
      "   **\n",
      "    *\n"
     ]
    }
   ],
   "source": [
    "n = int(input('n:')) # 3-1 번 / 2-1 역방향\n",
    "for i in range(n):\n",
    "  print(' '*i, end='')\n",
    "  print('*'*(n-i))"
   ]
  },
  {
   "cell_type": "code",
   "execution_count": 82,
   "metadata": {},
   "outputs": [
    {
     "name": "stdout",
     "output_type": "stream",
     "text": [
      "    *\n",
      "   ***\n",
      "  *****\n",
      " *******\n",
      "*********\n"
     ]
    }
   ],
   "source": [
    "n = int(input('n:')) # 4 번 (피라미드)\n",
    "for i in range(1,n+1):\n",
    "  print(' '*(n-i), end='')\n",
    "  print('*'*(2*i-1))"
   ]
  },
  {
   "cell_type": "code",
   "execution_count": 83,
   "metadata": {},
   "outputs": [
    {
     "name": "stdout",
     "output_type": "stream",
     "text": [
      "30\n",
      "60\n",
      "90\n",
      "200\n",
      "-70\n",
      "50\n"
     ]
    }
   ],
   "source": [
    "\"\"\" (1) x = [3, 6, 9, 20, -7, 5] 의 값의 모든 요소에 10을 곱한뒤 출력하세요.\"\"\"\n",
    "\n",
    "x = [3,6,9,20,-7,5] # 1번\n",
    "for i in x: \n",
    "    print (i*10) # x 의 값들을 i에 순회 시켜 10씩 곱함"
   ]
  },
  {
   "cell_type": "code",
   "execution_count": 84,
   "metadata": {},
   "outputs": [
    {
     "name": "stdout",
     "output_type": "stream",
     "text": [
      "[30, 60, 90, 200, -70, 50]\n"
     ]
    }
   ],
   "source": [
    "\"\"\" 심화 : 출력과 리스트 x 의 값에도 모두 10을 곱해주세요.\"\"\"\n",
    "for i in range(0, len(x)): # 1번 심화\n",
    "    x[i] = x[i]*10 # 1번과 같으나 x list의 값들도 바뀜\n",
    "print(x)"
   ]
  },
  {
   "cell_type": "code",
   "execution_count": 101,
   "metadata": {},
   "outputs": [
    {
     "name": "stdout",
     "output_type": "stream",
     "text": [
      "math : 80\n",
      "science : 90\n",
      "english : 30\n"
     ]
    }
   ],
   "source": [
    "\"\"\" (2) y = {\"math\":70, \"science\":80, \"english\": 20}의\n",
    "값의 모든 요소에 10을 더한 뒤 출력하세요.\"\"\"\n",
    "\n",
    "y = {\"math\":70, \"science\":80, \"english\": 20} # 2번\n",
    "for key in y: # y 요소들을 변수 key에 담았음 \" \": 값들\n",
    "    val = y[key] # val에 y의 key를 담음\n",
    "    print('%s : %d' %(key,val+10)) # %s는 keys %d는 values+10"
   ]
  },
  {
   "cell_type": "code",
   "execution_count": 96,
   "metadata": {},
   "outputs": [
    {
     "name": "stdout",
     "output_type": "stream",
     "text": [
      "math : 80\n",
      "science : 90\n",
      "english : 30\n"
     ]
    },
    {
     "data": {
      "text/plain": [
       "{'math': 80, 'science': 90, 'english': 30}"
      ]
     },
     "execution_count": 96,
     "metadata": {},
     "output_type": "execute_result"
    }
   ],
   "source": [
    "\"\"\" 심화 : 출력과 딕셔너리 y의 값에도 모두 10을 더해주세요.\"\"\"\n",
    "\n",
    "y = {\"math\":70, \"science\":80, \"english\": 20} # 2번 심화\n",
    "for key in y:\n",
    "    val = y[key]\n",
    "    y[key] = y[key]+10 # y 내부 딕셔너리도 +10씩 되었음\n",
    "    print('%s : %d' %(key,val+10))"
   ]
  },
  {
   "cell_type": "code",
   "execution_count": null,
   "metadata": {},
   "outputs": [],
   "source": [
    "\"\"\" 숫자를 입력받고 입력받은 정수의 구구단을 출력하세요.\"\"\"\n",
    "\n"
   ]
  },
  {
   "cell_type": "code",
   "execution_count": 99,
   "metadata": {},
   "outputs": [
    {
     "name": "stdout",
     "output_type": "stream",
     "text": [
      "숫자\n",
      "숫자가 큽니다\n",
      "숫자가 큽니다\n",
      "숫자가 큽니다\n",
      "숫자가 작습니다\n",
      "숫자가 작습니다\n",
      "숫자가 작습니다\n",
      "숫자가 큽니다\n",
      "숫자가 작습니다\n",
      "숫자가 작습니다\n",
      "정답입니다. 입력한 숫자는 24입니다.\n"
     ]
    }
   ],
   "source": [
    "\"\"\"숫자를 입력받아 1~100까지의 임의의 값을 맞추는 문제\"\"\"\n",
    "\n",
    "import random\n",
    "true_value = random.randint(1,100)\n",
    "input_value= 9999 # 임의의 값 할당\n",
    "print('숫자')\n",
    "while true_value != input_value :\n",
    "    input_value = int(input())\n",
    "    if input_value>true_value: # 사용자의 입력값이 true_value 클때\n",
    "        print('숫자가 큽니다')\n",
    "    else :\n",
    "        print('숫자가 작습니다') # 사용자의 입력값이 true_value보다 작을 때\n",
    "print(f\"정답입니다. 입력한 숫자는 {true_value}입니다.\")"
   ]
  },
  {
   "cell_type": "code",
   "execution_count": 100,
   "metadata": {},
   "outputs": [
    {
     "name": "stdout",
     "output_type": "stream",
     "text": [
      "['school', 'science', 'mountain']\n"
     ]
    }
   ],
   "source": [
    "''' word = [\"school\", \"game\", \"piano\", \"science\", \"hotel\", \"mountain\"]\n",
    "중 글자수가 6글자 이상인 문자를 모아 새로운 리스트를 생성하세요'''\n",
    "\n",
    "word = [\"school\", \"game\", \"piano\", \"science\", \"hotel\", \"mountain\"]\n",
    "b= list() # 새로운 리스트 생성\n",
    "for i in range(len(word)):\n",
    "    if len(word[i]) >= 6:\n",
    "        b.append(word[i])\n",
    "print(b)"
   ]
  },
  {
   "cell_type": "code",
   "execution_count": 102,
   "metadata": {},
   "outputs": [
    {
     "name": "stdout",
     "output_type": "stream",
     "text": [
      "5의 배수\n",
      "5의 배수\n",
      "5의 배수\n",
      "5의 배수\n",
      "5의 배수\n",
      "5의 배수\n",
      "5의 배수\n",
      "5의 배수\n",
      "5의 배수\n",
      "5의 배수\n",
      "5의 배수\n",
      "5의 배수\n",
      "5의 배수\n",
      "5의 배수\n",
      "5의 배수\n",
      "5의 배수\n",
      "5의 배수\n",
      "5의 배수\n",
      "5의 배수\n",
      "5의 배수\n",
      "5의 배수\n",
      "5의 배수\n",
      "5의 배수\n",
      "5의 배수\n",
      "5의 배수\n",
      "5의 배수\n",
      "5의 배수\n",
      "5의 배수\n",
      "5의 배수\n",
      "5의 배수\n",
      "5의 배수\n",
      "5의 배수\n",
      "5의 배수\n",
      "5의 배수\n",
      "5의 배수\n",
      "5의 배수\n",
      "5의 배수\n",
      "5의 배수\n",
      "5의 배수\n",
      "5의 배수\n",
      "5의 배수\n",
      "5의 배수\n",
      "5의 배수\n",
      "5의 배수\n",
      "5의 배수\n",
      "5의 배수\n",
      "5의 배수\n",
      "5의 배수\n",
      "5의 배수\n",
      "5의 배수\n",
      "5의 배수\n",
      "5의 배수\n",
      "5의 배수\n",
      "5의 배수\n",
      "5의 배수\n",
      "5의 배수\n",
      "5의 배수\n",
      "5의 배수\n",
      "5의 배수\n",
      "5의 배수\n",
      "5의 배수\n",
      "5의 배수\n",
      "5의 배수\n",
      "5의 배수\n",
      "5의 배수\n",
      "5의 배수\n",
      "5의 배수\n",
      "5의 배수\n",
      "5의 배수\n",
      "5의 배수\n",
      "5의 배수\n",
      "5의 배수\n",
      "5의 배수\n",
      "5의 배수\n",
      "5의 배수\n",
      "5의 배수\n",
      "5의 배수\n",
      "5의 배수\n",
      "5의 배수\n",
      "5의 배수\n",
      "5의 배수\n",
      "5의 배수\n",
      "5의 배수\n",
      "5의 배수\n",
      "5의 배수\n",
      "5의 배수\n",
      "5의 배수\n",
      "5의 배수\n",
      "5의 배수\n",
      "5의 배수\n",
      "5의 배수\n",
      "5의 배수\n",
      "5의 배수\n",
      "5의 배수\n",
      "5의 배수\n",
      "5의 배수\n",
      "5의 배수\n",
      "5의 배수\n",
      "5의 배수\n",
      "5의 배수\n"
     ]
    }
   ],
   "source": [
    "\"\"\" 1부터 100까지 숫자 중\n",
    "3과 5의 공배수일 경우 \"3과 5의 공배수\"\n",
    "나머지 숫자중 3의 배수일 경우 \"3의 공배수\"\n",
    "나머지 숫자중 5의 배수일 경우 \"5의 배수\"\n",
    "모두 해당되지 않는 경우 그냥 숫자를 출력하세요 \"\"\"\n",
    "\n",
    "b = int(input('정수를 입력하세요.'))\n",
    "if b<=0:\n",
    "    print('음수는 정의하지 않음.')\n",
    "else:    \n",
    "    for a in range(1,b+1):\n",
    "        if a%3==0 and a%5==0: \n",
    "            print('3과 5의 공배수')\n",
    "        elif a%3==0:\n",
    "            print('3의 배수')\n",
    "        elif a%5==0:\n",
    "            print('5의 배수')\n",
    "        elif 1<=a<=100:\n",
    "            print(a)\n",
    "        else:\n",
    "            print('1과 100사이 숫자가 아닙니다.')"
   ]
  },
  {
   "cell_type": "code",
   "execution_count": 106,
   "metadata": {},
   "outputs": [
    {
     "name": "stdout",
     "output_type": "stream",
     "text": [
      "12\n"
     ]
    }
   ],
   "source": [
    "\"\"\" 사용자로부터 숫자를 계속 입력받다가\n",
    "s or S 를 입력하면 입력 받은 수의 합계를 출력\"\"\"\n",
    "\n",
    "c = 0\n",
    "d = 1\n",
    "while (d==1):\n",
    "    a = input()\n",
    "    if a=='s' or a=='S':\n",
    "        d=0\n",
    "    else:\n",
    "        a = int(a)\n",
    "        c+=a\n",
    "print(c)"
   ]
  },
  {
   "cell_type": "code",
   "execution_count": 107,
   "metadata": {},
   "outputs": [
    {
     "name": "stdout",
     "output_type": "stream",
     "text": [
      "[40.0, 66.0, 54.0, 63.333333333333336, 90.0]\n"
     ]
    }
   ],
   "source": [
    "''' 사람 별 평균을 구하라. (나중에 딕셔너리도 해보자) '''\n",
    "kor_score = [39,69,29,100,80]\n",
    "math_score = [32,59,85,30,90]\n",
    "eng_score = [49,70,48,60,100]\n",
    "\n",
    "mideterm_score = [kor_score, math_score,eng_score]\n",
    "\n",
    "student_score = [0,0,0,0,0]\n",
    "i=0\n",
    "for subject in mideterm_score: #kor,math,eng 과목 선택\n",
    "    for score in subject: #과목 선택후\n",
    "        student_score[i]+=score #각 학생마다 개별로 교과 점수를 저장\n",
    "        # print(subject,score,'i:',i,student_score) #kor->math->eng \n",
    "        i+=1 #학생 index 구분\n",
    "    i=0 # 과목이 바뀔 때 학생 인덱스\n",
    "else:\n",
    "    a,b,c,d,e = student_score  #학생별 점수를 unpacking\n",
    "    student_average = [a/3,b/3,c/3,d/3,e/3]\n",
    "    print(student_average)"
   ]
  },
  {
   "cell_type": "code",
   "execution_count": 4,
   "metadata": {},
   "outputs": [
    {
     "name": "stdout",
     "output_type": "stream",
     "text": [
      "나눗셈. 0.33333333333333331\n"
     ]
    }
   ],
   "source": [
    "\"\"\" 포맷팅 플루팅 에러, 16까진 가능 17자리부터 에러\"\"\"\n",
    "print('나눗셈. {:.17f}'.format(1/3))"
   ]
  },
  {
   "attachments": {},
   "cell_type": "markdown",
   "metadata": {},
   "source": [
    "- 류영표 강사님 GitHub 주소: (https://github.com/Youngpyoryu/Lecture_Note)"
   ]
  }
 ],
 "metadata": {
  "kernelspec": {
   "display_name": "Python 3",
   "language": "python",
   "name": "python3"
  },
  "language_info": {
   "codemirror_mode": {
    "name": "ipython",
    "version": 3
   },
   "file_extension": ".py",
   "mimetype": "text/x-python",
   "name": "python",
   "nbconvert_exporter": "python",
   "pygments_lexer": "ipython3",
   "version": "3.9.13"
  },
  "orig_nbformat": 4
 },
 "nbformat": 4,
 "nbformat_minor": 2
}
