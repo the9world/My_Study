{
 "cells": [
  {
   "attachments": {},
   "cell_type": "markdown",
   "metadata": {},
   "source": [
    "   \\# 데이터 프레임의 컬럼이름을 보여주고,   \n",
    "    # 유저가 컬럼을 선택하면  \n",
    "    # 해당 컬럼만 가져와서 데이터프레임을 보여주고 싶다.  \n",
    "    column_list= st.multiselect('컬럼을 선택하세요', df.columns)  \n",
    "    print(column_list)    \n",
    "    # 선택한 컬럼으로 데이터프레임을 보여주고 싶다.  "
   ]
  },
  {
   "attachments": {},
   "cell_type": "markdown",
   "metadata": {},
   "source": []
  },
  {
   "attachments": {},
   "cell_type": "markdown",
   "metadata": {},
   "source": [
    "오늘 수업: app4.py(line57~)~ app10.py\n",
    "\n",
    "### 파이차트(Pie Chart) 라이브러리\n",
    "- plotly : Plotly Python Graphing Library\n",
    "- altair viz : Vega-Altair  \n",
    "    가상환경(base)에 설치 확인\n"
   ]
  },
  {
   "attachments": {},
   "cell_type": "markdown",
   "metadata": {},
   "source": [
    "선택한 컬럼으로 데이터프레임을 보여주고 싶다.\n",
    "\n",
    "```python\n",
    "column_list = ['description', 'points', 'price']\n",
    "reviews[column_list]\n",
    "\n",
    "# 데이터 프레임의 컬럼이름을 보여주고,\n",
    "# 유저가 컬럼을 선택하면\n",
    "# 해당 컬럼만 가져와서 데이터프레임을 보여주고 싶다.\n",
    "column_list= st.multiselect('컬럼을 선택하세요', df.columns)\n",
    "print(column_list)\n",
    "\n",
    "# 선택한 컬럼으로 데이터프레임을 보여주고 싶다.\n",
    "st.dataframe(df[column_list])\n",
    "```\n"
   ]
  },
  {
   "attachments": {},
   "cell_type": "markdown",
   "metadata": {},
   "source": [
    "m"
   ]
  },
  {
   "attachments": {},
   "cell_type": "markdown",
   "metadata": {},
   "source": []
  }
 ],
 "metadata": {
  "language_info": {
   "name": "python"
  },
  "orig_nbformat": 4
 },
 "nbformat": 4,
 "nbformat_minor": 2
}
