{
 "cells": [
  {
   "attachments": {},
   "cell_type": "markdown",
   "metadata": {},
   "source": [
    "init: https://wikidocs.net/89  \n",
    "numpy : http://bigdata.dongguk.ac.kr/lectures/Python/_book/numpy.html  \n",
    "numpy2 : https://analytics4everything.tistory.com/60  \n",
    "numpy random : https://nittaku.tistory.com/443  \n",
    "pandas framedata loc label : https://wikidocs.net/151085  \n",
    "Python normalize : https://guru.tistory.com/72  \n",
    "data frame transform : https://wikidocs.net/152703  \n",
    "matplotlib box plot : https://wikidocs.net/141959"
   ]
  },
  {
   "attachments": {},
   "cell_type": "markdown",
   "metadata": {},
   "source": []
  }
 ],
 "metadata": {
  "language_info": {
   "name": "python"
  },
  "orig_nbformat": 4
 },
 "nbformat": 4,
 "nbformat_minor": 2
}
