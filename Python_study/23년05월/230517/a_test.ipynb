{
 "cells": [
  {
   "attachments": {},
   "cell_type": "markdown",
   "metadata": {},
   "source": [
    "Big-O  \n",
    "Big-O 표기법별 대표 알고리즘  \n",
    "• O(1): Operation push and pop on stack  \n",
    "• O(logn): Binary Tree  \n",
    "• O(n): for loop  \n",
    "• O(n log n): Quick sort, Merge Sort, Heap Sort  \n",
    "• O(n2): Double for loop, Insert Sort, Bubble Sort, Selection Sort  \n",
    "• O(n2): Fibonacci Sequence  \n",
    "• O(n!): 외판원 문제(Travelling Saleman problem)"
   ]
  },
  {
   "attachments": {},
   "cell_type": "markdown",
   "metadata": {},
   "source": [
    "corr() 사용법 다시 찾기  \n",
    "결측값 변경 : https://wikidocs.net/153209  \n",
    "행열 삭제,  \n",
    "youtube : 고려대학교 산업경영공학부 DSBA 연구실  \n",
    "부스트코스(무료 강의) : https://www.boostcourse.org/"
   ]
  },
  {
   "cell_type": "code",
   "execution_count": 101,
   "metadata": {},
   "outputs": [
    {
     "name": "stdout",
     "output_type": "stream",
     "text": [
      "hi hellow bye\n",
      "HI HELLOW BYE\n",
      "Hi hellow bye\n",
      "Hi Hellow Bye\n",
      "HI HeLloW ByE\n",
      "['hi', 'hElLOw', 'bYe']\n",
      "2\n",
      "------------구분선----------\n",
      "True\n",
      "False\n",
      "나도 고등학교\n",
      "나도고교\n",
      "2\n",
      "--나도고등학교-\n"
     ]
    }
   ],
   "source": [
    "hi = \"hi hElLOw bYe\" ; num1= (1.23456)\n",
    "print(hi.lower()) # hi hellow 소문자로 변환  \n",
    "print(hi.upper()) # HI HELLOW 대문자로 변환 \n",
    "print(hi.capitalize()) # Hi hellow 첫 글자만 대문자로 변환\n",
    "print(hi.title()) # Hi Hellow 각 문자의 첫글자만 대문자로\n",
    "print(hi.swapcase()) # HI HeLloW 대소문자를 뒤바꿈\n",
    "print(hi.split()) # ['hi', 'hElLOw'm 'bYe'] # 문자열을 나누고 리스트로 반환 split(기준)\n",
    "print(hi.count('h')) # 2, h가 몇개 있는지 반환\n",
    "print(\"------------구분선----------\")\n",
    "s= \"나도고등학교\" ; s1= \"...나도 고등학교...\"; s2=\"몰라\"\n",
    "print(s.startswith(\"나도\")) # True, \"나도\"로 시작하는지\n",
    "print(s.endswith(\"초등학교\")) # False, \"초등학교\"로 끝나는지\n",
    "print(s1.strip('.')) # \"나도 고등학교\" 앞 뒤로 불필요한 부분 삭제 (조건)\n",
    "print(s.replace(\"고등학교\", \"고교\")) # \"나도고교\" (\"기존문자\", \"바꿀문자\")\n",
    "print(s.find(\"고등\")) # 3, 해당 단어 인덱스 시작 위치를 반환\n",
    "print(s.center(9, '-')) # --나도고등학교- (총 길이, '추가할문자') 10이면 --나도고등학교--\n"
   ]
  },
  {
   "cell_type": "code",
   "execution_count": 106,
   "metadata": {},
   "outputs": [
    {
     "name": "stdout",
     "output_type": "stream",
     "text": [
      "1 + 2 = 몰라..3\n",
      "       365\n",
      "나는 1.2346 긴 숫자가 싫다\n",
      "다닌다 나도고등학교.. 나이는 몰라\n",
      "['하나', '두울', '세엣', '네엣']\n",
      "['하나', '두울', '삼', '네엣']\n",
      "['하나', '두울', '삼', '네엣', '다섯']\n",
      "['두울', '삼', '네엣', '다섯']\n",
      "['두울', '삼', '네엣', '다섯', '나', '도', '고', '등', '학', '교']\n"
     ]
    }
   ],
   "source": [
    "print(\"1 + 2 = {1}..{0}\".format(1+2, s2)) # 1+2=몰라..3, *args, **kwargs\n",
    "print(\"{:10}\".format(365)) # .4f 소수점 출력 반올림 {:>10} < ^ !> !<\n",
    "print(f\"나는 {num1:.4f} 긴 숫자가 싫다\")\n",
    "print(f'다닌다 {s}.. 나이는 {s2}') # f-string\n",
    "print(\"%s을 %d개 주세요.\"%(\"아이스크림\", 10)) # 아이스크림을 10개 주세요.\n",
    "# %s : 문자열 , %d : 정수 , %f : 실수 로 삽입될 부분을 지정하고,\n",
    "# 뒤에 %(값1, 값2, 값3)의 형태로 붙여주면 된다. 데이터 형태를 미리 지정해야하므로\n",
    "# format보다 까다롭다. 그리고 출력문과 %(값) 사이에 콤마가 들어가지 않는다.\n",
    "\n",
    "ha = [\"하나\", \"두울\", \"세엣\", \"네엣\"] ; print(ha)\n",
    "ha[2]= \"삼\" ; print(ha) # 인덱스로 접근하여 수정 가능\n",
    "ha.append(\"다섯\") ; print(ha) # 요소 맨 뒤에 추가하기, 1개만 가능 []로 추가도 가능\n",
    "ha.remove(\"하나\") ; print(ha) # 특정요소 지우기\n",
    "ha.extend(s) ; print(ha) # 다른 리스트 합치기, 맨 뒤에 여러개 요소 추가 []로 추가도 가능\n",
    "print('S','E','P', sep='@') # S@E@P 문자열 사이에 @가 끼워넣어져 출력된다. 구분자는 @가 된다.\n",
    "# set() 중복삭제, 교집합,합집합,차집합\n",
    "# insert() 원하는 위치(인덱스)에 값 추가\n",
    "# pop() 원하는 위치(혹은 마지막) 값 지우기\n",
    "# clear() 변수 내의 모든 값 삭제\n",
    "# sort() 순서대로 정렬 오름차순\n",
    "# reverse() 순서 뒤집기(차순 아님 그냥 뒤집기)\n",
    "# copy() 리스트복사\n",
    "# count() 어떤 값이 몇개 있는지\n",
    "# index() 어떤 값이 어디에 있는지\n",
    "# 튜플: 읽기전용 리스트(수정불가)\n",
    "\n",
    "update([otehrs]) - 여러 원소(others)를 한번에 추가할 때 사용한다.\n",
    "discard(elem) - 원소 elem이 집합에 포함되어 있으면 제거한다.\n",
    "\n",
    "end옵션을 사용하면 그 뒤의 출력값과 이어서 출력한다. (즉, 줄바꿈을 하지 않게 된다.)\n",
    "print(\"I like\", end=\" \")\n",
    "print(\"money\") # I like money\n",
    "\n",
    "print(\"I like\", end=\" gold and \")\n",
    "print(\"money\") # I like gold and money\n",
    "sep와 비슷한 기능을 한다.(구분자를 사용할 수 있다)\n",
    "첫번째 출력문과, 두번째 출력문 사이에 end에 넣어준 문자열이 출력된다.\n",
    "\n",
    "\n",
    "\n",
    "# >>> \"{:7.2f}\".format(area)\n",
    "# '31415.93'\n",
    "\n",
    "# >>> \"{:011.2f}\".format(area)\n",
    "# '00031415.93'\n",
    "\n",
    "# https://justdoit709.tistory.com/37\n"
   ]
  },
  {
   "cell_type": "code",
   "execution_count": 121,
   "metadata": {},
   "outputs": [
    {
     "name": "stdout",
     "output_type": "stream",
     "text": [
      "(1, 2, 3)\n",
      "1\n",
      "[2, 3]\n",
      "(1, 2, 3, 4, 5)\n",
      "180\n",
      "75\n",
      "james 20\n",
      "john 21\n",
      "peter 15\n",
      "[2, 3, 4, 5, 6, 7, 8, 9]\n"
     ]
    }
   ],
   "source": [
    "# 함수의 호출, 반환에서도 튜플 패킹과 언패킹을 할 수 있다\n",
    "def make_tuple():\n",
    "    return 1, 2, 3\n",
    "nums = make_tuple() \n",
    "print(nums)  # (1,2,3)\n",
    "n1, *others = make_tuple() # 반환되는 튜플을 언패킹하여 저장할 수도 있다.\n",
    "print(n1) # 1\n",
    "print(others) # [2, 3]\n",
    "\n",
    "def hi1(*others):\n",
    "    print(others) # (1,2,3,4,5) -> 튜플 패킹\n",
    "hi1(1, 2, 3, 4, 5)\n",
    "\n",
    "def show(height, weight):\n",
    "    print(height)\n",
    "    print(weight)\n",
    "human = 180,75\n",
    "show(*human) # human에 담긴 값을 언패킹하여 각각 매개변수에 전달한다.\n",
    "\n",
    "data = [('james',20),('john',21),('peter',15)]\n",
    "for name,age in data:\n",
    "    print(name, age) # for문 언패킹\n",
    "    \n",
    "numbers=(1,2,3,4,5,6,7,8,9,10)\n",
    "(one, *others, ten) = numbers ; print(others) # 1, 2~9, 10\n",
    "# (*others, nine, ten) 1~8, 9, 10\n",
    "# 튜플 형태의 변수의 요소 여러개를 다른 변수에 담으면 리스트로 바뀜? "
   ]
  },
  {
   "cell_type": "code",
   "execution_count": 1,
   "metadata": {},
   "outputs": [
    {
     "name": "stdout",
     "output_type": "stream",
     "text": [
      "x: ['Tick', 'Tock', 'Song', ['Ping', 'Pong']]\n",
      "x: ['Tick', 'Tock', 'Song', ['Ping', 'Pong'], 'Ping', 'Pong']\n",
      "x: ['Tick', 'Tock', 'Song', [['Ping', 'Pong']]]\n",
      "x: ['Tick', 'Tock', 'Song', [['Ping', 'Pong']], ['Ping', 'Pong']]\n",
      "x: ['Tick', 'Tock', 'Song', 'Ping']\n",
      "x: ['Tick', 'Tock', 'Song', 'Ping', 'P', 'i', 'n', 'g']\n"
     ]
    },
    {
     "data": {
      "text/plain": [
       "['Tick', 'Tock', 'Song', 'P', 'i', 'n', 'g']"
      ]
     },
     "execution_count": 1,
     "metadata": {},
     "output_type": "execute_result"
    }
   ],
   "source": [
    "x= ['Tick','Tock','Song']  \n",
    "y= ['Ping','Pong']  \n",
    "x.append(y); print(\"x:\", x); ['Tick','Tock','Song', ['Ping','Pong']]  \n",
    "x.extend(y); print('x:', x); ['Tick','Tock','Song', 'Ping','Pong']  \n",
    "# append는 x 그 자체를 원소로 넣고 extend는 iterable의 각 항목들을 넣음\n",
    "\n",
    "x= ['Tick','Tock','Song']  \n",
    "y= [['Ping','Pong']]  \n",
    "x.append(y); print(\"x:\", x); ['Tick','Tock','Song', [['Ping','Pong']]]  \n",
    "x.extend(y); print('x:', x); ['Tick','Tock','Song', ['Ping','Pong']]  \n",
    "# append는 x 그 자체를 원소로 넣고 extend는 가장 바깥쪽 iterable을 넣습니다\n",
    "\n",
    "x= ['Tick','Tock','Song']  \n",
    "y= 'Ping'\n",
    "x.append(y); print(\"x:\", x); ['Tick','Tock','Song', 'Ping']  \n",
    "x.extend(y); print('x:', x); ['Tick','Tock','Song', 'P','i','n','g']\n",
    "# append는 x 그 자체를 원소로 넣고 extend는 문자열의 각 알파벳을 넣습니다"
   ]
  },
  {
   "cell_type": "code",
   "execution_count": 34,
   "metadata": {},
   "outputs": [
    {
     "name": "stdout",
     "output_type": "stream",
     "text": [
      "123456\n",
      "a123d456g\n"
     ]
    }
   ],
   "source": [
    "# re.sub함수로 여러 개의 문자열을 삭제 (replace * x)\n",
    "import re\n",
    "text = \"abc123def456ghi\"\n",
    "new_text = re.sub(r\"[a-z]\", \"\", text)\n",
    "print(new_text) # 123456\n",
    "new_text1 = re.sub(\"b|c|e|f|h|i\", \"\", text)\n",
    "print(new_text1) #a123d456g  (|로 문자구분 가능)"
   ]
  },
  {
   "cell_type": "code",
   "execution_count": 50,
   "metadata": {},
   "outputs": [
    {
     "name": "stdout",
     "output_type": "stream",
     "text": [
      "하이 위치: 18\n",
      "하이 위치: 24\n",
      "요는 몇개: 2\n",
      "my_string에 test는 몇번 들어감? 6\n"
     ]
    }
   ],
   "source": [
    "# string.find(substring,start,end) # start 사용 할 경우 조건이 충족하지 못하면 -1\n",
    "# find : 동일한 요소가 있다면 가장 앞 인덱스 위치를, rfind : 가장 뒤 인덱스 위치를 반환\n",
    "# index 함수도 인덱스 위치를 반환, 조건이 충족 못할 경우 Error\n",
    "# count 해당 변수 내에 요소 세기\n",
    "mystring = \"안녕 하세요 누구세요 나는 바이 하이 안녕 하이!\"\n",
    "print(\"하이 위치:\", mystring.find(\"하이\")) # 18, (\"하이\",15)라면 -1, # 문자열 인덱스를 알려줌\n",
    "print(\"하이 위치:\", mystring.rfind(\"하이\")) # 24\n",
    "print(\"요는 몇개:\", mystring.count('요')) # 2개\n",
    "\n",
    "# find 응용, test 총 갯수 세기\n",
    "my_string = \"test string test, test string testing, test string test string\"\n",
    "startIndex = 0\n",
    "count = 0\n",
    "for i in range(len(my_string)):\n",
    "    k = my_string.find('test', startIndex)\n",
    "    if(k != -1):\n",
    "        startIndex = k+1\n",
    "        count += 1\n",
    "        k = 0\n",
    "print(\"my_string에 test는 몇번 들어감?\", count) # test는 총 6번 들어감"
   ]
  },
  {
   "cell_type": "code",
   "execution_count": 27,
   "metadata": {},
   "outputs": [
    {
     "name": "stdout",
     "output_type": "stream",
     "text": [
      "['Hi', 'my', 'name', 'is', 'limcoing']\n",
      "['Hi', 'my', 'name', 'is', 'limcoing']\n",
      "Himynameislimcoing\n",
      "['Hi', 'my', 'name', 'is', 'limcoing']\n",
      "Hi-my-name-is-limcoing\n"
     ]
    }
   ],
   "source": [
    "# split, join\n",
    "\n",
    "str = \"Hi my name is limcoing\" \n",
    "splitted_str = str.split() \n",
    "print(splitted_str) # ['Hi', 'my', 'name', 'is', 'limcoing']\n",
    "# --------------------------\n",
    "str = \"Hi my name is limcoing\" \n",
    "splitted_str = str.split() \n",
    "print(splitted_str)  # ['Hi', 'my', 'name', 'is', 'limcoing'] \n",
    "joined_str = \"\".join(splitted_str) \n",
    "print(joined_str)  # Himynameislimcoing , 문자열을 사이를 붙히기만 함, \"\"가 비어 있어서\n",
    "# --------------------------\n",
    "str = \"Hi my name is limcoing\" \n",
    "splitted_str = str.split() \n",
    "print(splitted_str) # ['Hi', 'my', 'name', 'is', 'limcoing']\n",
    "joined_str = \"-\".join(splitted_str) \n",
    "print(joined_str) # Hi-my-name-is-limcoing 문자 사이에 특정 문자를 넣음 띄어쓰기도 가능\n",
    "# --------------------------"
   ]
  },
  {
   "cell_type": "code",
   "execution_count": 28,
   "metadata": {},
   "outputs": [
    {
     "name": "stdout",
     "output_type": "stream",
     "text": [
      "20\n",
      "5\n"
     ]
    }
   ],
   "source": [
    "n = 10\n",
    "print(n<<1)  #10을 2배 한 값인 20 이 출력된다.\n",
    "print(n>>1)  #10을 반으로 나눈 값인 5 가 출력된다."
   ]
  },
  {
   "cell_type": "code",
   "execution_count": 29,
   "metadata": {},
   "outputs": [
    {
     "name": "stdout",
     "output_type": "stream",
     "text": [
      "First str Second str\n",
      "First str凸Second str\n"
     ]
    }
   ],
   "source": [
    "# sep : 각 문자열 객체 사이를 무엇으로 구분 할 것인가\n",
    "# end : 끝에 넣고 싶은 것?\n",
    "s1 = \"First str\"\n",
    "s2 = \"Second str\"\n",
    "print(s1,s2)\n",
    "print(s1,s2,sep='凸')"
   ]
  },
  {
   "attachments": {},
   "cell_type": "markdown",
   "metadata": {},
   "source": [
    "### 프로그래머스 코딩테스트"
   ]
  },
  {
   "cell_type": "code",
   "execution_count": 30,
   "metadata": {},
   "outputs": [
    {
     "data": {
      "text/plain": [
       "30.0"
      ]
     },
     "execution_count": 30,
     "metadata": {},
     "output_type": "execute_result"
    }
   ],
   "source": [
    "# 짝수의 합\n",
    "def solution(n):\n",
    "    return 2*(n//2)*((n//2)+1)/2\n",
    "solution(10)\n",
    "# n//2는 n을 2로 나눈 몫을 나타냅니다. 이를 통해 n보다 작거나 같은 가장 큰 짝수를 구합니다.\n",
    "# (n//2) * ((n//2) + 1)은 가장 큰 짝수와 그 다음 짝수를 곱한 값입니다.\n",
    "# 이는 1부터 n까지의 짝수들의 합을 의미합니다.\n",
    "# 이렇게 구한 값에 2를 곱한 뒤 2로 나누어서 짝수의 합을 구합니다."
   ]
  },
  {
   "cell_type": "code",
   "execution_count": 31,
   "metadata": {},
   "outputs": [
    {
     "ename": "ValueError",
     "evalue": "not enough values to unpack (expected 2, got 1)",
     "output_type": "error",
     "traceback": [
      "\u001b[1;31m---------------------------------------------------------------------------\u001b[0m",
      "\u001b[1;31mValueError\u001b[0m                                Traceback (most recent call last)",
      "Cell \u001b[1;32mIn[31], line 2\u001b[0m\n\u001b[0;32m      1\u001b[0m \u001b[39m# 문자열 붙여서 출력하기\u001b[39;00m\n\u001b[1;32m----> 2\u001b[0m str1, str2 \u001b[39m=\u001b[39m \u001b[39minput\u001b[39m()\u001b[39m.\u001b[39mstrip()\u001b[39m.\u001b[39msplit(\u001b[39m'\u001b[39m\u001b[39m \u001b[39m\u001b[39m'\u001b[39m)\n\u001b[0;32m      3\u001b[0m \u001b[39mprint\u001b[39m(str1, str2, sep\u001b[39m=\u001b[39m\u001b[39m'\u001b[39m\u001b[39m'\u001b[39m)\n\u001b[0;32m      4\u001b[0m \u001b[39m# 입력1: apple pen, 입력2: Hello World!\u001b[39;00m\n",
      "\u001b[1;31mValueError\u001b[0m: not enough values to unpack (expected 2, got 1)"
     ]
    }
   ],
   "source": [
    "# 문자열 붙여서 출력하기\n",
    "str1, str2 = input().strip().split(' ')\n",
    "print(str1, str2, sep='')\n",
    "# 입력1: apple pen, 입력2: Hello World!"
   ]
  },
  {
   "cell_type": "code",
   "execution_count": null,
   "metadata": {},
   "outputs": [
    {
     "data": {
      "text/plain": [
       "[2, 3, 3, 6]"
      ]
     },
     "execution_count": 28,
     "metadata": {},
     "output_type": "execute_result"
    }
   ],
   "source": [
    "\n",
    "def solution(strlist):\n",
    "    answer = list(map(len, strlist))\n",
    "    return answer\n",
    "solution([\"We\", \"are\", \"the\", \"world!\"])\n",
    "# map() 함수를 사용하여 문자열 리스트인 strlist의 각 문자열의 길이를 계산합니다.\n",
    "# map(len, strlist)는 strlist의 각 요소에 대해 len() 함수를 적용한 결과를 반환합니다.\n",
    "# 이때 반환된 결과는 map 객체이므로, list() 함수를 사용하여 리스트로 변환합니다.\n",
    "# 그리고 그 결과를 answer 변수에 할당합니다"
   ]
  },
  {
   "cell_type": "code",
   "execution_count": null,
   "metadata": {},
   "outputs": [],
   "source": [
    "# 점 위치 구하기 (quad 함수)\n",
    "def solution(dot):\n",
    "    x,y = dot\n",
    "    if x*y>0:\n",
    "        return 1 if x>0 else 3\n",
    "    else:\n",
    "        return 4 if x>0 else 2\n",
    "solution(2,4)  # and -7,9"
   ]
  },
  {
   "cell_type": "code",
   "execution_count": null,
   "metadata": {},
   "outputs": [
    {
     "data": {
      "text/plain": [
       "'bs'"
      ]
     },
     "execution_count": 1,
     "metadata": {},
     "output_type": "execute_result"
    }
   ],
   "source": [
    "# 모음 제거\n",
    "def solution(my_string):\n",
    "    answer = ''\n",
    "    a= 'aeiou'\n",
    "    for i in my_string:\n",
    "        if i not in a:\n",
    "            answer+=i\n",
    "    return answer\n",
    "solution(\"bus\") # nice to meet you\n",
    "# if i not in a 구문은 현재 문자 i가 문자열 a에 포함되지 않으면 조건이 참(True)이 되며,\n",
    "# 해당 조건이 참인 경우에는 answer += i 구문이 실행됩니다.\n",
    "# 이렇게 모음이 아닌 문자만 answer에 추가"
   ]
  },
  {
   "cell_type": "code",
   "execution_count": 51,
   "metadata": {},
   "outputs": [
    {
     "ename": "KeyboardInterrupt",
     "evalue": "",
     "output_type": "error",
     "traceback": [
      "\u001b[1;31m---------------------------------------------------------------------------\u001b[0m",
      "\u001b[1;31mKeyboardInterrupt\u001b[0m                         Traceback (most recent call last)",
      "Cell \u001b[1;32mIn[51], line 8\u001b[0m\n\u001b[0;32m      6\u001b[0m                 answer\u001b[39m+\u001b[39m\u001b[39m=\u001b[39m\u001b[39m1\u001b[39m\n\u001b[0;32m      7\u001b[0m     \u001b[39mreturn\u001b[39;00m answer\n\u001b[1;32m----> 8\u001b[0m solution(\u001b[39m20121\u001b[39;49m)\n",
      "Cell \u001b[1;32mIn[51], line 5\u001b[0m, in \u001b[0;36msolution\u001b[1;34m(n)\u001b[0m\n\u001b[0;32m      3\u001b[0m \u001b[39mfor\u001b[39;00m i \u001b[39min\u001b[39;00m \u001b[39mrange\u001b[39m(n\u001b[39m+\u001b[39m\u001b[39m1\u001b[39m):\n\u001b[0;32m      4\u001b[0m     \u001b[39mfor\u001b[39;00m j \u001b[39min\u001b[39;00m \u001b[39mrange\u001b[39m(n\u001b[39m+\u001b[39m\u001b[39m1\u001b[39m):\n\u001b[1;32m----> 5\u001b[0m         \u001b[39mif\u001b[39;00m i\u001b[39m*\u001b[39;49mj\u001b[39m==\u001b[39mn:\n\u001b[0;32m      6\u001b[0m             answer\u001b[39m+\u001b[39m\u001b[39m=\u001b[39m\u001b[39m1\u001b[39m\n\u001b[0;32m      7\u001b[0m \u001b[39mreturn\u001b[39;00m answer\n",
      "\u001b[1;31mKeyboardInterrupt\u001b[0m: "
     ]
    }
   ],
   "source": [
    "def solution(n):\n",
    "    answer = 0\n",
    "    for i in range(n+1):\n",
    "        for j in range(n+1):\n",
    "            if i*j==n:\n",
    "                answer+=1\n",
    "    return answer\n",
    "solution(20121)"
   ]
  },
  {
   "cell_type": "code",
   "execution_count": 53,
   "metadata": {},
   "outputs": [
    {
     "name": "stdout",
     "output_type": "stream",
     "text": [
      "11\n"
     ]
    }
   ],
   "source": [
    "hi= [1,5,2,4,6]\n",
    "hi.sort(reverse=True)\n",
    "print(hi[0]+hi[1])"
   ]
  },
  {
   "cell_type": "code",
   "execution_count": null,
   "metadata": {},
   "outputs": [],
   "source": []
  }
 ],
 "metadata": {
  "kernelspec": {
   "display_name": "Python 3",
   "language": "python",
   "name": "python3"
  },
  "language_info": {
   "codemirror_mode": {
    "name": "ipython",
    "version": 3
   },
   "file_extension": ".py",
   "mimetype": "text/x-python",
   "name": "python",
   "nbconvert_exporter": "python",
   "pygments_lexer": "ipython3",
   "version": "3.9.13"
  },
  "orig_nbformat": 4
 },
 "nbformat": 4,
 "nbformat_minor": 2
}
