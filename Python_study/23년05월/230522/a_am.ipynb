{
 "cells": [
  {
   "attachments": {},
   "cell_type": "markdown",
   "metadata": {},
   "source": [
    "Aws,  \n",
    "Data.Analyze,  \n",
    "DevOps\n",
    "실행한 결과(출력)는 Series= [1차원], pandas= [2차원],"
   ]
  },
  {
   "cell_type": "code",
   "execution_count": null,
   "metadata": {},
   "outputs": [],
   "source": [
    "phone= \"010-4145-3948\" # 뒷자리 4개만 가져오기\n",
    "phone[-4:]  # axis = 0행 1열"
   ]
  },
  {
   "cell_type": "code",
   "execution_count": null,
   "metadata": {},
   "outputs": [],
   "source": []
  }
 ],
 "metadata": {
  "kernelspec": {
   "display_name": "Python 3",
   "language": "python",
   "name": "python3"
  },
  "language_info": {
   "name": "python",
   "version": "3.9.13"
  },
  "orig_nbformat": 4
 },
 "nbformat": 4,
 "nbformat_minor": 2
}
