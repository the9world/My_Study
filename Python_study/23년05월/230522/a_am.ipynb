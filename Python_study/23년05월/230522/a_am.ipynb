{
 "cells": [
  {
   "attachments": {},
   "cell_type": "markdown",
   "metadata": {},
   "source": [
    "Aws,  \n",
    "Data.Analyze,  \n",
    "DevOps\n",
    "실행한 결과(출력)는 Series= [1차원], pandas= [2차원],\n",
    "\n",
    "https://github.com/blockenters/yh-k4/tree/main"
   ]
  },
  {
   "cell_type": "code",
   "execution_count": null,
   "metadata": {},
   "outputs": [],
   "source": [
    "phone= \"010-4145-3948\" # 뒷자리 4개만 가져오기\n",
    "phone[-4:]  # axis = 0행 1열"
   ]
  },
  {
   "cell_type": "code",
   "execution_count": 1,
   "metadata": {},
   "outputs": [],
   "source": [
    "# 데이터변수.apply(함수, axis= 0 or 1) numpy라 aixs=0열(디폴트), aixs=1(행\n",
    "# 더 알아보면 좋음"
   ]
  },
  {
   "attachments": {},
   "cell_type": "markdown",
   "metadata": {},
   "source": [
    "lambda = def 동일한 기능"
   ]
  }
 ],
 "metadata": {
  "kernelspec": {
   "display_name": "Python 3",
   "language": "python",
   "name": "python3"
  },
  "language_info": {
   "codemirror_mode": {
    "name": "ipython",
    "version": 3
   },
   "file_extension": ".py",
   "mimetype": "text/x-python",
   "name": "python",
   "nbconvert_exporter": "python",
   "pygments_lexer": "ipython3",
   "version": "3.9.13"
  },
  "orig_nbformat": 4
 },
 "nbformat": 4,
 "nbformat_minor": 2
}
