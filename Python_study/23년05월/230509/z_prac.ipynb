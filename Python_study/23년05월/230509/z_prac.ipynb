{
 "cells": [
  {
   "attachments": {},
   "cell_type": "markdown",
   "metadata": {},
   "source": [
    "init: https://wikidocs.net/89  \n",
    "numpy : http://bigdata.dongguk.ac.kr/lectures/Python/_book/numpy.html  \n",
    "numpy2 : https://analytics4everything.tistory.com/60  \n",
    "numpy random : https://nittaku.tistory.com/443  \n",
    "pandas framedata loc label : https://wikidocs.net/151085  \n",
    "Python normalize : https://guru.tistory.com/72  \n",
    "data frame transform : https://wikidocs.net/152703  \n",
    "matplotlib box plot : https://wikidocs.net/141959\n",
    "\n",
    "미분 : https://m.blog.naver.com/ljs8786/221983373206"
   ]
  },
  {
   "attachments": {},
   "cell_type": "markdown",
   "metadata": {},
   "source": [
    "나중에 볼 사이트"
   ]
  },
  {
   "cell_type": "code",
   "execution_count": 1,
   "metadata": {},
   "outputs": [
    {
     "name": "stdout",
     "output_type": "stream",
     "text": [
      "(2, 3)\n",
      "(2, 3)\n",
      "(3,)\n"
     ]
    }
   ],
   "source": [
    "import numpy as np\n",
    "tpl = ((1,2,3),(4, 5, 6)) # 튜플도 변환해서 배열 가능\n",
    "arr = np.array(tpl) # 변환\n",
    "print(arr.shape)\n",
    "\n",
    "arr = np.array([[1, 2, 3],[4, 5, 6]]) #2차원 배열\n",
    "arr1 = np.array([1,2,3]) # 1차원 배열\n",
    "print(arr.shape) # (2,3) 2차원이고 3개씩 들어있음\n",
    "print(arr1.shape) # (,3) 1차원이고 3개 들어있음"
   ]
  },
  {
   "attachments": {},
   "cell_type": "markdown",
   "metadata": {},
   "source": [
    "파이썬 머신러닝 완벽 가이드 (책)"
   ]
  },
  {
   "cell_type": "code",
   "execution_count": 17,
   "metadata": {},
   "outputs": [
    {
     "name": "stdout",
     "output_type": "stream",
     "text": [
      "[[-1.22474487 -1.22474487]\n",
      " [ 0.          0.        ]\n",
      " [ 1.22474487  1.22474487]]\n"
     ]
    }
   ],
   "source": [
    "from sklearn.preprocessing import StandardScaler\n",
    "import numpy as np\n",
    "\n",
    "# 데이터 생성\n",
    "X = np.array([[1, 4],[2, 5], [3, 6]])\n",
    "\n",
    "# StandardScaler 객체 생성 후 fit, transform 메서드 호출\n",
    "scaler = StandardScaler()\n",
    "X_scaled = scaler.fit_transform(X)\n",
    "\n",
    "print(X_scaled)\n"
   ]
  },
  {
   "cell_type": "code",
   "execution_count": null,
   "metadata": {},
   "outputs": [],
   "source": []
  }
 ],
 "metadata": {
  "kernelspec": {
   "display_name": "Python 3",
   "language": "python",
   "name": "python3"
  },
  "language_info": {
   "codemirror_mode": {
    "name": "ipython",
    "version": 3
   },
   "file_extension": ".py",
   "mimetype": "text/x-python",
   "name": "python",
   "nbconvert_exporter": "python",
   "pygments_lexer": "ipython3",
   "version": "3.9.13"
  },
  "orig_nbformat": 4
 },
 "nbformat": 4,
 "nbformat_minor": 2
}
