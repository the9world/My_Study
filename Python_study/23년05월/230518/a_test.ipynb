{
 "cells": [
  {
   "cell_type": "code",
   "execution_count": 9,
   "metadata": {},
   "outputs": [
    {
     "data": {
      "text/plain": [
       "'abcde'"
      ]
     },
     "execution_count": 9,
     "metadata": {},
     "output_type": "execute_result"
    }
   ],
   "source": [
    "def solution(my_string, letter):\n",
    "    return my_string.replace(letter, '')\n",
    "solution(\"abcdef\", \"f\")\n"
   ]
  },
  {
   "cell_type": "code",
   "execution_count": 15,
   "metadata": {},
   "outputs": [
    {
     "name": "stdout",
     "output_type": "stream",
     "text": [
      "294\n"
     ]
    },
    {
     "data": {
      "text/plain": [
       "1"
      ]
     },
     "execution_count": 15,
     "metadata": {},
     "output_type": "execute_result"
    }
   ],
   "source": [
    "def solution(sides):\n",
    "    sides.sort()\n",
    "    if sides[0] < sides[1]+sides[2]:\n",
    "        print(sides[0]+sides[2])\n",
    "        return 1\n",
    "    else:\n",
    "        return 2\n",
    "solution([199,72,222])"
   ]
  },
  {
   "cell_type": "code",
   "execution_count": 2,
   "metadata": {},
   "outputs": [
    {
     "data": {
      "text/plain": [
       "28"
      ]
     },
     "execution_count": 2,
     "metadata": {},
     "output_type": "execute_result"
    }
   ],
   "source": [
    "# 약수의 합\n",
    "def solution(n):\n",
    "    answer = 0 \n",
    "    return sum(i for i in range(1,n+1) if n%i==0)\n",
    "solution(12)\n",
    "\n",
    "# range(1, n+1)은 1부터 n까지의 숫자 범위를 생성합니다. \n",
    "# 이 범위에서 i는 1부터 n까지 순차적으로 반복됩니다.\n",
    "# for 루프를 사용하여 i를 해당 범위에서 하나씩 가져옵니다.\n",
    "# 조건문 if n % i == 0은 n을 i로 나눈 나머지가 0인지를 확인합니다.\n",
    "# 는 i가 n의 약수인지를 검사하는 것입니다.\n",
    "# 약수인 경우에만 선택된 i 값을 반환합니다.\n",
    "# sum() 함수는 선택된 i 값들의 합을 계산하여 반환합니다."
   ]
  }
 ],
 "metadata": {
  "kernelspec": {
   "display_name": "Python 3",
   "language": "python",
   "name": "python3"
  },
  "language_info": {
   "codemirror_mode": {
    "name": "ipython",
    "version": 3
   },
   "file_extension": ".py",
   "mimetype": "text/x-python",
   "name": "python",
   "nbconvert_exporter": "python",
   "pygments_lexer": "ipython3",
   "version": "3.9.13"
  },
  "orig_nbformat": 4
 },
 "nbformat": 4,
 "nbformat_minor": 2
}
