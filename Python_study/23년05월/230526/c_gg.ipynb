{
 "cells": [
  {
   "cell_type": "code",
   "execution_count": 171,
   "metadata": {},
   "outputs": [
    {
     "data": {
      "text/html": [
       "<div>\n",
       "<style scoped>\n",
       "    .dataframe tbody tr th:only-of-type {\n",
       "        vertical-align: middle;\n",
       "    }\n",
       "\n",
       "    .dataframe tbody tr th {\n",
       "        vertical-align: top;\n",
       "    }\n",
       "\n",
       "    .dataframe thead th {\n",
       "        text-align: right;\n",
       "    }\n",
       "</style>\n",
       "<table border=\"1\" class=\"dataframe\">\n",
       "  <thead>\n",
       "    <tr style=\"text-align: right;\">\n",
       "      <th></th>\n",
       "      <th>PassengerId</th>\n",
       "      <th>Survived</th>\n",
       "      <th>Pclass</th>\n",
       "      <th>Name</th>\n",
       "      <th>Sex</th>\n",
       "      <th>Age</th>\n",
       "      <th>SibSp</th>\n",
       "      <th>Parch</th>\n",
       "      <th>Ticket</th>\n",
       "      <th>Fare</th>\n",
       "      <th>Cabin</th>\n",
       "      <th>Embarked</th>\n",
       "    </tr>\n",
       "  </thead>\n",
       "  <tbody>\n",
       "    <tr>\n",
       "      <th>0</th>\n",
       "      <td>1</td>\n",
       "      <td>0</td>\n",
       "      <td>3</td>\n",
       "      <td>Braund, Mr. Owen Harris</td>\n",
       "      <td>male</td>\n",
       "      <td>22.0</td>\n",
       "      <td>1</td>\n",
       "      <td>0</td>\n",
       "      <td>A/5 21171</td>\n",
       "      <td>7.2500</td>\n",
       "      <td>NaN</td>\n",
       "      <td>S</td>\n",
       "    </tr>\n",
       "    <tr>\n",
       "      <th>1</th>\n",
       "      <td>2</td>\n",
       "      <td>1</td>\n",
       "      <td>1</td>\n",
       "      <td>Cumings, Mrs. John Bradley (Florence Briggs Th...</td>\n",
       "      <td>female</td>\n",
       "      <td>38.0</td>\n",
       "      <td>1</td>\n",
       "      <td>0</td>\n",
       "      <td>PC 17599</td>\n",
       "      <td>71.2833</td>\n",
       "      <td>C85</td>\n",
       "      <td>C</td>\n",
       "    </tr>\n",
       "    <tr>\n",
       "      <th>2</th>\n",
       "      <td>3</td>\n",
       "      <td>1</td>\n",
       "      <td>3</td>\n",
       "      <td>Heikkinen, Miss. Laina</td>\n",
       "      <td>female</td>\n",
       "      <td>26.0</td>\n",
       "      <td>0</td>\n",
       "      <td>0</td>\n",
       "      <td>STON/O2. 3101282</td>\n",
       "      <td>7.9250</td>\n",
       "      <td>NaN</td>\n",
       "      <td>S</td>\n",
       "    </tr>\n",
       "    <tr>\n",
       "      <th>3</th>\n",
       "      <td>4</td>\n",
       "      <td>1</td>\n",
       "      <td>1</td>\n",
       "      <td>Futrelle, Mrs. Jacques Heath (Lily May Peel)</td>\n",
       "      <td>female</td>\n",
       "      <td>35.0</td>\n",
       "      <td>1</td>\n",
       "      <td>0</td>\n",
       "      <td>113803</td>\n",
       "      <td>53.1000</td>\n",
       "      <td>C123</td>\n",
       "      <td>S</td>\n",
       "    </tr>\n",
       "    <tr>\n",
       "      <th>4</th>\n",
       "      <td>5</td>\n",
       "      <td>0</td>\n",
       "      <td>3</td>\n",
       "      <td>Allen, Mr. William Henry</td>\n",
       "      <td>male</td>\n",
       "      <td>35.0</td>\n",
       "      <td>0</td>\n",
       "      <td>0</td>\n",
       "      <td>373450</td>\n",
       "      <td>8.0500</td>\n",
       "      <td>NaN</td>\n",
       "      <td>S</td>\n",
       "    </tr>\n",
       "    <tr>\n",
       "      <th>...</th>\n",
       "      <td>...</td>\n",
       "      <td>...</td>\n",
       "      <td>...</td>\n",
       "      <td>...</td>\n",
       "      <td>...</td>\n",
       "      <td>...</td>\n",
       "      <td>...</td>\n",
       "      <td>...</td>\n",
       "      <td>...</td>\n",
       "      <td>...</td>\n",
       "      <td>...</td>\n",
       "      <td>...</td>\n",
       "    </tr>\n",
       "    <tr>\n",
       "      <th>886</th>\n",
       "      <td>887</td>\n",
       "      <td>0</td>\n",
       "      <td>2</td>\n",
       "      <td>Montvila, Rev. Juozas</td>\n",
       "      <td>male</td>\n",
       "      <td>27.0</td>\n",
       "      <td>0</td>\n",
       "      <td>0</td>\n",
       "      <td>211536</td>\n",
       "      <td>13.0000</td>\n",
       "      <td>NaN</td>\n",
       "      <td>S</td>\n",
       "    </tr>\n",
       "    <tr>\n",
       "      <th>887</th>\n",
       "      <td>888</td>\n",
       "      <td>1</td>\n",
       "      <td>1</td>\n",
       "      <td>Graham, Miss. Margaret Edith</td>\n",
       "      <td>female</td>\n",
       "      <td>19.0</td>\n",
       "      <td>0</td>\n",
       "      <td>0</td>\n",
       "      <td>112053</td>\n",
       "      <td>30.0000</td>\n",
       "      <td>B42</td>\n",
       "      <td>S</td>\n",
       "    </tr>\n",
       "    <tr>\n",
       "      <th>888</th>\n",
       "      <td>889</td>\n",
       "      <td>0</td>\n",
       "      <td>3</td>\n",
       "      <td>Johnston, Miss. Catherine Helen \"Carrie\"</td>\n",
       "      <td>female</td>\n",
       "      <td>NaN</td>\n",
       "      <td>1</td>\n",
       "      <td>2</td>\n",
       "      <td>W./C. 6607</td>\n",
       "      <td>23.4500</td>\n",
       "      <td>NaN</td>\n",
       "      <td>S</td>\n",
       "    </tr>\n",
       "    <tr>\n",
       "      <th>889</th>\n",
       "      <td>890</td>\n",
       "      <td>1</td>\n",
       "      <td>1</td>\n",
       "      <td>Behr, Mr. Karl Howell</td>\n",
       "      <td>male</td>\n",
       "      <td>26.0</td>\n",
       "      <td>0</td>\n",
       "      <td>0</td>\n",
       "      <td>111369</td>\n",
       "      <td>30.0000</td>\n",
       "      <td>C148</td>\n",
       "      <td>C</td>\n",
       "    </tr>\n",
       "    <tr>\n",
       "      <th>890</th>\n",
       "      <td>891</td>\n",
       "      <td>0</td>\n",
       "      <td>3</td>\n",
       "      <td>Dooley, Mr. Patrick</td>\n",
       "      <td>male</td>\n",
       "      <td>32.0</td>\n",
       "      <td>0</td>\n",
       "      <td>0</td>\n",
       "      <td>370376</td>\n",
       "      <td>7.7500</td>\n",
       "      <td>NaN</td>\n",
       "      <td>Q</td>\n",
       "    </tr>\n",
       "  </tbody>\n",
       "</table>\n",
       "<p>891 rows × 12 columns</p>\n",
       "</div>"
      ],
      "text/plain": [
       "     PassengerId  Survived  Pclass   \n",
       "0              1         0       3  \\\n",
       "1              2         1       1   \n",
       "2              3         1       3   \n",
       "3              4         1       1   \n",
       "4              5         0       3   \n",
       "..           ...       ...     ...   \n",
       "886          887         0       2   \n",
       "887          888         1       1   \n",
       "888          889         0       3   \n",
       "889          890         1       1   \n",
       "890          891         0       3   \n",
       "\n",
       "                                                  Name     Sex   Age  SibSp   \n",
       "0                              Braund, Mr. Owen Harris    male  22.0      1  \\\n",
       "1    Cumings, Mrs. John Bradley (Florence Briggs Th...  female  38.0      1   \n",
       "2                               Heikkinen, Miss. Laina  female  26.0      0   \n",
       "3         Futrelle, Mrs. Jacques Heath (Lily May Peel)  female  35.0      1   \n",
       "4                             Allen, Mr. William Henry    male  35.0      0   \n",
       "..                                                 ...     ...   ...    ...   \n",
       "886                              Montvila, Rev. Juozas    male  27.0      0   \n",
       "887                       Graham, Miss. Margaret Edith  female  19.0      0   \n",
       "888           Johnston, Miss. Catherine Helen \"Carrie\"  female   NaN      1   \n",
       "889                              Behr, Mr. Karl Howell    male  26.0      0   \n",
       "890                                Dooley, Mr. Patrick    male  32.0      0   \n",
       "\n",
       "     Parch            Ticket     Fare Cabin Embarked  \n",
       "0        0         A/5 21171   7.2500   NaN        S  \n",
       "1        0          PC 17599  71.2833   C85        C  \n",
       "2        0  STON/O2. 3101282   7.9250   NaN        S  \n",
       "3        0            113803  53.1000  C123        S  \n",
       "4        0            373450   8.0500   NaN        S  \n",
       "..     ...               ...      ...   ...      ...  \n",
       "886      0            211536  13.0000   NaN        S  \n",
       "887      0            112053  30.0000   B42        S  \n",
       "888      2        W./C. 6607  23.4500   NaN        S  \n",
       "889      0            111369  30.0000  C148        C  \n",
       "890      0            370376   7.7500   NaN        Q  \n",
       "\n",
       "[891 rows x 12 columns]"
      ]
     },
     "execution_count": 171,
     "metadata": {},
     "output_type": "execute_result"
    }
   ],
   "source": [
    "## 데이터 분석 관련\n",
    "import pandas as pd\n",
    "from pandas import Series, DataFrame\n",
    "import numpy as np\n",
    "\n",
    "## 데이터 시각화 관련\n",
    "import matplotlib.pyplot as plt\n",
    "import seaborn as sns\n",
    "sns.set_style('whitegrid') # matplotlib의 스타일에 관련한 함\n",
    "## 그래프 출력에 필요한 IPython 명령어\n",
    "%matplotlib inline \n",
    "\n",
    "## Scikit-Learn의 다양한 머신러닝 모듈을 불러옵니다.\n",
    "## 분류 알고리즘 중에서 선형회귀, 서포트벡터머신, 랜덤포레스트, K-최근접이웃 알고리즘을 사용해보려고 합니다.\n",
    "from sklearn.linear_model import LogisticRegression\n",
    "from sklearn.svm import SVC, LinearSVC\n",
    "from sklearn.ensemble import RandomForestClassifier\n",
    "from sklearn.neighbors import KNeighborsClassifier\n",
    "\n",
    "train_df = pd.read_csv(\"C:/Users/The9/Documents/My_Study/data/titanic-train.csv\")\n",
    "test_df = pd.read_csv(\"C:/Users/The9/Documents/My_Study/data/titanic-test.csv\")\n",
    "train_df"
   ]
  },
  {
   "cell_type": "code",
   "execution_count": 172,
   "metadata": {},
   "outputs": [
    {
     "name": "stdout",
     "output_type": "stream",
     "text": [
      "<class 'pandas.core.frame.DataFrame'>\n",
      "RangeIndex: 891 entries, 0 to 890\n",
      "Data columns (total 12 columns):\n",
      " #   Column       Non-Null Count  Dtype  \n",
      "---  ------       --------------  -----  \n",
      " 0   PassengerId  891 non-null    int64  \n",
      " 1   Survived     891 non-null    int64  \n",
      " 2   Pclass       891 non-null    int64  \n",
      " 3   Name         891 non-null    object \n",
      " 4   Sex          891 non-null    object \n",
      " 5   Age          714 non-null    float64\n",
      " 6   SibSp        891 non-null    int64  \n",
      " 7   Parch        891 non-null    int64  \n",
      " 8   Ticket       891 non-null    object \n",
      " 9   Fare         891 non-null    float64\n",
      " 10  Cabin        204 non-null    object \n",
      " 11  Embarked     889 non-null    object \n",
      "dtypes: float64(2), int64(5), object(5)\n",
      "memory usage: 83.7+ KB\n"
     ]
    }
   ],
   "source": [
    "# 위의 정보로 볼때 번호는 큰 의미를 가지지 않고, 이름과 티켓의 경우에는 불규칙성이 많아 처리하기 어려울 것 같습니다.\n",
    "# 데이터의 정보는 info 메서드로 확인할 수 있습니다. 훈련 데이터와 테스트 데이터를 확인\n",
    "train_df.info()"
   ]
  },
  {
   "cell_type": "code",
   "execution_count": 173,
   "metadata": {},
   "outputs": [
    {
     "name": "stdout",
     "output_type": "stream",
     "text": [
      "<class 'pandas.core.frame.DataFrame'>\n",
      "RangeIndex: 418 entries, 0 to 417\n",
      "Data columns (total 11 columns):\n",
      " #   Column       Non-Null Count  Dtype  \n",
      "---  ------       --------------  -----  \n",
      " 0   PassengerId  418 non-null    int64  \n",
      " 1   Pclass       418 non-null    int64  \n",
      " 2   Name         418 non-null    object \n",
      " 3   Sex          418 non-null    object \n",
      " 4   Age          332 non-null    float64\n",
      " 5   SibSp        418 non-null    int64  \n",
      " 6   Parch        418 non-null    int64  \n",
      " 7   Ticket       418 non-null    object \n",
      " 8   Fare         417 non-null    float64\n",
      " 9   Cabin        91 non-null     object \n",
      " 10  Embarked     418 non-null    object \n",
      "dtypes: float64(2), int64(4), object(5)\n",
      "memory usage: 36.0+ KB\n",
      "**************************************************\n",
      "1\n"
     ]
    }
   ],
   "source": [
    "test_df.info()\n",
    "print('*'*50)\n",
    "print(test_df['Fare'].isna().sum())"
   ]
  },
  {
   "cell_type": "code",
   "execution_count": 174,
   "metadata": {},
   "outputs": [
    {
     "name": "stdout",
     "output_type": "stream",
     "text": [
      "PassengerId    0.000000\n",
      "Pclass         0.000000\n",
      "Name           0.000000\n",
      "Sex            0.000000\n",
      "Age            0.205742\n",
      "SibSp          0.000000\n",
      "Parch          0.000000\n",
      "Ticket         0.000000\n",
      "Fare           0.002392\n",
      "Cabin          0.782297\n",
      "Embarked       0.000000\n",
      "dtype: float64\n"
     ]
    }
   ],
   "source": [
    "print(test_df.isna().sum()/len(test_df)) # 객실번호 78%가 nan"
   ]
  },
  {
   "cell_type": "code",
   "execution_count": 175,
   "metadata": {},
   "outputs": [],
   "source": [
    "# 위 결과에서 각각의 데이터 개수는 891개. 418개인 것을 확인할 수 있습니다. 특성은 각각 12개 11개입니다.\n",
    "# 그 이유는 훈련 데이터는 생존 여부를 알고 있기 때문입니다.\n",
    "# 여기서 주의깊게 봐야할 부분은 다음과 같습니다.\n",
    "# \n",
    "# 각 데이터는 빈 부분이 있는가?\n",
    "# 빈 부분이 있다면, drop할 것인가 아니면 default값으로 채워넣을 것인가\n",
    "# cabin, Age, Embarked 세 항목에 주의\n",
    "# 데이터는 float64로 변환할 수 있는가\n",
    "# 아니라면 범주형 데이터로 만들 수 있는가\n",
    "# \n",
    "# 필요없는 부분이라고 생각되는 부분을 지웁니다.\n",
    "# 여기서는 PassengerID와 이름, 티켓을 지웁니다. 이름과 티켓에서 가져올 수 있는 데이터는 없기 때문입니다.\n",
    "# 하지만 이 문제에서 결과물은 'PassengerId', 'Survived' 요소가 필요하므로 훈련데이터에서만 삭제합니다.\n",
    "train_df = train_df.drop(['PassengerId', 'Name', 'Ticket'], axis=1)\n",
    "test_df = test_df.drop(['Name','Ticket'], axis=1)"
   ]
  },
  {
   "cell_type": "code",
   "execution_count": 176,
   "metadata": {},
   "outputs": [
    {
     "name": "stdout",
     "output_type": "stream",
     "text": [
      "   Survived  Pclass     Sex   Age  SibSp  Parch     Fare Cabin Embarked\n",
      "0         0       3    male  22.0      1      0   7.2500   NaN        S\n",
      "1         1       1  female  38.0      1      0  71.2833   C85        C\n",
      "------------------------------\n",
      "   PassengerId  Pclass     Sex   Age  SibSp  Parch    Fare Cabin Embarked\n",
      "0          892       3    male  34.5      0      0  7.8292   NaN        Q\n",
      "1          893       3  female  47.0      1      0  7.0000   NaN        S\n"
     ]
    }
   ],
   "source": [
    "print(train_df.head(2))\n",
    "print('-'*30)\n",
    "print(test_df.head(2))"
   ]
  },
  {
   "cell_type": "code",
   "execution_count": 177,
   "metadata": {},
   "outputs": [
    {
     "data": {
      "text/plain": [
       "Pclass\n",
       "3    491\n",
       "1    216\n",
       "2    184\n",
       "Name: count, dtype: int64"
      ]
     },
     "execution_count": 177,
     "metadata": {},
     "output_type": "execute_result"
    }
   ],
   "source": [
    "# 객실등급 별 몇명이 있나 ?\n",
    "train_df['Pclass'].value_counts() # 3 :491, 1: 216, 2: 184"
   ]
  },
  {
   "cell_type": "code",
   "execution_count": 178,
   "metadata": {},
   "outputs": [],
   "source": [
    "# 3. 데이터 하나하나 처리하기\n",
    "# 이제 남은 데이터 종류는 다음과 같습니다.\n",
    "# Pclass\n",
    "# Sex\n",
    "# Age\n",
    "# SibSp\n",
    "# Parch\n",
    "# Fare\n",
    "# Cabin\n",
    "# Embarked\n",
    "# 이제 순서대로 보도록 하겠습니다."
   ]
  },
  {
   "cell_type": "code",
   "execution_count": 179,
   "metadata": {},
   "outputs": [
    {
     "data": {
      "text/html": [
       "<div>\n",
       "<style scoped>\n",
       "    .dataframe tbody tr th:only-of-type {\n",
       "        vertical-align: middle;\n",
       "    }\n",
       "\n",
       "    .dataframe tbody tr th {\n",
       "        vertical-align: top;\n",
       "    }\n",
       "\n",
       "    .dataframe thead th {\n",
       "        text-align: right;\n",
       "    }\n",
       "</style>\n",
       "<table border=\"1\" class=\"dataframe\">\n",
       "  <thead>\n",
       "    <tr style=\"text-align: right;\">\n",
       "      <th></th>\n",
       "      <th>1</th>\n",
       "      <th>2</th>\n",
       "      <th>3</th>\n",
       "    </tr>\n",
       "  </thead>\n",
       "  <tbody>\n",
       "    <tr>\n",
       "      <th>0</th>\n",
       "      <td>False</td>\n",
       "      <td>False</td>\n",
       "      <td>True</td>\n",
       "    </tr>\n",
       "    <tr>\n",
       "      <th>1</th>\n",
       "      <td>False</td>\n",
       "      <td>False</td>\n",
       "      <td>True</td>\n",
       "    </tr>\n",
       "    <tr>\n",
       "      <th>2</th>\n",
       "      <td>False</td>\n",
       "      <td>True</td>\n",
       "      <td>False</td>\n",
       "    </tr>\n",
       "    <tr>\n",
       "      <th>3</th>\n",
       "      <td>False</td>\n",
       "      <td>False</td>\n",
       "      <td>True</td>\n",
       "    </tr>\n",
       "    <tr>\n",
       "      <th>4</th>\n",
       "      <td>False</td>\n",
       "      <td>False</td>\n",
       "      <td>True</td>\n",
       "    </tr>\n",
       "    <tr>\n",
       "      <th>...</th>\n",
       "      <td>...</td>\n",
       "      <td>...</td>\n",
       "      <td>...</td>\n",
       "    </tr>\n",
       "    <tr>\n",
       "      <th>413</th>\n",
       "      <td>False</td>\n",
       "      <td>False</td>\n",
       "      <td>True</td>\n",
       "    </tr>\n",
       "    <tr>\n",
       "      <th>414</th>\n",
       "      <td>True</td>\n",
       "      <td>False</td>\n",
       "      <td>False</td>\n",
       "    </tr>\n",
       "    <tr>\n",
       "      <th>415</th>\n",
       "      <td>False</td>\n",
       "      <td>False</td>\n",
       "      <td>True</td>\n",
       "    </tr>\n",
       "    <tr>\n",
       "      <th>416</th>\n",
       "      <td>False</td>\n",
       "      <td>False</td>\n",
       "      <td>True</td>\n",
       "    </tr>\n",
       "    <tr>\n",
       "      <th>417</th>\n",
       "      <td>False</td>\n",
       "      <td>False</td>\n",
       "      <td>True</td>\n",
       "    </tr>\n",
       "  </tbody>\n",
       "</table>\n",
       "<p>418 rows × 3 columns</p>\n",
       "</div>"
      ],
      "text/plain": [
       "         1      2      3\n",
       "0    False  False   True\n",
       "1    False  False   True\n",
       "2    False   True  False\n",
       "3    False  False   True\n",
       "4    False  False   True\n",
       "..     ...    ...    ...\n",
       "413  False  False   True\n",
       "414   True  False  False\n",
       "415  False  False   True\n",
       "416  False  False   True\n",
       "417  False  False   True\n",
       "\n",
       "[418 rows x 3 columns]"
      ]
     },
     "execution_count": 179,
     "metadata": {},
     "output_type": "execute_result"
    }
   ],
   "source": [
    "#  1, 2, 3 등급은 경우에 따라 다를 수 있지만 연속적인 정보가 아니며, 각 차이 또한 균등하지 않습니다.\n",
    "# 그렇기에 범주형(카테고리) 데이터로 인식하고 인코딩해야합니다.\n",
    "# 범주형 데이터이므로 one-hot-encoding을 pd.get_dummies() 메서드로 인코딩\n",
    "# get_dummies는 해당 데이터를 3열로 만들어서 이항(Boolean) 으로 명시됨\n",
    "pclass_train_dummies = pd.get_dummies(train_df['Pclass']) \n",
    "pclass_test_dummies = pd.get_dummies(test_df['Pclass'])\n",
    "pclass_train_dummies\n",
    "pclass_test_dummies\n"
   ]
  },
  {
   "cell_type": "code",
   "execution_count": 180,
   "metadata": {},
   "outputs": [
    {
     "name": "stdout",
     "output_type": "stream",
     "text": [
      "   Survived     Sex   Age  SibSp  Parch     Fare Cabin Embarked\n",
      "0         0    male  22.0      1      0   7.2500   NaN        S\n",
      "1         1  female  38.0      1      0  71.2833   C85        C\n",
      "2         1  female  26.0      0      0   7.9250   NaN        S\n",
      "---------------------------------------------------------------------------\n",
      "   PassengerId     Sex   Age  SibSp  Parch    Fare Cabin Embarked\n",
      "0          892    male  34.5      0      0  7.8292   NaN        Q\n",
      "1          893  female  47.0      1      0  7.0000   NaN        S\n",
      "2          894    male  62.0      0      0  9.6875   NaN        Q\n"
     ]
    }
   ],
   "source": [
    "train_df.drop('Pclass', axis=1, inplace=True) # 원본의 Pclass를 없앰\n",
    "test_df.drop('Pclass', axis=1, inplace=True)\n",
    "print(train_df.head(3))\n",
    "print('-'*75)\n",
    "print(test_df.head(3))"
   ]
  },
  {
   "cell_type": "code",
   "execution_count": 181,
   "metadata": {},
   "outputs": [
    {
     "name": "stdout",
     "output_type": "stream",
     "text": [
      "   Survived     Sex   Age  SibSp  Parch     Fare Cabin Embarked      1      2   \n",
      "0         0    male  22.0      1      0   7.2500   NaN        S  False  False  \\\n",
      "1         1  female  38.0      1      0  71.2833   C85        C   True  False   \n",
      "2         1  female  26.0      0      0   7.9250   NaN        S  False  False   \n",
      "\n",
      "       3  \n",
      "0   True  \n",
      "1  False  \n",
      "2   True  \n",
      "---------------------------------------------------------------------------\n",
      "   PassengerId     Sex   Age  SibSp  Parch    Fare Cabin Embarked      1   \n",
      "0          892    male  34.5      0      0  7.8292   NaN        Q  False  \\\n",
      "1          893  female  47.0      1      0  7.0000   NaN        S  False   \n",
      "2          894    male  62.0      0      0  9.6875   NaN        Q  False   \n",
      "\n",
      "       2      3  \n",
      "0  False   True  \n",
      "1  False   True  \n",
      "2   True  False  \n"
     ]
    }
   ],
   "source": [
    "train_df = train_df.join(pclass_train_dummies) # 범주형 데이터 더미 이어붙이기\n",
    "test_df = test_df.join(pclass_test_dummies)\n",
    "print(train_df.head(3)) # 범주형으로 개별로 데이터가 변환 됨\n",
    "print('-'*75)\n",
    "print(test_df.head(3))"
   ]
  },
  {
   "cell_type": "code",
   "execution_count": 182,
   "metadata": {},
   "outputs": [
    {
     "name": "stdout",
     "output_type": "stream",
     "text": [
      "   Survived     Sex   Age  SibSp  Parch     Fare Cabin Embarked  1등 객실  2등 객실   \n",
      "0         0    male  22.0      1      0   7.2500   NaN        S  False  False  \\\n",
      "1         1  female  38.0      1      0  71.2833   C85        C   True  False   \n",
      "\n",
      "   3등 객실  \n",
      "0   True  \n",
      "1  False  \n",
      "---------------------------------------------------------------------------\n",
      "   PassengerId     Sex   Age  SibSp  Parch    Fare Cabin Embarked  1등 객실   \n",
      "0          892    male  34.5      0      0  7.8292   NaN        Q  False  \\\n",
      "1          893  female  47.0      1      0  7.0000   NaN        S  False   \n",
      "\n",
      "   2등 객실  3등 객실  \n",
      "0  False   True  \n",
      "1  False   True  \n"
     ]
    }
   ],
   "source": [
    "# 1,2,3 컬럼을 각 등급 객실로 바꿔주기\n",
    "train_df.rename(columns={1: '1등 객실', 2: '2등 객실', 3:'3등 객실'}, inplace=True)\n",
    "test_df.rename(columns={1: '1등 객실', 2: '2등 객실', 3:'3등 객실'}, inplace=True)\n",
    "print(train_df.head(2))\n",
    "print('-'*75)\n",
    "print(test_df.head(2))"
   ]
  },
  {
   "cell_type": "code",
   "execution_count": 183,
   "metadata": {},
   "outputs": [
    {
     "name": "stdout",
     "output_type": "stream",
     "text": [
      "   female   male\n",
      "0   False   True\n",
      "1    True  False\n",
      "---------------------------------------------------------------------------\n",
      "   female   male\n",
      "0   False   True\n",
      "1    True  False\n"
     ]
    }
   ],
   "source": [
    "# Sex는 성별입니다. 남과 여로 나뉘므로 이 또한 one-hot-encoding을 진행해봅시다.\n",
    "# 더미 변수에 Sex에 대한 이항을 넣었음\n",
    "sex_train_dummies = pd.get_dummies(train_df['Sex'])\n",
    "sex_test_dummies = pd.get_dummies(test_df['Sex'])\n",
    "print(sex_train_dummies.head(2))\n",
    "print('-'*75)\n",
    "print(sex_test_dummies.head(2))"
   ]
  },
  {
   "cell_type": "code",
   "execution_count": 184,
   "metadata": {},
   "outputs": [
    {
     "name": "stdout",
     "output_type": "stream",
     "text": [
      "Index(['Female', 'Male'], dtype='object')\n",
      "Index(['Female', 'Male'], dtype='object')\n"
     ]
    }
   ],
   "source": [
    "# Sex를 없애기 위해 더미 변수에 원본에 넣을 'Female', 'Male' 컬럼을 만들어줌\n",
    "sex_train_dummies.columns = ['Female', 'Male']\n",
    "sex_test_dummies.columns = ['Female', 'Male']\n",
    "print(sex_train_dummies.columns)\n",
    "print(sex_test_dummies.columns)"
   ]
  },
  {
   "cell_type": "code",
   "execution_count": 185,
   "metadata": {},
   "outputs": [
    {
     "name": "stdout",
     "output_type": "stream",
     "text": [
      "     Survived   Age  SibSp  Parch     Fare Cabin Embarked  1등 객실  2등 객실  3등 객실\n",
      "0           0  22.0      1      0   7.2500   NaN        S  False  False   True\n",
      "1           1  38.0      1      0  71.2833   C85        C   True  False  False\n",
      "2           1  26.0      0      0   7.9250   NaN        S  False  False   True\n",
      "3           1  35.0      1      0  53.1000  C123        S   True  False  False\n",
      "4           0  35.0      0      0   8.0500   NaN        S  False  False   True\n",
      "..        ...   ...    ...    ...      ...   ...      ...    ...    ...    ...\n",
      "886         0  27.0      0      0  13.0000   NaN        S  False   True  False\n",
      "887         1  19.0      0      0  30.0000   B42        S   True  False  False\n",
      "888         0   NaN      1      2  23.4500   NaN        S  False  False   True\n",
      "889         1  26.0      0      0  30.0000  C148        C   True  False  False\n",
      "890         0  32.0      0      0   7.7500   NaN        Q  False  False   True\n",
      "\n",
      "[891 rows x 10 columns]\n",
      "     PassengerId   Age  SibSp  Parch      Fare Cabin Embarked  1등 객실  2등 객실   \n",
      "0            892  34.5      0      0    7.8292   NaN        Q  False  False  \\\n",
      "1            893  47.0      1      0    7.0000   NaN        S  False  False   \n",
      "2            894  62.0      0      0    9.6875   NaN        Q  False   True   \n",
      "3            895  27.0      0      0    8.6625   NaN        S  False  False   \n",
      "4            896  22.0      1      1   12.2875   NaN        S  False  False   \n",
      "..           ...   ...    ...    ...       ...   ...      ...    ...    ...   \n",
      "413         1305   NaN      0      0    8.0500   NaN        S  False  False   \n",
      "414         1306  39.0      0      0  108.9000  C105        C   True  False   \n",
      "415         1307  38.5      0      0    7.2500   NaN        S  False  False   \n",
      "416         1308   NaN      0      0    8.0500   NaN        S  False  False   \n",
      "417         1309   NaN      1      1   22.3583   NaN        C  False  False   \n",
      "\n",
      "     3등 객실  \n",
      "0     True  \n",
      "1     True  \n",
      "2    False  \n",
      "3     True  \n",
      "4     True  \n",
      "..     ...  \n",
      "413   True  \n",
      "414  False  \n",
      "415   True  \n",
      "416   True  \n",
      "417   True  \n",
      "\n",
      "[418 rows x 10 columns]\n"
     ]
    }
   ],
   "source": [
    "# Sex 컬럼 삭제\n",
    "train_df.drop(['Sex'], axis=1, inplace=True)\n",
    "test_df.drop(['Sex'], axis=1, inplace=True)\n",
    "print(train_df)\n",
    "print(test_df)"
   ]
  },
  {
   "cell_type": "code",
   "execution_count": 186,
   "metadata": {},
   "outputs": [
    {
     "name": "stdout",
     "output_type": "stream",
     "text": [
      "   Survived   Age  SibSp  Parch     Fare Cabin Embarked  1등 객실  2등 객실  3등 객실   \n",
      "0         0  22.0      1      0   7.2500   NaN        S  False  False   True  \\\n",
      "1         1  38.0      1      0  71.2833   C85        C   True  False  False   \n",
      "\n",
      "   Female   Male  \n",
      "0   False   True  \n",
      "1    True  False  \n",
      "---------------------------------------------------------------------------\n",
      "   PassengerId   Age  SibSp  Parch    Fare Cabin Embarked  1등 객실  2등 객실   \n",
      "0          892  34.5      0      0  7.8292   NaN        Q  False  False  \\\n",
      "1          893  47.0      1      0  7.0000   NaN        S  False  False   \n",
      "\n",
      "   3등 객실  Female   Male  \n",
      "0   True   False   True  \n",
      "1   True    True  False  \n"
     ]
    }
   ],
   "source": [
    "# 원본에 없앤 Sex를 대신할 Fmale, Male컬럼을 넣어줌\n",
    "train_df = train_df.join(sex_train_dummies)\n",
    "test_df = test_df.join(sex_test_dummies)\n",
    "print(train_df.head(2))\n",
    "print('-'*75)\n",
    "print(test_df.head(2))"
   ]
  },
  {
   "cell_type": "code",
   "execution_count": 187,
   "metadata": {},
   "outputs": [],
   "source": [
    "# 3.3 Age\n",
    "# 나이는 연속형 데이터이므로, 큰 처리가 필요없습니다.  \n",
    "# (카테고리화를 하여 일부 알고리즘에 더 유용한 결과를 만들 수 있습니다.)  \n",
    "# 하지만 일부 NaN 데이터가 있으니 이를 채울 수 있는 방법에 대해서 생각해봅시다.\n",
    "\n",
    "# 랜덤  \n",
    "# 평균값  \n",
    "# 중간값  \n",
    "# 데이터 버리기  \n",
    "# 저는 일단은 평균값으로 채우도록 하겠습니다.  \n",
    "# 데이터의 통일성을 가지기 위해 train 데이터셋의 평균값으로 훈련, 테스트 데이터셋을 채우겠습니다."
   ]
  },
  {
   "cell_type": "code",
   "execution_count": 188,
   "metadata": {},
   "outputs": [
    {
     "name": "stdout",
     "output_type": "stream",
     "text": [
      "   Survived   Age  SibSp  Parch     Fare Cabin Embarked  1등 객실  2등 객실  3등 객실   \n",
      "0         0  22.0      1      0   7.2500   NaN        S  False  False   True  \\\n",
      "1         1  38.0      1      0  71.2833   C85        C   True  False  False   \n",
      "\n",
      "   Female   Male  \n",
      "0   False   True  \n",
      "1    True  False  \n",
      "---------------------------------------------------------------------------\n",
      "   PassengerId   Age  SibSp  Parch    Fare Cabin Embarked  1등 객실  2등 객실   \n",
      "0          892  34.5      0      0  7.8292   NaN        Q  False  False  \\\n",
      "1          893  47.0      1      0  7.0000   NaN        S  False  False   \n",
      "\n",
      "   3등 객실  Female   Male  \n",
      "0   True   False   True  \n",
      "1   True    True  False  \n"
     ]
    }
   ],
   "source": [
    "train_df[\"Age\"].fillna(train_df[\"Age\"].mean() , inplace=True)\n",
    "test_df[\"Age\"].fillna(train_df[\"Age\"].mean() , inplace=True)\n",
    "print(train_df.head(2))\n",
    "print('-'*75)\n",
    "print(test_df.head(2))"
   ]
  },
  {
   "cell_type": "code",
   "execution_count": 189,
   "metadata": {},
   "outputs": [
    {
     "data": {
      "text/html": [
       "<div>\n",
       "<style scoped>\n",
       "    .dataframe tbody tr th:only-of-type {\n",
       "        vertical-align: middle;\n",
       "    }\n",
       "\n",
       "    .dataframe tbody tr th {\n",
       "        vertical-align: top;\n",
       "    }\n",
       "\n",
       "    .dataframe thead th {\n",
       "        text-align: right;\n",
       "    }\n",
       "</style>\n",
       "<table border=\"1\" class=\"dataframe\">\n",
       "  <thead>\n",
       "    <tr style=\"text-align: right;\">\n",
       "      <th></th>\n",
       "      <th>PassengerId</th>\n",
       "      <th>Age</th>\n",
       "      <th>SibSp</th>\n",
       "      <th>Parch</th>\n",
       "      <th>Fare</th>\n",
       "      <th>Cabin</th>\n",
       "      <th>Embarked</th>\n",
       "      <th>1등 객실</th>\n",
       "      <th>2등 객실</th>\n",
       "      <th>3등 객실</th>\n",
       "      <th>Female</th>\n",
       "      <th>Male</th>\n",
       "    </tr>\n",
       "  </thead>\n",
       "  <tbody>\n",
       "    <tr>\n",
       "      <th>152</th>\n",
       "      <td>1044</td>\n",
       "      <td>60.5</td>\n",
       "      <td>0</td>\n",
       "      <td>0</td>\n",
       "      <td>NaN</td>\n",
       "      <td>NaN</td>\n",
       "      <td>S</td>\n",
       "      <td>False</td>\n",
       "      <td>False</td>\n",
       "      <td>True</td>\n",
       "      <td>False</td>\n",
       "      <td>True</td>\n",
       "    </tr>\n",
       "  </tbody>\n",
       "</table>\n",
       "</div>"
      ],
      "text/plain": [
       "     PassengerId   Age  SibSp  Parch  Fare Cabin Embarked  1등 객실  2등 객실   \n",
       "152         1044  60.5      0      0   NaN   NaN        S  False  False  \\\n",
       "\n",
       "     3등 객실  Female  Male  \n",
       "152   True   False  True  "
      ]
     },
     "execution_count": 189,
     "metadata": {},
     "output_type": "execute_result"
    }
   ],
   "source": [
    "# 3.4 SibSp & Panch\n",
    "# 형제 자매와 부모님은 가족으로 함께 처리할 수 있습니다. 하지만 마찬가지로 바꿀 필요는 없습니다.\n",
    "\n",
    "# 3.5 Fare\n",
    "# Fare은 탑승료입니다. 신기하게 test 데이터셋에 1개의 데이터가 비어있습니다. 아마 디카프리오인듯 합니다. :-) \n",
    "test_df[test_df['Fare'].isnull()]"
   ]
  },
  {
   "cell_type": "code",
   "execution_count": 190,
   "metadata": {},
   "outputs": [
    {
     "data": {
      "text/html": [
       "<div>\n",
       "<style scoped>\n",
       "    .dataframe tbody tr th:only-of-type {\n",
       "        vertical-align: middle;\n",
       "    }\n",
       "\n",
       "    .dataframe tbody tr th {\n",
       "        vertical-align: top;\n",
       "    }\n",
       "\n",
       "    .dataframe thead th {\n",
       "        text-align: right;\n",
       "    }\n",
       "</style>\n",
       "<table border=\"1\" class=\"dataframe\">\n",
       "  <thead>\n",
       "    <tr style=\"text-align: right;\">\n",
       "      <th></th>\n",
       "      <th>PassengerId</th>\n",
       "      <th>Age</th>\n",
       "      <th>SibSp</th>\n",
       "      <th>Parch</th>\n",
       "      <th>Fare</th>\n",
       "      <th>Cabin</th>\n",
       "      <th>Embarked</th>\n",
       "      <th>1등 객실</th>\n",
       "      <th>2등 객실</th>\n",
       "      <th>3등 객실</th>\n",
       "      <th>Female</th>\n",
       "      <th>Male</th>\n",
       "    </tr>\n",
       "  </thead>\n",
       "  <tbody>\n",
       "    <tr>\n",
       "      <th>152</th>\n",
       "      <td>1044</td>\n",
       "      <td>60.500000</td>\n",
       "      <td>0</td>\n",
       "      <td>0</td>\n",
       "      <td>0.0</td>\n",
       "      <td>NaN</td>\n",
       "      <td>S</td>\n",
       "      <td>False</td>\n",
       "      <td>False</td>\n",
       "      <td>True</td>\n",
       "      <td>False</td>\n",
       "      <td>True</td>\n",
       "    </tr>\n",
       "    <tr>\n",
       "      <th>266</th>\n",
       "      <td>1158</td>\n",
       "      <td>29.699118</td>\n",
       "      <td>0</td>\n",
       "      <td>0</td>\n",
       "      <td>0.0</td>\n",
       "      <td>NaN</td>\n",
       "      <td>S</td>\n",
       "      <td>True</td>\n",
       "      <td>False</td>\n",
       "      <td>False</td>\n",
       "      <td>False</td>\n",
       "      <td>True</td>\n",
       "    </tr>\n",
       "    <tr>\n",
       "      <th>372</th>\n",
       "      <td>1264</td>\n",
       "      <td>49.000000</td>\n",
       "      <td>0</td>\n",
       "      <td>0</td>\n",
       "      <td>0.0</td>\n",
       "      <td>B52 B54 B56</td>\n",
       "      <td>S</td>\n",
       "      <td>True</td>\n",
       "      <td>False</td>\n",
       "      <td>False</td>\n",
       "      <td>False</td>\n",
       "      <td>True</td>\n",
       "    </tr>\n",
       "  </tbody>\n",
       "</table>\n",
       "</div>"
      ],
      "text/plain": [
       "     PassengerId        Age  SibSp  Parch  Fare        Cabin Embarked  1등 객실   \n",
       "152         1044  60.500000      0      0   0.0          NaN        S  False  \\\n",
       "266         1158  29.699118      0      0   0.0          NaN        S   True   \n",
       "372         1264  49.000000      0      0   0.0  B52 B54 B56        S   True   \n",
       "\n",
       "     2등 객실  3등 객실  Female  Male  \n",
       "152  False   True   False  True  \n",
       "266  False  False   False  True  \n",
       "372  False  False   False  True  "
      ]
     },
     "execution_count": 190,
     "metadata": {},
     "output_type": "execute_result"
    }
   ],
   "source": [
    "# 빈 부분을 fillna 메서드로 채우겠습니다. 누락이 아닌 무단 탑승이라 생각하고 0으로 입력\n",
    "test_df[\"Fare\"].fillna(0, inplace=True)\n",
    "test_df[test_df['Fare']==0] # 다른 2명은 1등 객실이라 요금 0원 혜택이 있거나 선원 가족?"
   ]
  },
  {
   "cell_type": "code",
   "execution_count": 191,
   "metadata": {},
   "outputs": [
    {
     "name": "stdout",
     "output_type": "stream",
     "text": [
      "   Survived   Age  SibSp  Parch     Fare Embarked  1등 객실  2등 객실  3등 객실   \n",
      "0         0  22.0      1      0   7.2500        S  False  False   True  \\\n",
      "1         1  38.0      1      0  71.2833        C   True  False  False   \n",
      "\n",
      "   Female   Male  \n",
      "0   False   True  \n",
      "1    True  False  \n",
      "---------------------------------------------------------------------------\n",
      "   PassengerId   Age  SibSp  Parch    Fare Embarked  1등 객실  2등 객실  3등 객실   \n",
      "0          892  34.5      0      0  7.8292        Q  False  False   True  \\\n",
      "1          893  47.0      1      0  7.0000        S  False  False   True   \n",
      "\n",
      "   Female   Male  \n",
      "0   False   True  \n",
      "1    True  False  \n"
     ]
    }
   ],
   "source": [
    "# 3.6 Cabin\n",
    "# Cabin은 객실입니다. NaN이 대부분인 데이터이므로 버립시다.\n",
    "# 이 데이터를 살리는 것은 너무 어려운 일입니다.\n",
    "train_df = train_df.drop(['Cabin'], axis=1)\n",
    "test_df = test_df.drop(['Cabin'], axis=1)\n",
    "print(train_df.head(2))\n",
    "print('-'*75)\n",
    "print(test_df.head(2))"
   ]
  },
  {
   "cell_type": "code",
   "execution_count": 192,
   "metadata": {},
   "outputs": [
    {
     "name": "stdout",
     "output_type": "stream",
     "text": [
      "Embarked\n",
      "S    644\n",
      "C    168\n",
      "Q     77\n",
      "Name: count, dtype: int64\n",
      "-------------------------\n",
      "Embarked\n",
      "S    270\n",
      "C    102\n",
      "Q     46\n",
      "Name: count, dtype: int64\n"
     ]
    }
   ],
   "source": [
    "# 3.7 Embarked\n",
    "# Embarked는 탑승 항구를 의미합니다. 우선 데이터를 확인해보겠습니다.\n",
    "print(train_df['Embarked'].value_counts())\n",
    "print('-'*25)\n",
    "print(test_df['Embarked'].value_counts())"
   ]
  },
  {
   "cell_type": "code",
   "execution_count": 193,
   "metadata": {},
   "outputs": [
    {
     "name": "stdout",
     "output_type": "stream",
     "text": [
      "<class 'pandas.core.series.Series'>\n",
      "RangeIndex: 891 entries, 0 to 890\n",
      "Series name: Embarked\n",
      "Non-Null Count  Dtype \n",
      "--------------  ----- \n",
      "891 non-null    object\n",
      "dtypes: object(1)\n",
      "memory usage: 7.1+ KB\n",
      "None\n",
      "--------------------------------------------------\n",
      "<class 'pandas.core.series.Series'>\n",
      "RangeIndex: 418 entries, 0 to 417\n",
      "Series name: Embarked\n",
      "Non-Null Count  Dtype \n",
      "--------------  ----- \n",
      "418 non-null    object\n",
      "dtypes: object(1)\n",
      "memory usage: 3.4+ KB\n",
      "None\n"
     ]
    }
   ],
   "source": [
    "# S가 대다수이고 일부 데이터가 비어있는 것을 알 수 있습니다. 빈 부분은 S로 우선 채우고 시작합시다\n",
    "train_df[\"Embarked\"].fillna('S', inplace=True)\n",
    "test_df[\"Embarked\"].fillna('S', inplace=True)\n",
    "print(train_df['Embarked'].info())\n",
    "print('-'*50)\n",
    "print(test_df['Embarked'].info())"
   ]
  },
  {
   "cell_type": "code",
   "execution_count": 194,
   "metadata": {},
   "outputs": [
    {
     "name": "stdout",
     "output_type": "stream",
     "text": [
      "   Survived   Age  SibSp  Parch     Fare  1등 객실  2등 객실  3등 객실  Female   Male   \n",
      "0         0  22.0      1      0   7.2500  False  False   True   False   True  \\\n",
      "1         1  38.0      1      0  71.2833   True  False  False    True  False   \n",
      "\n",
      "       S      C      Q  \n",
      "0  False  False   True  \n",
      "1   True  False  False  \n",
      "--------------------------------------------------\n",
      "   PassengerId   Age  SibSp  Parch    Fare  1등 객실  2등 객실  3등 객실  Female   \n",
      "0          892  34.5      0      0  7.8292  False  False   True   False  \\\n",
      "1          893  47.0      1      0  7.0000  False  False   True    True   \n",
      "\n",
      "    Male      S      C      Q  \n",
      "0   True  False   True  False  \n",
      "1  False  False  False   True  \n"
     ]
    }
   ],
   "source": [
    "# 아까 했던 탑승항구 S,Q,C 별로 칼럼을 만들어주자 \n",
    "embarked_train_dummies = pd.get_dummies(train_df['Embarked'])\n",
    "embarked_test_dummies = pd.get_dummies(test_df['Embarked'])\n",
    "\n",
    "embarked_train_dummies.columns = ['S', 'C', 'Q']\n",
    "embarked_test_dummies.columns = ['S', 'C', 'Q']\n",
    "\n",
    "train_df.drop('Embarked', axis=1, inplace=True)\n",
    "test_df.drop('Embarked', axis=1, inplace=True)\n",
    "\n",
    "train_df = train_df.join(embarked_train_dummies)\n",
    "test_df = test_df.join(embarked_test_dummies)\n",
    "print(train_df.head(2))\n",
    "print('-'*50)\n",
    "print(test_df.head(2))"
   ]
  },
  {
   "cell_type": "code",
   "execution_count": 196,
   "metadata": {},
   "outputs": [],
   "source": [
    "# 4. 데이터 나누기\n",
    "# 이제 학습용 데이터를 위해 데이터를 나누어야합니다.\n",
    "# (정보, 생존 여부)와 같은 형태를 위하여 다음과 같이 데이터를 나눕니다.\n",
    "X_train = train_df.drop(\"Survived\",axis=1)\n",
    "Y_train = train_df[\"Survived\"]\n",
    "X_test  = test_df.drop(\"PassengerId\",axis=1).copy()"
   ]
  },
  {
   "cell_type": "code",
   "execution_count": 197,
   "metadata": {},
   "outputs": [
    {
     "name": "stderr",
     "output_type": "stream",
     "text": [
      "c:\\Users\\The9\\AppData\\Local\\Programs\\Python\\Python39\\lib\\site-packages\\sklearn\\linear_model\\_logistic.py:458: ConvergenceWarning: lbfgs failed to converge (status=1):\n",
      "STOP: TOTAL NO. of ITERATIONS REACHED LIMIT.\n",
      "\n",
      "Increase the number of iterations (max_iter) or scale the data as shown in:\n",
      "    https://scikit-learn.org/stable/modules/preprocessing.html\n",
      "Please also refer to the documentation for alternative solver options:\n",
      "    https://scikit-learn.org/stable/modules/linear_model.html#logistic-regression\n",
      "  n_iter_i = _check_optimize_result(\n"
     ]
    },
    {
     "data": {
      "text/plain": [
       "0.8058361391694725"
      ]
     },
     "execution_count": 197,
     "metadata": {},
     "output_type": "execute_result"
    }
   ],
   "source": [
    "# 5. 머신러닝 알고리즘 적용하기\n",
    "# 이제 로지스틱 회귀, SVC, 랜덤 포레스트, K-최근접 이웃 알고리즘을 각각 적용해봅시다.\n",
    "\n",
    "# Logistic Regression\n",
    "\n",
    "logreg = LogisticRegression()\n",
    "logreg.fit(X_train, Y_train)\n",
    "Y_pred = logreg.predict(X_test)\n",
    "logreg.score(X_train, Y_train)"
   ]
  },
  {
   "cell_type": "code",
   "execution_count": 202,
   "metadata": {},
   "outputs": [
    {
     "data": {
      "text/plain": [
       "0.6868686868686869"
      ]
     },
     "execution_count": 202,
     "metadata": {},
     "output_type": "execute_result"
    }
   ],
   "source": [
    "# Support Vector Machines\n",
    "svc = SVC()\n",
    "svc.fit(X_train, Y_train)\n",
    "Y_pred = svc.predict(X_test)\n",
    "svc.score(X_train, Y_train)"
   ]
  },
  {
   "cell_type": "code",
   "execution_count": 203,
   "metadata": {},
   "outputs": [
    {
     "data": {
      "text/plain": [
       "0.9820426487093153"
      ]
     },
     "execution_count": 203,
     "metadata": {},
     "output_type": "execute_result"
    }
   ],
   "source": [
    "# Random Forests\n",
    "random_forest = RandomForestClassifier(n_estimators=100)\n",
    "random_forest.fit(X_train, Y_train)\n",
    "Y_pred = random_forest.predict(X_test)\n",
    "random_forest.score(X_train, Y_train)"
   ]
  },
  {
   "cell_type": "code",
   "execution_count": 204,
   "metadata": {},
   "outputs": [
    {
     "data": {
      "text/plain": [
       "0.835016835016835"
      ]
     },
     "execution_count": 204,
     "metadata": {},
     "output_type": "execute_result"
    }
   ],
   "source": [
    "knn = KNeighborsClassifier(n_neighbors = 3)\n",
    "knn.fit(X_train, Y_train)\n",
    "Y_pred = knn.predict(X_test)\n",
    "knn.score(X_train, Y_train)"
   ]
  },
  {
   "cell_type": "code",
   "execution_count": null,
   "metadata": {},
   "outputs": [],
   "source": [
    "# 6. 제출용 파일 만들기\n",
    "# 랜덤 포레스트가 가장 좋은 결과를 내는 것을 알 수 있습니다. 그 결과로 submission 파일을 만들어 제출해봅시다\n",
    "# Random Forests\n",
    "\n",
    "# random_forest = RandomForestClassifier(n_estimators=100)\n",
    "# random_forest.fit(X_train, Y_train)\n",
    "# Y_pred = random_forest.predict(X_test)\n",
    "# random_forest.score(X_train, Y_train)\n",
    "\n",
    "# submission = pd.DataFrame({\n",
    "#         \"PassengerId\": test_df[\"PassengerId\"],\n",
    "#         \"Survived\": Y_pred\n",
    "#     })\n",
    "# submission.to_csv('titanic.csv', index=False)"
   ]
  }
 ],
 "metadata": {
  "kernelspec": {
   "display_name": "Python 3",
   "language": "python",
   "name": "python3"
  },
  "language_info": {
   "codemirror_mode": {
    "name": "ipython",
    "version": 3
   },
   "file_extension": ".py",
   "mimetype": "text/x-python",
   "name": "python",
   "nbconvert_exporter": "python",
   "pygments_lexer": "ipython3",
   "version": "3.9.13"
  },
  "orig_nbformat": 4
 },
 "nbformat": 4,
 "nbformat_minor": 2
}
