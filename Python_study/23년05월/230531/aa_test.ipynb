{
 "cells": [
  {
   "cell_type": "code",
   "execution_count": null,
   "metadata": {},
   "outputs": [],
   "source": [
    "# GIthub가 PuTTY를 접속하는 과정\n",
    "\n",
    "name: deploy # deploy 이란 이름으로 환경 구성\n",
    "\n",
    "# Controls when the workflow will run\n",
    "on: # bot\n",
    "  # Triggers the workflow on push or pull request events but only for the main branch\n",
    "  push: # push가 될때마다 작동, 바꿔도 됨\n",
    "    branches: \n",
    "      - main # 브랜치의 버전이 푸쉬 될때마다  job을 실행\n",
    "\n",
    "\n",
    "jobs:\n",
    "  SSH: # ssh 접속함\n",
    "    runs-on: ubuntu-latest # PuTTY에\n",
    "\n",
    "    steps:\n",
    "      - uses: actions/checkout@v3 # 내 소스코드를 가져옴\n",
    "      - name: ssh to ec2 # ec2 접속\n",
    "        uses: appleboy/ssh-action@master\n",
    "        with:\n",
    "          key: ${{ secrets.SSH_PRIVATE_KEY }} # 내 github 프라이빗 key\n",
    "          host: ${{ secrets.HOST }} # 내가 HOST에 등록한 IP로 github가 접속함\n",
    "          username: ${{ secrets.USER }} # 내가 등록한 아이디\n",
    "          script: |\n",
    "            cd streamlit_car_price_app                        \n",
    "            git pull\n",
    "\n",
    "  # 깃허브 레파지토리가 프라이빗으로 만들어져 있을때. \n",
    "  # git pull https://${{ secrets.GIT_USER }}:${{ secrets.GIT_PASSWORD }}@github.com/blockenters/streamlit_kmeans.git"
   ]
  }
 ],
 "metadata": {
  "language_info": {
   "name": "python"
  },
  "orig_nbformat": 4
 },
 "nbformat": 4,
 "nbformat_minor": 2
}
