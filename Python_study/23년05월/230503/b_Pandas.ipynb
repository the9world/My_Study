{
 "cells": [
  {
   "attachments": {},
   "cell_type": "markdown",
   "metadata": {},
   "source": [
    "- pands\n",
    "- 데이터 처리, 분석용 라이브러리\n",
    "- 표 형식 데이터, 시계열 데이터 등 다양한 형태의 데이터를 다루는데에 초점  \n",
    "(csv, textfiles, )\n"
   ]
  },
  {
   "cell_type": "code",
   "execution_count": 79,
   "metadata": {},
   "outputs": [],
   "source": [
    "import numpy as np\n",
    "import pandas as pd"
   ]
  },
  {
   "cell_type": "code",
   "execution_count": 80,
   "metadata": {},
   "outputs": [
    {
     "data": {
      "text/plain": [
       "a    0\n",
       "b    1\n",
       "c    2\n",
       "d    3\n",
       "e    4\n",
       "f    5\n",
       "g    6\n",
       "h    7\n",
       "dtype: int64"
      ]
     },
     "execution_count": 80,
     "metadata": {},
     "output_type": "execute_result"
    }
   ],
   "source": [
    "obj = pd.Series([0,1,2,3,4,5,6,7], index=['a','b','c','d','e','f','g','h'],\n",
    "                                          dtype='int64')\n",
    "obj         "
   ]
  },
  {
   "cell_type": "code",
   "execution_count": 81,
   "metadata": {},
   "outputs": [
    {
     "data": {
      "text/plain": [
       "3"
      ]
     },
     "execution_count": 81,
     "metadata": {},
     "output_type": "execute_result"
    }
   ],
   "source": [
    "obj[3]"
   ]
  },
  {
   "cell_type": "code",
   "execution_count": 82,
   "metadata": {},
   "outputs": [
    {
     "data": {
      "text/plain": [
       "7"
      ]
     },
     "execution_count": 82,
     "metadata": {},
     "output_type": "execute_result"
    }
   ],
   "source": [
    "obj[-1]"
   ]
  },
  {
   "cell_type": "code",
   "execution_count": 83,
   "metadata": {},
   "outputs": [
    {
     "data": {
      "text/plain": [
       "b    1\n",
       "d    3\n",
       "f    5\n",
       "dtype: int64"
      ]
     },
     "execution_count": 83,
     "metadata": {},
     "output_type": "execute_result"
    }
   ],
   "source": [
    "obj[[1,3,5]] # multi index 접근 방법"
   ]
  },
  {
   "cell_type": "code",
   "execution_count": 84,
   "metadata": {},
   "outputs": [
    {
     "data": {
      "text/plain": [
       "b    1\n",
       "c    2\n",
       "dtype: int64"
      ]
     },
     "execution_count": 84,
     "metadata": {},
     "output_type": "execute_result"
    }
   ],
   "source": [
    "obj [1:3] # 1부터 3자리 "
   ]
  },
  {
   "cell_type": "code",
   "execution_count": 85,
   "metadata": {},
   "outputs": [
    {
     "data": {
      "text/plain": [
       "a    0\n",
       "b    1\n",
       "c    2\n",
       "dtype: int64"
      ]
     },
     "execution_count": 85,
     "metadata": {},
     "output_type": "execute_result"
    }
   ],
   "source": [
    "obj[obj<3] # boolean indexing / 정수 접근"
   ]
  },
  {
   "cell_type": "code",
   "execution_count": 86,
   "metadata": {},
   "outputs": [
    {
     "data": {
      "text/plain": [
       "a     True\n",
       "b     True\n",
       "c     True\n",
       "d    False\n",
       "e    False\n",
       "f    False\n",
       "g    False\n",
       "h    False\n",
       "dtype: bool"
      ]
     },
     "execution_count": 86,
     "metadata": {},
     "output_type": "execute_result"
    }
   ],
   "source": [
    "obj < 3 # 3보다 작은 obj 012 abc"
   ]
  },
  {
   "attachments": {},
   "cell_type": "markdown",
   "metadata": {},
   "source": [
    "- label location based"
   ]
  },
  {
   "cell_type": "code",
   "execution_count": 87,
   "metadata": {},
   "outputs": [
    {
     "data": {
      "text/plain": [
       "a    0\n",
       "b    1\n",
       "c    2\n",
       "d    3\n",
       "e    4\n",
       "f    5\n",
       "g    6\n",
       "h    7\n",
       "dtype: int64"
      ]
     },
     "execution_count": 87,
     "metadata": {},
     "output_type": "execute_result"
    }
   ],
   "source": [
    "obj = pd.Series([0,1,2,3,4,5,6,7], index=['a','b','c','d','e','f','g','h'],\n",
    "                                          dtype='int64')\n",
    "obj"
   ]
  },
  {
   "cell_type": "code",
   "execution_count": 88,
   "metadata": {},
   "outputs": [
    {
     "data": {
      "text/plain": [
       "2"
      ]
     },
     "execution_count": 88,
     "metadata": {},
     "output_type": "execute_result"
    }
   ],
   "source": [
    "obj.iloc[2]"
   ]
  },
  {
   "cell_type": "code",
   "execution_count": 89,
   "metadata": {},
   "outputs": [
    {
     "data": {
      "text/plain": [
       "c    2\n",
       "dtype: int64"
      ]
     },
     "execution_count": 89,
     "metadata": {},
     "output_type": "execute_result"
    }
   ],
   "source": [
    "obj.iloc[[2]] # 라벨 과 값"
   ]
  },
  {
   "cell_type": "code",
   "execution_count": 90,
   "metadata": {},
   "outputs": [
    {
     "data": {
      "text/plain": [
       "b    1\n",
       "c    2\n",
       "d    3\n",
       "dtype: int64"
      ]
     },
     "execution_count": 90,
     "metadata": {},
     "output_type": "execute_result"
    }
   ],
   "source": [
    "obj.iloc[1:4]"
   ]
  },
  {
   "attachments": {},
   "cell_type": "markdown",
   "metadata": {},
   "source": [
    "- location based"
   ]
  },
  {
   "cell_type": "code",
   "execution_count": 91,
   "metadata": {},
   "outputs": [
    {
     "data": {
      "text/plain": [
       "a    0\n",
       "b    1\n",
       "c    2\n",
       "dtype: int64"
      ]
     },
     "execution_count": 91,
     "metadata": {},
     "output_type": "execute_result"
    }
   ],
   "source": [
    "obj.loc['a':'c'] # 라벨로 접근"
   ]
  },
  {
   "cell_type": "code",
   "execution_count": 92,
   "metadata": {},
   "outputs": [
    {
     "data": {
      "text/plain": [
       "2"
      ]
     },
     "execution_count": 92,
     "metadata": {},
     "output_type": "execute_result"
    }
   ],
   "source": [
    "obj.c  # c 의 위치"
   ]
  },
  {
   "cell_type": "code",
   "execution_count": 93,
   "metadata": {},
   "outputs": [
    {
     "data": {
      "text/plain": [
       "2"
      ]
     },
     "execution_count": 93,
     "metadata": {},
     "output_type": "execute_result"
    }
   ],
   "source": [
    "obj['c'] # c의 위치"
   ]
  },
  {
   "cell_type": "code",
   "execution_count": 94,
   "metadata": {},
   "outputs": [
    {
     "data": {
      "text/plain": [
       "e    4\n",
       "c    2\n",
       "dtype: int64"
      ]
     },
     "execution_count": 94,
     "metadata": {},
     "output_type": "execute_result"
    }
   ],
   "source": [
    "obj[['e','c']] # e랑 c랑"
   ]
  },
  {
   "cell_type": "code",
   "execution_count": 95,
   "metadata": {},
   "outputs": [
    {
     "data": {
      "text/plain": [
       "a    0\n",
       "b    1\n",
       "c    2\n",
       "d    3\n",
       "dtype: int64"
      ]
     },
     "execution_count": 95,
     "metadata": {},
     "output_type": "execute_result"
    }
   ],
   "source": [
    "obj['a':'d'] # a ~ d 까지"
   ]
  },
  {
   "cell_type": "code",
   "execution_count": 96,
   "metadata": {},
   "outputs": [
    {
     "data": {
      "text/plain": [
       "a      0\n",
       "b      1\n",
       "c      2\n",
       "d    100\n",
       "e    100\n",
       "f      5\n",
       "g      6\n",
       "h      7\n",
       "dtype: int64"
      ]
     },
     "execution_count": 96,
     "metadata": {},
     "output_type": "execute_result"
    }
   ],
   "source": [
    "obj['d':'e']=100 # d 와 e는 100으로 바꿔주는 것\n",
    "obj # 브로드 캐스팅"
   ]
  },
  {
   "cell_type": "code",
   "execution_count": 97,
   "metadata": {},
   "outputs": [
    {
     "data": {
      "text/plain": [
       "a      0\n",
       "b      1\n",
       "c      2\n",
       "d    100\n",
       "e    100\n",
       "f      5\n",
       "g      6\n",
       "h      7\n",
       "dtype: int64"
      ]
     },
     "execution_count": 97,
     "metadata": {},
     "output_type": "execute_result"
    }
   ],
   "source": [
    "obj"
   ]
  },
  {
   "attachments": {},
   "cell_type": "markdown",
   "metadata": {},
   "source": [
    "- 시리즈가 여러개 붙어있는게 데이터 프레임  \n",
    "- json file : 정형데이터 비정형데이터 반정형데이터"
   ]
  },
  {
   "cell_type": "code",
   "execution_count": 98,
   "metadata": {},
   "outputs": [
    {
     "data": {
      "text/html": [
       "<div>\n",
       "<style scoped>\n",
       "    .dataframe tbody tr th:only-of-type {\n",
       "        vertical-align: middle;\n",
       "    }\n",
       "\n",
       "    .dataframe tbody tr th {\n",
       "        vertical-align: top;\n",
       "    }\n",
       "\n",
       "    .dataframe thead th {\n",
       "        text-align: right;\n",
       "    }\n",
       "</style>\n",
       "<table border=\"1\" class=\"dataframe\">\n",
       "  <thead>\n",
       "    <tr style=\"text-align: right;\">\n",
       "      <th></th>\n",
       "      <th>c1</th>\n",
       "      <th>c2</th>\n",
       "      <th>c3</th>\n",
       "      <th>c4</th>\n",
       "      <th>c5</th>\n",
       "      <th>c6</th>\n",
       "    </tr>\n",
       "  </thead>\n",
       "  <tbody>\n",
       "    <tr>\n",
       "      <th>r1</th>\n",
       "      <td>0</td>\n",
       "      <td>1</td>\n",
       "      <td>2</td>\n",
       "      <td>3</td>\n",
       "      <td>4</td>\n",
       "      <td>5</td>\n",
       "    </tr>\n",
       "    <tr>\n",
       "      <th>r2</th>\n",
       "      <td>6</td>\n",
       "      <td>7</td>\n",
       "      <td>8</td>\n",
       "      <td>9</td>\n",
       "      <td>10</td>\n",
       "      <td>11</td>\n",
       "    </tr>\n",
       "    <tr>\n",
       "      <th>r3</th>\n",
       "      <td>12</td>\n",
       "      <td>13</td>\n",
       "      <td>14</td>\n",
       "      <td>15</td>\n",
       "      <td>16</td>\n",
       "      <td>17</td>\n",
       "    </tr>\n",
       "    <tr>\n",
       "      <th>r4</th>\n",
       "      <td>18</td>\n",
       "      <td>19</td>\n",
       "      <td>20</td>\n",
       "      <td>21</td>\n",
       "      <td>22</td>\n",
       "      <td>23</td>\n",
       "    </tr>\n",
       "  </tbody>\n",
       "</table>\n",
       "</div>"
      ],
      "text/plain": [
       "    c1  c2  c3  c4  c5  c6\n",
       "r1   0   1   2   3   4   5\n",
       "r2   6   7   8   9  10  11\n",
       "r3  12  13  14  15  16  17\n",
       "r4  18  19  20  21  22  23"
      ]
     },
     "execution_count": 98,
     "metadata": {},
     "output_type": "execute_result"
    }
   ],
   "source": [
    "df = pd.DataFrame(np.arange(24).reshape(4,-1), \n",
    "columns = ['c1','c2','c3','c4','c5','c6'],\n",
    "index=['r1','r2','r3','r4'])\n",
    "df\n",
    "\n",
    "# (index 표 열, columns 표 행, 그외 안에 값)"
   ]
  },
  {
   "cell_type": "code",
   "execution_count": 99,
   "metadata": {},
   "outputs": [
    {
     "data": {
      "text/plain": [
       "r1     2\n",
       "r2     8\n",
       "r3    14\n",
       "r4    20\n",
       "Name: c3, dtype: int32"
      ]
     },
     "execution_count": 99,
     "metadata": {},
     "output_type": "execute_result"
    }
   ],
   "source": [
    "df['c3']"
   ]
  },
  {
   "cell_type": "code",
   "execution_count": 100,
   "metadata": {},
   "outputs": [
    {
     "data": {
      "text/plain": [
       "r1     2\n",
       "r2     8\n",
       "r3    14\n",
       "r4    20\n",
       "Name: c3, dtype: int32"
      ]
     },
     "execution_count": 100,
     "metadata": {},
     "output_type": "execute_result"
    }
   ],
   "source": [
    "df.c3"
   ]
  },
  {
   "cell_type": "code",
   "execution_count": 101,
   "metadata": {},
   "outputs": [
    {
     "data": {
      "text/html": [
       "<div>\n",
       "<style scoped>\n",
       "    .dataframe tbody tr th:only-of-type {\n",
       "        vertical-align: middle;\n",
       "    }\n",
       "\n",
       "    .dataframe tbody tr th {\n",
       "        vertical-align: top;\n",
       "    }\n",
       "\n",
       "    .dataframe thead th {\n",
       "        text-align: right;\n",
       "    }\n",
       "</style>\n",
       "<table border=\"1\" class=\"dataframe\">\n",
       "  <thead>\n",
       "    <tr style=\"text-align: right;\">\n",
       "      <th></th>\n",
       "      <th>c1</th>\n",
       "      <th>c2</th>\n",
       "      <th>c3</th>\n",
       "      <th>c4</th>\n",
       "      <th>c5</th>\n",
       "      <th>c6</th>\n",
       "    </tr>\n",
       "  </thead>\n",
       "  <tbody>\n",
       "    <tr>\n",
       "      <th>r2</th>\n",
       "      <td>6</td>\n",
       "      <td>7</td>\n",
       "      <td>8</td>\n",
       "      <td>9</td>\n",
       "      <td>10</td>\n",
       "      <td>11</td>\n",
       "    </tr>\n",
       "    <tr>\n",
       "      <th>r3</th>\n",
       "      <td>12</td>\n",
       "      <td>13</td>\n",
       "      <td>14</td>\n",
       "      <td>15</td>\n",
       "      <td>16</td>\n",
       "      <td>17</td>\n",
       "    </tr>\n",
       "  </tbody>\n",
       "</table>\n",
       "</div>"
      ],
      "text/plain": [
       "    c1  c2  c3  c4  c5  c6\n",
       "r2   6   7   8   9  10  11\n",
       "r3  12  13  14  15  16  17"
      ]
     },
     "execution_count": 101,
     "metadata": {},
     "output_type": "execute_result"
    }
   ],
   "source": [
    "df[1:3]"
   ]
  },
  {
   "cell_type": "code",
   "execution_count": 102,
   "metadata": {},
   "outputs": [
    {
     "data": {
      "text/html": [
       "<div>\n",
       "<style scoped>\n",
       "    .dataframe tbody tr th:only-of-type {\n",
       "        vertical-align: middle;\n",
       "    }\n",
       "\n",
       "    .dataframe tbody tr th {\n",
       "        vertical-align: top;\n",
       "    }\n",
       "\n",
       "    .dataframe thead th {\n",
       "        text-align: right;\n",
       "    }\n",
       "</style>\n",
       "<table border=\"1\" class=\"dataframe\">\n",
       "  <thead>\n",
       "    <tr style=\"text-align: right;\">\n",
       "      <th></th>\n",
       "      <th>c1</th>\n",
       "      <th>c3</th>\n",
       "    </tr>\n",
       "  </thead>\n",
       "  <tbody>\n",
       "    <tr>\n",
       "      <th>r1</th>\n",
       "      <td>0</td>\n",
       "      <td>2</td>\n",
       "    </tr>\n",
       "    <tr>\n",
       "      <th>r2</th>\n",
       "      <td>6</td>\n",
       "      <td>8</td>\n",
       "    </tr>\n",
       "    <tr>\n",
       "      <th>r3</th>\n",
       "      <td>12</td>\n",
       "      <td>14</td>\n",
       "    </tr>\n",
       "    <tr>\n",
       "      <th>r4</th>\n",
       "      <td>18</td>\n",
       "      <td>20</td>\n",
       "    </tr>\n",
       "  </tbody>\n",
       "</table>\n",
       "</div>"
      ],
      "text/plain": [
       "    c1  c3\n",
       "r1   0   2\n",
       "r2   6   8\n",
       "r3  12  14\n",
       "r4  18  20"
      ]
     },
     "execution_count": 102,
     "metadata": {},
     "output_type": "execute_result"
    }
   ],
   "source": [
    "df[['c1','c3']] # 값이 1개 이상이면 [[multi index]]로 접근해야 함"
   ]
  },
  {
   "cell_type": "code",
   "execution_count": 103,
   "metadata": {},
   "outputs": [
    {
     "data": {
      "text/html": [
       "<div>\n",
       "<style scoped>\n",
       "    .dataframe tbody tr th:only-of-type {\n",
       "        vertical-align: middle;\n",
       "    }\n",
       "\n",
       "    .dataframe tbody tr th {\n",
       "        vertical-align: top;\n",
       "    }\n",
       "\n",
       "    .dataframe thead th {\n",
       "        text-align: right;\n",
       "    }\n",
       "</style>\n",
       "<table border=\"1\" class=\"dataframe\">\n",
       "  <thead>\n",
       "    <tr style=\"text-align: right;\">\n",
       "      <th></th>\n",
       "      <th>c1</th>\n",
       "      <th>c2</th>\n",
       "      <th>c3</th>\n",
       "      <th>c4</th>\n",
       "      <th>c5</th>\n",
       "      <th>c6</th>\n",
       "    </tr>\n",
       "  </thead>\n",
       "  <tbody>\n",
       "    <tr>\n",
       "      <th>r1</th>\n",
       "      <td>0</td>\n",
       "      <td>1</td>\n",
       "      <td>2</td>\n",
       "      <td>3</td>\n",
       "      <td>4</td>\n",
       "      <td>5</td>\n",
       "    </tr>\n",
       "    <tr>\n",
       "      <th>r2</th>\n",
       "      <td>6</td>\n",
       "      <td>7</td>\n",
       "      <td>8</td>\n",
       "      <td>9</td>\n",
       "      <td>10</td>\n",
       "      <td>11</td>\n",
       "    </tr>\n",
       "  </tbody>\n",
       "</table>\n",
       "</div>"
      ],
      "text/plain": [
       "    c1  c2  c3  c4  c5  c6\n",
       "r1   0   1   2   3   4   5\n",
       "r2   6   7   8   9  10  11"
      ]
     },
     "execution_count": 103,
     "metadata": {},
     "output_type": "execute_result"
    }
   ],
   "source": [
    "df['r1':'r2']"
   ]
  },
  {
   "cell_type": "code",
   "execution_count": null,
   "metadata": {},
   "outputs": [],
   "source": [
    "df['c1' : 'c2'] # error는 아니지만 원하는 값이 안나옴\n",
    "# 컴터는 열 중심, 컴터 열 = 인간 행,  컴터행(인간열)은 역주행이라 불가"
   ]
  },
  {
   "cell_type": "code",
   "execution_count": 105,
   "metadata": {},
   "outputs": [
    {
     "data": {
      "text/html": [
       "<div>\n",
       "<style scoped>\n",
       "    .dataframe tbody tr th:only-of-type {\n",
       "        vertical-align: middle;\n",
       "    }\n",
       "\n",
       "    .dataframe tbody tr th {\n",
       "        vertical-align: top;\n",
       "    }\n",
       "\n",
       "    .dataframe thead th {\n",
       "        text-align: right;\n",
       "    }\n",
       "</style>\n",
       "<table border=\"1\" class=\"dataframe\">\n",
       "  <thead>\n",
       "    <tr style=\"text-align: right;\">\n",
       "      <th></th>\n",
       "      <th>c1</th>\n",
       "      <th>c2</th>\n",
       "    </tr>\n",
       "  </thead>\n",
       "  <tbody>\n",
       "    <tr>\n",
       "      <th>r1</th>\n",
       "      <td>0</td>\n",
       "      <td>1</td>\n",
       "    </tr>\n",
       "    <tr>\n",
       "      <th>r2</th>\n",
       "      <td>6</td>\n",
       "      <td>7</td>\n",
       "    </tr>\n",
       "    <tr>\n",
       "      <th>r3</th>\n",
       "      <td>12</td>\n",
       "      <td>13</td>\n",
       "    </tr>\n",
       "    <tr>\n",
       "      <th>r4</th>\n",
       "      <td>18</td>\n",
       "      <td>19</td>\n",
       "    </tr>\n",
       "  </tbody>\n",
       "</table>\n",
       "</div>"
      ],
      "text/plain": [
       "    c1  c2\n",
       "r1   0   1\n",
       "r2   6   7\n",
       "r3  12  13\n",
       "r4  18  19"
      ]
     },
     "execution_count": 105,
     "metadata": {},
     "output_type": "execute_result"
    }
   ],
   "source": [
    "df[['c1','c2']] # 멀티 인덱스로 하나씩 가져오면 위의 코드를 대체 가능"
   ]
  },
  {
   "cell_type": "code",
   "execution_count": 106,
   "metadata": {},
   "outputs": [
    {
     "data": {
      "text/html": [
       "<div>\n",
       "<style scoped>\n",
       "    .dataframe tbody tr th:only-of-type {\n",
       "        vertical-align: middle;\n",
       "    }\n",
       "\n",
       "    .dataframe tbody tr th {\n",
       "        vertical-align: top;\n",
       "    }\n",
       "\n",
       "    .dataframe thead th {\n",
       "        text-align: right;\n",
       "    }\n",
       "</style>\n",
       "<table border=\"1\" class=\"dataframe\">\n",
       "  <thead>\n",
       "    <tr style=\"text-align: right;\">\n",
       "      <th></th>\n",
       "      <th>c4</th>\n",
       "    </tr>\n",
       "  </thead>\n",
       "  <tbody>\n",
       "    <tr>\n",
       "      <th>r1</th>\n",
       "      <td>3</td>\n",
       "    </tr>\n",
       "  </tbody>\n",
       "</table>\n",
       "</div>"
      ],
      "text/plain": [
       "    c4\n",
       "r1   3"
      ]
     },
     "execution_count": 106,
     "metadata": {},
     "output_type": "execute_result"
    }
   ],
   "source": [
    "df.iloc[[0],[3]]"
   ]
  },
  {
   "cell_type": "code",
   "execution_count": 107,
   "metadata": {},
   "outputs": [
    {
     "data": {
      "text/html": [
       "<div>\n",
       "<style scoped>\n",
       "    .dataframe tbody tr th:only-of-type {\n",
       "        vertical-align: middle;\n",
       "    }\n",
       "\n",
       "    .dataframe tbody tr th {\n",
       "        vertical-align: top;\n",
       "    }\n",
       "\n",
       "    .dataframe thead th {\n",
       "        text-align: right;\n",
       "    }\n",
       "</style>\n",
       "<table border=\"1\" class=\"dataframe\">\n",
       "  <thead>\n",
       "    <tr style=\"text-align: right;\">\n",
       "      <th></th>\n",
       "      <th>c2</th>\n",
       "      <th>c3</th>\n",
       "      <th>c4</th>\n",
       "    </tr>\n",
       "  </thead>\n",
       "  <tbody>\n",
       "    <tr>\n",
       "      <th>r1</th>\n",
       "      <td>1</td>\n",
       "      <td>2</td>\n",
       "      <td>3</td>\n",
       "    </tr>\n",
       "    <tr>\n",
       "      <th>r2</th>\n",
       "      <td>7</td>\n",
       "      <td>8</td>\n",
       "      <td>9</td>\n",
       "    </tr>\n",
       "  </tbody>\n",
       "</table>\n",
       "</div>"
      ],
      "text/plain": [
       "    c2  c3  c4\n",
       "r1   1   2   3\n",
       "r2   7   8   9"
      ]
     },
     "execution_count": 107,
     "metadata": {},
     "output_type": "execute_result"
    }
   ],
   "source": [
    "df.iloc[[0,1],1:4]"
   ]
  },
  {
   "attachments": {},
   "cell_type": "markdown",
   "metadata": {},
   "source": [
    "- loc"
   ]
  },
  {
   "cell_type": "code",
   "execution_count": 110,
   "metadata": {},
   "outputs": [
    {
     "data": {
      "text/html": [
       "<div>\n",
       "<style scoped>\n",
       "    .dataframe tbody tr th:only-of-type {\n",
       "        vertical-align: middle;\n",
       "    }\n",
       "\n",
       "    .dataframe tbody tr th {\n",
       "        vertical-align: top;\n",
       "    }\n",
       "\n",
       "    .dataframe thead th {\n",
       "        text-align: right;\n",
       "    }\n",
       "</style>\n",
       "<table border=\"1\" class=\"dataframe\">\n",
       "  <thead>\n",
       "    <tr style=\"text-align: right;\">\n",
       "      <th></th>\n",
       "      <th>c4</th>\n",
       "    </tr>\n",
       "  </thead>\n",
       "  <tbody>\n",
       "    <tr>\n",
       "      <th>r1</th>\n",
       "      <td>3</td>\n",
       "    </tr>\n",
       "  </tbody>\n",
       "</table>\n",
       "</div>"
      ],
      "text/plain": [
       "    c4\n",
       "r1   3"
      ]
     },
     "execution_count": 110,
     "metadata": {},
     "output_type": "execute_result"
    }
   ],
   "source": [
    "df.loc[['r1'],['c4']] # 멀티인덱스\n",
    "# df.loc['r1','c4'] # 이건 값은 나오지만 행렬은 안나옴"
   ]
  },
  {
   "cell_type": "code",
   "execution_count": 115,
   "metadata": {},
   "outputs": [
    {
     "data": {
      "text/html": [
       "<div>\n",
       "<style scoped>\n",
       "    .dataframe tbody tr th:only-of-type {\n",
       "        vertical-align: middle;\n",
       "    }\n",
       "\n",
       "    .dataframe tbody tr th {\n",
       "        vertical-align: top;\n",
       "    }\n",
       "\n",
       "    .dataframe thead th {\n",
       "        text-align: right;\n",
       "    }\n",
       "</style>\n",
       "<table border=\"1\" class=\"dataframe\">\n",
       "  <thead>\n",
       "    <tr style=\"text-align: right;\">\n",
       "      <th></th>\n",
       "      <th>c2</th>\n",
       "      <th>c3</th>\n",
       "      <th>c4</th>\n",
       "    </tr>\n",
       "  </thead>\n",
       "  <tbody>\n",
       "    <tr>\n",
       "      <th>r1</th>\n",
       "      <td>1</td>\n",
       "      <td>2</td>\n",
       "      <td>3</td>\n",
       "    </tr>\n",
       "    <tr>\n",
       "      <th>r2</th>\n",
       "      <td>7</td>\n",
       "      <td>8</td>\n",
       "      <td>9</td>\n",
       "    </tr>\n",
       "  </tbody>\n",
       "</table>\n",
       "</div>"
      ],
      "text/plain": [
       "    c2  c3  c4\n",
       "r1   1   2   3\n",
       "r2   7   8   9"
      ]
     },
     "execution_count": 115,
     "metadata": {},
     "output_type": "execute_result"
    }
   ],
   "source": [
    "df.loc['r1':'r2', ['c2','c3','c4']]\n",
    "# df.loc['r1':'r2', ['c3','c4','c2']] # 이것도 가능"
   ]
  },
  {
   "attachments": {},
   "cell_type": "markdown",
   "metadata": {},
   "source": [
    "- 산술 연산자\n",
    "  - Series"
   ]
  },
  {
   "cell_type": "code",
   "execution_count": 118,
   "metadata": {},
   "outputs": [
    {
     "data": {
      "text/plain": [
       "a    11\n",
       "b    22\n",
       "c    33\n",
       "d    44\n",
       "dtype: int64"
      ]
     },
     "execution_count": 118,
     "metadata": {},
     "output_type": "execute_result"
    }
   ],
   "source": [
    "s1= pd.Series([1,2,3,4], index=['a','b','c','d'])\n",
    "s2= pd.Series([10,20,30,40], index=['a','b','c','d'])\n",
    "s1 + s2"
   ]
  },
  {
   "cell_type": "code",
   "execution_count": 120,
   "metadata": {},
   "outputs": [
    {
     "data": {
      "text/plain": [
       "a     NaN\n",
       "b    12.0\n",
       "c    23.0\n",
       "d    34.0\n",
       "e     NaN\n",
       "dtype: float64"
      ]
     },
     "execution_count": 120,
     "metadata": {},
     "output_type": "execute_result"
    }
   ],
   "source": [
    "s1= pd.Series([1,2,3,4], index=['a','b','c','d'])\n",
    "s2= pd.Series([10,20,30,40], index=['b','c','d','e'])\n",
    "s1 + s2 # a , e 는 값이 없어서 호출이 안됨 // 교집합 합집합\n",
    "# SQL의 outer join"
   ]
  },
  {
   "cell_type": "code",
   "execution_count": 123,
   "metadata": {},
   "outputs": [
    {
     "data": {
      "text/plain": [
       "a     1.0\n",
       "b    12.0\n",
       "c    23.0\n",
       "d    34.0\n",
       "e    40.0\n",
       "dtype: float64"
      ]
     },
     "execution_count": 123,
     "metadata": {},
     "output_type": "execute_result"
    }
   ],
   "source": [
    "s1.add(s2,fill_value=0)"
   ]
  },
  {
   "cell_type": "code",
   "execution_count": 9,
   "metadata": {},
   "outputs": [
    {
     "data": {
      "text/html": [
       "<div>\n",
       "<style scoped>\n",
       "    .dataframe tbody tr th:only-of-type {\n",
       "        vertical-align: middle;\n",
       "    }\n",
       "\n",
       "    .dataframe tbody tr th {\n",
       "        vertical-align: top;\n",
       "    }\n",
       "\n",
       "    .dataframe thead th {\n",
       "        text-align: right;\n",
       "    }\n",
       "</style>\n",
       "<table border=\"1\" class=\"dataframe\">\n",
       "  <thead>\n",
       "    <tr style=\"text-align: right;\">\n",
       "      <th></th>\n",
       "      <th>Date</th>\n",
       "      <th>kospi</th>\n",
       "      <th>kosdaq</th>\n",
       "      <th>gold_fut_132030</th>\n",
       "      <th>Bond_273130</th>\n",
       "    </tr>\n",
       "  </thead>\n",
       "  <tbody>\n",
       "    <tr>\n",
       "      <th>0</th>\n",
       "      <td>2020. 1. 2 오후 3:30:00</td>\n",
       "      <td>2175.17</td>\n",
       "      <td>674.02</td>\n",
       "      <td>10845</td>\n",
       "      <td>108215</td>\n",
       "    </tr>\n",
       "    <tr>\n",
       "      <th>1</th>\n",
       "      <td>2020. 1. 3 오후 3:30:00</td>\n",
       "      <td>2176.46</td>\n",
       "      <td>669.93</td>\n",
       "      <td>11000</td>\n",
       "      <td>108565</td>\n",
       "    </tr>\n",
       "    <tr>\n",
       "      <th>2</th>\n",
       "      <td>2020. 1. 6 오후 3:30:00</td>\n",
       "      <td>2155.07</td>\n",
       "      <td>655.31</td>\n",
       "      <td>11245</td>\n",
       "      <td>108745</td>\n",
       "    </tr>\n",
       "    <tr>\n",
       "      <th>3</th>\n",
       "      <td>2020. 1. 7 오후 3:30:00</td>\n",
       "      <td>2175.54</td>\n",
       "      <td>663.44</td>\n",
       "      <td>11180</td>\n",
       "      <td>108400</td>\n",
       "    </tr>\n",
       "    <tr>\n",
       "      <th>4</th>\n",
       "      <td>2020. 1. 8 오후 3:30:00</td>\n",
       "      <td>2151.31</td>\n",
       "      <td>640.94</td>\n",
       "      <td>11360</td>\n",
       "      <td>108270</td>\n",
       "    </tr>\n",
       "    <tr>\n",
       "      <th>5</th>\n",
       "      <td>2020. 1. 9 오후 3:30:00</td>\n",
       "      <td>2186.45</td>\n",
       "      <td>666.09</td>\n",
       "      <td>11055</td>\n",
       "      <td>107980</td>\n",
       "    </tr>\n",
       "    <tr>\n",
       "      <th>6</th>\n",
       "      <td>2020. 1. 10 오후 3:30:00</td>\n",
       "      <td>2206.39</td>\n",
       "      <td>673.03</td>\n",
       "      <td>11035</td>\n",
       "      <td>107760</td>\n",
       "    </tr>\n",
       "    <tr>\n",
       "      <th>7</th>\n",
       "      <td>2020. 1. 13 오후 3:30:00</td>\n",
       "      <td>2229.26</td>\n",
       "      <td>679.22</td>\n",
       "      <td>11080</td>\n",
       "      <td>107695</td>\n",
       "    </tr>\n",
       "    <tr>\n",
       "      <th>8</th>\n",
       "      <td>2020. 1. 14 오후 3:30:00</td>\n",
       "      <td>2238.88</td>\n",
       "      <td>678.71</td>\n",
       "      <td>10975</td>\n",
       "      <td>107860</td>\n",
       "    </tr>\n",
       "    <tr>\n",
       "      <th>9</th>\n",
       "      <td>2020. 1. 15 오후 3:30:00</td>\n",
       "      <td>2230.98</td>\n",
       "      <td>679.16</td>\n",
       "      <td>11060</td>\n",
       "      <td>108020</td>\n",
       "    </tr>\n",
       "    <tr>\n",
       "      <th>10</th>\n",
       "      <td>2020. 1. 16 오후 3:30:00</td>\n",
       "      <td>2248.05</td>\n",
       "      <td>686.52</td>\n",
       "      <td>11060</td>\n",
       "      <td>108015</td>\n",
       "    </tr>\n",
       "    <tr>\n",
       "      <th>11</th>\n",
       "      <td>2020. 1. 17 오후 3:30:00</td>\n",
       "      <td>2250.57</td>\n",
       "      <td>688.41</td>\n",
       "      <td>11075</td>\n",
       "      <td>107830</td>\n",
       "    </tr>\n",
       "    <tr>\n",
       "      <th>12</th>\n",
       "      <td>2020. 1. 20 오후 3:30:00</td>\n",
       "      <td>2262.64</td>\n",
       "      <td>683.47</td>\n",
       "      <td>11140</td>\n",
       "      <td>107775</td>\n",
       "    </tr>\n",
       "    <tr>\n",
       "      <th>13</th>\n",
       "      <td>2020. 1. 21 오후 3:30:00</td>\n",
       "      <td>2239.69</td>\n",
       "      <td>676.52</td>\n",
       "      <td>11155</td>\n",
       "      <td>108040</td>\n",
       "    </tr>\n",
       "    <tr>\n",
       "      <th>14</th>\n",
       "      <td>2020. 1. 22 오후 3:30:00</td>\n",
       "      <td>2267.25</td>\n",
       "      <td>688.25</td>\n",
       "      <td>11050</td>\n",
       "      <td>107995</td>\n",
       "    </tr>\n",
       "    <tr>\n",
       "      <th>15</th>\n",
       "      <td>2020. 1. 23 오후 3:30:00</td>\n",
       "      <td>2246.13</td>\n",
       "      <td>685.57</td>\n",
       "      <td>11080</td>\n",
       "      <td>107970</td>\n",
       "    </tr>\n",
       "    <tr>\n",
       "      <th>16</th>\n",
       "      <td>2020. 1. 28 오후 3:30:00</td>\n",
       "      <td>2176.72</td>\n",
       "      <td>664.70</td>\n",
       "      <td>11250</td>\n",
       "      <td>108450</td>\n",
       "    </tr>\n",
       "    <tr>\n",
       "      <th>17</th>\n",
       "      <td>2020. 1. 29 오후 3:30:00</td>\n",
       "      <td>2185.28</td>\n",
       "      <td>670.18</td>\n",
       "      <td>11160</td>\n",
       "      <td>108585</td>\n",
       "    </tr>\n",
       "    <tr>\n",
       "      <th>18</th>\n",
       "      <td>2020. 1. 30 오후 3:30:00</td>\n",
       "      <td>2148.00</td>\n",
       "      <td>656.39</td>\n",
       "      <td>11225</td>\n",
       "      <td>108810</td>\n",
       "    </tr>\n",
       "    <tr>\n",
       "      <th>19</th>\n",
       "      <td>2020. 1. 31 오후 3:30:00</td>\n",
       "      <td>2119.01</td>\n",
       "      <td>642.48</td>\n",
       "      <td>11210</td>\n",
       "      <td>108795</td>\n",
       "    </tr>\n",
       "  </tbody>\n",
       "</table>\n",
       "</div>"
      ],
      "text/plain": [
       "                      Date    kospi  kosdaq  gold_fut_132030  Bond_273130\n",
       "0    2020. 1. 2 오후 3:30:00  2175.17  674.02            10845       108215\n",
       "1    2020. 1. 3 오후 3:30:00  2176.46  669.93            11000       108565\n",
       "2    2020. 1. 6 오후 3:30:00  2155.07  655.31            11245       108745\n",
       "3    2020. 1. 7 오후 3:30:00  2175.54  663.44            11180       108400\n",
       "4    2020. 1. 8 오후 3:30:00  2151.31  640.94            11360       108270\n",
       "5    2020. 1. 9 오후 3:30:00  2186.45  666.09            11055       107980\n",
       "6   2020. 1. 10 오후 3:30:00  2206.39  673.03            11035       107760\n",
       "7   2020. 1. 13 오후 3:30:00  2229.26  679.22            11080       107695\n",
       "8   2020. 1. 14 오후 3:30:00  2238.88  678.71            10975       107860\n",
       "9   2020. 1. 15 오후 3:30:00  2230.98  679.16            11060       108020\n",
       "10  2020. 1. 16 오후 3:30:00  2248.05  686.52            11060       108015\n",
       "11  2020. 1. 17 오후 3:30:00  2250.57  688.41            11075       107830\n",
       "12  2020. 1. 20 오후 3:30:00  2262.64  683.47            11140       107775\n",
       "13  2020. 1. 21 오후 3:30:00  2239.69  676.52            11155       108040\n",
       "14  2020. 1. 22 오후 3:30:00  2267.25  688.25            11050       107995\n",
       "15  2020. 1. 23 오후 3:30:00  2246.13  685.57            11080       107970\n",
       "16  2020. 1. 28 오후 3:30:00  2176.72  664.70            11250       108450\n",
       "17  2020. 1. 29 오후 3:30:00  2185.28  670.18            11160       108585\n",
       "18  2020. 1. 30 오후 3:30:00  2148.00  656.39            11225       108810\n",
       "19  2020. 1. 31 오후 3:30:00  2119.01  642.48            11210       108795"
      ]
     },
     "execution_count": 9,
     "metadata": {},
     "output_type": "execute_result"
    }
   ],
   "source": [
    "import pandas as pd\n",
    "stock = pd.read_csv('https://raw.githubusercontent.com/Youngpyoryu/Lecture_Note/main/%ED%8C%8C%EC%9D%B4%EC%8D%AC/stock_2020_01.csv',encoding= 'CP949')\n",
    "stock"
   ]
  },
  {
   "cell_type": "code",
   "execution_count": 10,
   "metadata": {},
   "outputs": [
    {
     "data": {
      "text/html": [
       "<div>\n",
       "<style scoped>\n",
       "    .dataframe tbody tr th:only-of-type {\n",
       "        vertical-align: middle;\n",
       "    }\n",
       "\n",
       "    .dataframe tbody tr th {\n",
       "        vertical-align: top;\n",
       "    }\n",
       "\n",
       "    .dataframe thead th {\n",
       "        text-align: right;\n",
       "    }\n",
       "</style>\n",
       "<table border=\"1\" class=\"dataframe\">\n",
       "  <thead>\n",
       "    <tr style=\"text-align: right;\">\n",
       "      <th></th>\n",
       "      <th>Date</th>\n",
       "      <th>kospi</th>\n",
       "      <th>kosdaq</th>\n",
       "      <th>gold_fut_132030</th>\n",
       "      <th>Bond_273130</th>\n",
       "    </tr>\n",
       "  </thead>\n",
       "  <tbody>\n",
       "    <tr>\n",
       "      <th>0</th>\n",
       "      <td>2020. 1. 2 오후 3:30:00</td>\n",
       "      <td>2175.17</td>\n",
       "      <td>674.02</td>\n",
       "      <td>10845</td>\n",
       "      <td>108215</td>\n",
       "    </tr>\n",
       "    <tr>\n",
       "      <th>1</th>\n",
       "      <td>2020. 1. 3 오후 3:30:00</td>\n",
       "      <td>2176.46</td>\n",
       "      <td>669.93</td>\n",
       "      <td>11000</td>\n",
       "      <td>108565</td>\n",
       "    </tr>\n",
       "    <tr>\n",
       "      <th>2</th>\n",
       "      <td>2020. 1. 6 오후 3:30:00</td>\n",
       "      <td>2155.07</td>\n",
       "      <td>655.31</td>\n",
       "      <td>11245</td>\n",
       "      <td>108745</td>\n",
       "    </tr>\n",
       "    <tr>\n",
       "      <th>3</th>\n",
       "      <td>2020. 1. 7 오후 3:30:00</td>\n",
       "      <td>2175.54</td>\n",
       "      <td>663.44</td>\n",
       "      <td>11180</td>\n",
       "      <td>108400</td>\n",
       "    </tr>\n",
       "    <tr>\n",
       "      <th>4</th>\n",
       "      <td>2020. 1. 8 오후 3:30:00</td>\n",
       "      <td>2151.31</td>\n",
       "      <td>640.94</td>\n",
       "      <td>11360</td>\n",
       "      <td>108270</td>\n",
       "    </tr>\n",
       "    <tr>\n",
       "      <th>5</th>\n",
       "      <td>2020. 1. 9 오후 3:30:00</td>\n",
       "      <td>2186.45</td>\n",
       "      <td>666.09</td>\n",
       "      <td>11055</td>\n",
       "      <td>107980</td>\n",
       "    </tr>\n",
       "    <tr>\n",
       "      <th>6</th>\n",
       "      <td>2020. 1. 10 오후 3:30:00</td>\n",
       "      <td>2206.39</td>\n",
       "      <td>673.03</td>\n",
       "      <td>11035</td>\n",
       "      <td>107760</td>\n",
       "    </tr>\n",
       "    <tr>\n",
       "      <th>7</th>\n",
       "      <td>2020. 1. 13 오후 3:30:00</td>\n",
       "      <td>2229.26</td>\n",
       "      <td>679.22</td>\n",
       "      <td>11080</td>\n",
       "      <td>107695</td>\n",
       "    </tr>\n",
       "    <tr>\n",
       "      <th>8</th>\n",
       "      <td>2020. 1. 14 오후 3:30:00</td>\n",
       "      <td>2238.88</td>\n",
       "      <td>678.71</td>\n",
       "      <td>10975</td>\n",
       "      <td>107860</td>\n",
       "    </tr>\n",
       "    <tr>\n",
       "      <th>9</th>\n",
       "      <td>2020. 1. 15 오후 3:30:00</td>\n",
       "      <td>2230.98</td>\n",
       "      <td>679.16</td>\n",
       "      <td>11060</td>\n",
       "      <td>108020</td>\n",
       "    </tr>\n",
       "    <tr>\n",
       "      <th>10</th>\n",
       "      <td>2020. 1. 16 오후 3:30:00</td>\n",
       "      <td>2248.05</td>\n",
       "      <td>686.52</td>\n",
       "      <td>11060</td>\n",
       "      <td>108015</td>\n",
       "    </tr>\n",
       "    <tr>\n",
       "      <th>11</th>\n",
       "      <td>2020. 1. 17 오후 3:30:00</td>\n",
       "      <td>2250.57</td>\n",
       "      <td>688.41</td>\n",
       "      <td>11075</td>\n",
       "      <td>107830</td>\n",
       "    </tr>\n",
       "    <tr>\n",
       "      <th>12</th>\n",
       "      <td>2020. 1. 20 오후 3:30:00</td>\n",
       "      <td>2262.64</td>\n",
       "      <td>683.47</td>\n",
       "      <td>11140</td>\n",
       "      <td>107775</td>\n",
       "    </tr>\n",
       "    <tr>\n",
       "      <th>13</th>\n",
       "      <td>2020. 1. 21 오후 3:30:00</td>\n",
       "      <td>2239.69</td>\n",
       "      <td>676.52</td>\n",
       "      <td>11155</td>\n",
       "      <td>108040</td>\n",
       "    </tr>\n",
       "    <tr>\n",
       "      <th>14</th>\n",
       "      <td>2020. 1. 22 오후 3:30:00</td>\n",
       "      <td>2267.25</td>\n",
       "      <td>688.25</td>\n",
       "      <td>11050</td>\n",
       "      <td>107995</td>\n",
       "    </tr>\n",
       "    <tr>\n",
       "      <th>15</th>\n",
       "      <td>2020. 1. 23 오후 3:30:00</td>\n",
       "      <td>2246.13</td>\n",
       "      <td>685.57</td>\n",
       "      <td>11080</td>\n",
       "      <td>107970</td>\n",
       "    </tr>\n",
       "    <tr>\n",
       "      <th>16</th>\n",
       "      <td>2020. 1. 28 오후 3:30:00</td>\n",
       "      <td>2176.72</td>\n",
       "      <td>664.70</td>\n",
       "      <td>11250</td>\n",
       "      <td>108450</td>\n",
       "    </tr>\n",
       "    <tr>\n",
       "      <th>17</th>\n",
       "      <td>2020. 1. 29 오후 3:30:00</td>\n",
       "      <td>2185.28</td>\n",
       "      <td>670.18</td>\n",
       "      <td>11160</td>\n",
       "      <td>108585</td>\n",
       "    </tr>\n",
       "    <tr>\n",
       "      <th>18</th>\n",
       "      <td>2020. 1. 30 오후 3:30:00</td>\n",
       "      <td>2148.00</td>\n",
       "      <td>656.39</td>\n",
       "      <td>11225</td>\n",
       "      <td>108810</td>\n",
       "    </tr>\n",
       "    <tr>\n",
       "      <th>19</th>\n",
       "      <td>2020. 1. 31 오후 3:30:00</td>\n",
       "      <td>2119.01</td>\n",
       "      <td>642.48</td>\n",
       "      <td>11210</td>\n",
       "      <td>108795</td>\n",
       "    </tr>\n",
       "  </tbody>\n",
       "</table>\n",
       "</div>"
      ],
      "text/plain": [
       "                      Date    kospi  kosdaq  gold_fut_132030  Bond_273130\n",
       "0    2020. 1. 2 오후 3:30:00  2175.17  674.02            10845       108215\n",
       "1    2020. 1. 3 오후 3:30:00  2176.46  669.93            11000       108565\n",
       "2    2020. 1. 6 오후 3:30:00  2155.07  655.31            11245       108745\n",
       "3    2020. 1. 7 오후 3:30:00  2175.54  663.44            11180       108400\n",
       "4    2020. 1. 8 오후 3:30:00  2151.31  640.94            11360       108270\n",
       "5    2020. 1. 9 오후 3:30:00  2186.45  666.09            11055       107980\n",
       "6   2020. 1. 10 오후 3:30:00  2206.39  673.03            11035       107760\n",
       "7   2020. 1. 13 오후 3:30:00  2229.26  679.22            11080       107695\n",
       "8   2020. 1. 14 오후 3:30:00  2238.88  678.71            10975       107860\n",
       "9   2020. 1. 15 오후 3:30:00  2230.98  679.16            11060       108020\n",
       "10  2020. 1. 16 오후 3:30:00  2248.05  686.52            11060       108015\n",
       "11  2020. 1. 17 오후 3:30:00  2250.57  688.41            11075       107830\n",
       "12  2020. 1. 20 오후 3:30:00  2262.64  683.47            11140       107775\n",
       "13  2020. 1. 21 오후 3:30:00  2239.69  676.52            11155       108040\n",
       "14  2020. 1. 22 오후 3:30:00  2267.25  688.25            11050       107995\n",
       "15  2020. 1. 23 오후 3:30:00  2246.13  685.57            11080       107970\n",
       "16  2020. 1. 28 오후 3:30:00  2176.72  664.70            11250       108450\n",
       "17  2020. 1. 29 오후 3:30:00  2185.28  670.18            11160       108585\n",
       "18  2020. 1. 30 오후 3:30:00  2148.00  656.39            11225       108810\n",
       "19  2020. 1. 31 오후 3:30:00  2119.01  642.48            11210       108795"
      ]
     },
     "execution_count": 10,
     "metadata": {},
     "output_type": "execute_result"
    }
   ],
   "source": [
    "stock = pd.read_csv(\"C:/Users/5/stock_2020_01.csv\", encoding='CP949')\n",
    "stock"
   ]
  },
  {
   "cell_type": "code",
   "execution_count": 11,
   "metadata": {},
   "outputs": [
    {
     "data": {
      "text/html": [
       "<div>\n",
       "<style scoped>\n",
       "    .dataframe tbody tr th:only-of-type {\n",
       "        vertical-align: middle;\n",
       "    }\n",
       "\n",
       "    .dataframe tbody tr th {\n",
       "        vertical-align: top;\n",
       "    }\n",
       "\n",
       "    .dataframe thead th {\n",
       "        text-align: right;\n",
       "    }\n",
       "</style>\n",
       "<table border=\"1\" class=\"dataframe\">\n",
       "  <thead>\n",
       "    <tr style=\"text-align: right;\">\n",
       "      <th></th>\n",
       "      <th>Date</th>\n",
       "      <th>kospi</th>\n",
       "      <th>kosdaq</th>\n",
       "      <th>gold_fut_132030</th>\n",
       "      <th>Bond_273130</th>\n",
       "    </tr>\n",
       "  </thead>\n",
       "  <tbody>\n",
       "    <tr>\n",
       "      <th>0</th>\n",
       "      <td>2020. 1. 2 오후 3:30:00</td>\n",
       "      <td>2175.17</td>\n",
       "      <td>674.02</td>\n",
       "      <td>10845</td>\n",
       "      <td>108215</td>\n",
       "    </tr>\n",
       "    <tr>\n",
       "      <th>1</th>\n",
       "      <td>2020. 1. 3 오후 3:30:00</td>\n",
       "      <td>2176.46</td>\n",
       "      <td>669.93</td>\n",
       "      <td>11000</td>\n",
       "      <td>108565</td>\n",
       "    </tr>\n",
       "    <tr>\n",
       "      <th>2</th>\n",
       "      <td>2020. 1. 6 오후 3:30:00</td>\n",
       "      <td>2155.07</td>\n",
       "      <td>655.31</td>\n",
       "      <td>11245</td>\n",
       "      <td>108745</td>\n",
       "    </tr>\n",
       "    <tr>\n",
       "      <th>3</th>\n",
       "      <td>2020. 1. 7 오후 3:30:00</td>\n",
       "      <td>2175.54</td>\n",
       "      <td>663.44</td>\n",
       "      <td>11180</td>\n",
       "      <td>108400</td>\n",
       "    </tr>\n",
       "    <tr>\n",
       "      <th>4</th>\n",
       "      <td>2020. 1. 8 오후 3:30:00</td>\n",
       "      <td>2151.31</td>\n",
       "      <td>640.94</td>\n",
       "      <td>11360</td>\n",
       "      <td>108270</td>\n",
       "    </tr>\n",
       "  </tbody>\n",
       "</table>\n",
       "</div>"
      ],
      "text/plain": [
       "                    Date    kospi  kosdaq  gold_fut_132030  Bond_273130\n",
       "0  2020. 1. 2 오후 3:30:00  2175.17  674.02            10845       108215\n",
       "1  2020. 1. 3 오후 3:30:00  2176.46  669.93            11000       108565\n",
       "2  2020. 1. 6 오후 3:30:00  2155.07  655.31            11245       108745\n",
       "3  2020. 1. 7 오후 3:30:00  2175.54  663.44            11180       108400\n",
       "4  2020. 1. 8 오후 3:30:00  2151.31  640.94            11360       108270"
      ]
     },
     "execution_count": 11,
     "metadata": {},
     "output_type": "execute_result"
    }
   ],
   "source": [
    "stock.head() # ()위에서 5개 // (3)위에서 3개"
   ]
  },
  {
   "cell_type": "code",
   "execution_count": 12,
   "metadata": {},
   "outputs": [
    {
     "data": {
      "text/html": [
       "<div>\n",
       "<style scoped>\n",
       "    .dataframe tbody tr th:only-of-type {\n",
       "        vertical-align: middle;\n",
       "    }\n",
       "\n",
       "    .dataframe tbody tr th {\n",
       "        vertical-align: top;\n",
       "    }\n",
       "\n",
       "    .dataframe thead th {\n",
       "        text-align: right;\n",
       "    }\n",
       "</style>\n",
       "<table border=\"1\" class=\"dataframe\">\n",
       "  <thead>\n",
       "    <tr style=\"text-align: right;\">\n",
       "      <th></th>\n",
       "      <th>Date</th>\n",
       "      <th>kospi</th>\n",
       "      <th>kosdaq</th>\n",
       "      <th>gold_fut_132030</th>\n",
       "      <th>Bond_273130</th>\n",
       "    </tr>\n",
       "  </thead>\n",
       "  <tbody>\n",
       "    <tr>\n",
       "      <th>15</th>\n",
       "      <td>2020. 1. 23 오후 3:30:00</td>\n",
       "      <td>2246.13</td>\n",
       "      <td>685.57</td>\n",
       "      <td>11080</td>\n",
       "      <td>107970</td>\n",
       "    </tr>\n",
       "    <tr>\n",
       "      <th>16</th>\n",
       "      <td>2020. 1. 28 오후 3:30:00</td>\n",
       "      <td>2176.72</td>\n",
       "      <td>664.70</td>\n",
       "      <td>11250</td>\n",
       "      <td>108450</td>\n",
       "    </tr>\n",
       "    <tr>\n",
       "      <th>17</th>\n",
       "      <td>2020. 1. 29 오후 3:30:00</td>\n",
       "      <td>2185.28</td>\n",
       "      <td>670.18</td>\n",
       "      <td>11160</td>\n",
       "      <td>108585</td>\n",
       "    </tr>\n",
       "    <tr>\n",
       "      <th>18</th>\n",
       "      <td>2020. 1. 30 오후 3:30:00</td>\n",
       "      <td>2148.00</td>\n",
       "      <td>656.39</td>\n",
       "      <td>11225</td>\n",
       "      <td>108810</td>\n",
       "    </tr>\n",
       "    <tr>\n",
       "      <th>19</th>\n",
       "      <td>2020. 1. 31 오후 3:30:00</td>\n",
       "      <td>2119.01</td>\n",
       "      <td>642.48</td>\n",
       "      <td>11210</td>\n",
       "      <td>108795</td>\n",
       "    </tr>\n",
       "  </tbody>\n",
       "</table>\n",
       "</div>"
      ],
      "text/plain": [
       "                      Date    kospi  kosdaq  gold_fut_132030  Bond_273130\n",
       "15  2020. 1. 23 오후 3:30:00  2246.13  685.57            11080       107970\n",
       "16  2020. 1. 28 오후 3:30:00  2176.72  664.70            11250       108450\n",
       "17  2020. 1. 29 오후 3:30:00  2185.28  670.18            11160       108585\n",
       "18  2020. 1. 30 오후 3:30:00  2148.00  656.39            11225       108810\n",
       "19  2020. 1. 31 오후 3:30:00  2119.01  642.48            11210       108795"
      ]
     },
     "execution_count": 12,
     "metadata": {},
     "output_type": "execute_result"
    }
   ],
   "source": [
    "stock.tail() # ()위에서 5개"
   ]
  },
  {
   "attachments": {},
   "cell_type": "markdown",
   "metadata": {},
   "source": [
    "- 기술통계량"
   ]
  },
  {
   "cell_type": "code",
   "execution_count": 13,
   "metadata": {},
   "outputs": [
    {
     "data": {
      "text/html": [
       "<div>\n",
       "<style scoped>\n",
       "    .dataframe tbody tr th:only-of-type {\n",
       "        vertical-align: middle;\n",
       "    }\n",
       "\n",
       "    .dataframe tbody tr th {\n",
       "        vertical-align: top;\n",
       "    }\n",
       "\n",
       "    .dataframe thead th {\n",
       "        text-align: right;\n",
       "    }\n",
       "</style>\n",
       "<table border=\"1\" class=\"dataframe\">\n",
       "  <thead>\n",
       "    <tr style=\"text-align: right;\">\n",
       "      <th></th>\n",
       "      <th>kospi</th>\n",
       "      <th>kosdaq</th>\n",
       "      <th>gold_fut_132030</th>\n",
       "      <th>Bond_273130</th>\n",
       "    </tr>\n",
       "  </thead>\n",
       "  <tbody>\n",
       "    <tr>\n",
       "      <th>count</th>\n",
       "      <td>20.00000</td>\n",
       "      <td>20.000000</td>\n",
       "      <td>20.000000</td>\n",
       "      <td>20.0000</td>\n",
       "    </tr>\n",
       "    <tr>\n",
       "      <th>mean</th>\n",
       "      <td>2203.44250</td>\n",
       "      <td>671.117000</td>\n",
       "      <td>11112.000000</td>\n",
       "      <td>108188.7500</td>\n",
       "    </tr>\n",
       "    <tr>\n",
       "      <th>std</th>\n",
       "      <td>43.83648</td>\n",
       "      <td>14.040831</td>\n",
       "      <td>115.762916</td>\n",
       "      <td>364.6912</td>\n",
       "    </tr>\n",
       "    <tr>\n",
       "      <th>min</th>\n",
       "      <td>2119.01000</td>\n",
       "      <td>640.940000</td>\n",
       "      <td>10845.000000</td>\n",
       "      <td>107695.0000</td>\n",
       "    </tr>\n",
       "    <tr>\n",
       "      <th>25%</th>\n",
       "      <td>2175.44750</td>\n",
       "      <td>664.385000</td>\n",
       "      <td>11053.750000</td>\n",
       "      <td>107942.5000</td>\n",
       "    </tr>\n",
       "    <tr>\n",
       "      <th>50%</th>\n",
       "      <td>2196.42000</td>\n",
       "      <td>673.525000</td>\n",
       "      <td>11080.000000</td>\n",
       "      <td>108030.0000</td>\n",
       "    </tr>\n",
       "    <tr>\n",
       "      <th>75%</th>\n",
       "      <td>2241.30000</td>\n",
       "      <td>680.282500</td>\n",
       "      <td>11187.500000</td>\n",
       "      <td>108478.7500</td>\n",
       "    </tr>\n",
       "    <tr>\n",
       "      <th>max</th>\n",
       "      <td>2267.25000</td>\n",
       "      <td>688.410000</td>\n",
       "      <td>11360.000000</td>\n",
       "      <td>108810.0000</td>\n",
       "    </tr>\n",
       "  </tbody>\n",
       "</table>\n",
       "</div>"
      ],
      "text/plain": [
       "            kospi      kosdaq  gold_fut_132030  Bond_273130\n",
       "count    20.00000   20.000000        20.000000      20.0000\n",
       "mean   2203.44250  671.117000     11112.000000  108188.7500\n",
       "std      43.83648   14.040831       115.762916     364.6912\n",
       "min    2119.01000  640.940000     10845.000000  107695.0000\n",
       "25%    2175.44750  664.385000     11053.750000  107942.5000\n",
       "50%    2196.42000  673.525000     11080.000000  108030.0000\n",
       "75%    2241.30000  680.282500     11187.500000  108478.7500\n",
       "max    2267.25000  688.410000     11360.000000  108810.0000"
      ]
     },
     "execution_count": 13,
     "metadata": {},
     "output_type": "execute_result"
    }
   ],
   "source": [
    "stock.describe() # 평균과 중앙값이 같으면 정규분포\n",
    "# 갯수/평균/표준편차/가장작은값/데이터25%/50%(메디안(median)=중앙값)/75%/가장큰값"
   ]
  },
  {
   "cell_type": "code",
   "execution_count": 14,
   "metadata": {},
   "outputs": [
    {
     "ename": "NameError",
     "evalue": "name 'np' is not defined",
     "output_type": "error",
     "traceback": [
      "\u001b[1;31m---------------------------------------------------------------------------\u001b[0m",
      "\u001b[1;31mNameError\u001b[0m                                 Traceback (most recent call last)",
      "Cell \u001b[1;32mIn[14], line 1\u001b[0m\n\u001b[1;32m----> 1\u001b[0m A\u001b[39m=\u001b[39mnp\u001b[39m.\u001b[39marray([\u001b[39m16\u001b[39m,\u001b[39m12\u001b[39m,\u001b[39m28\u001b[39m,\u001b[39m8\u001b[39m,\u001b[39m18\u001b[39m,\u001b[39m17\u001b[39m,\u001b[39m28\u001b[39m,\u001b[39m24\u001b[39m,\u001b[39m5\u001b[39m,\u001b[39m4\u001b[39m,\u001b[39m12\u001b[39m,\u001b[39m16\u001b[39m,\u001b[39m8\u001b[39m,\u001b[39m4\u001b[39m,\u001b[39m4\u001b[39m,\u001b[39m4\u001b[39m])\n\u001b[0;32m      2\u001b[0m A\u001b[39m.\u001b[39mmean()\n",
      "\u001b[1;31mNameError\u001b[0m: name 'np' is not defined"
     ]
    }
   ],
   "source": [
    "A=np.array([16,12,28,8,18,17,28,24,5,4,12,16,8,4,4,4])\n",
    "A.mean()"
   ]
  },
  {
   "cell_type": "code",
   "execution_count": null,
   "metadata": {},
   "outputs": [
    {
     "data": {
      "text/plain": [
       "12.0"
      ]
     },
     "execution_count": 150,
     "metadata": {},
     "output_type": "execute_result"
    }
   ],
   "source": [
    "np.median(A)"
   ]
  },
  {
   "attachments": {},
   "cell_type": "markdown",
   "metadata": {},
   "source": [
    "정규분포 / 평균값=중앙값 : 신뢰구간/ 1.96 / 2.58 /\n",
    "over view"
   ]
  },
  {
   "attachments": {},
   "cell_type": "markdown",
   "metadata": {},
   "source": [
    "- 결축치(missing value)"
   ]
  },
  {
   "cell_type": "code",
   "execution_count": null,
   "metadata": {},
   "outputs": [
    {
     "data": {
      "text/plain": [
       "Date               0\n",
       "kospi              0\n",
       "kosdaq             0\n",
       "gold_fut_132030    0\n",
       "Bond_273130        0\n",
       "dtype: int64"
      ]
     },
     "execution_count": 154,
     "metadata": {},
     "output_type": "execute_result"
    }
   ],
   "source": [
    "stock.isna().sum() #.sum() 한번 더 붙이면 전체 갯수\n",
    "# stock.isnull().sum()  # 위와 같음"
   ]
  },
  {
   "attachments": {},
   "cell_type": "markdown",
   "metadata": {},
   "source": [
    "데이터의 자료형 -> info()"
   ]
  },
  {
   "cell_type": "code",
   "execution_count": null,
   "metadata": {},
   "outputs": [
    {
     "name": "stdout",
     "output_type": "stream",
     "text": [
      "<class 'pandas.core.frame.DataFrame'>\n",
      "RangeIndex: 20 entries, 0 to 19\n",
      "Data columns (total 5 columns):\n",
      " #   Column           Non-Null Count  Dtype  \n",
      "---  ------           --------------  -----  \n",
      " 0   Date             20 non-null     object \n",
      " 1   kospi            20 non-null     float64\n",
      " 2   kosdaq           20 non-null     float64\n",
      " 3   gold_fut_132030  20 non-null     int64  \n",
      " 4   Bond_273130      20 non-null     int64  \n",
      "dtypes: float64(2), int64(2), object(1)\n",
      "memory usage: 928.0+ bytes\n"
     ]
    }
   ],
   "source": [
    "stock.info()"
   ]
  },
  {
   "cell_type": "code",
   "execution_count": null,
   "metadata": {},
   "outputs": [
    {
     "data": {
      "text/plain": [
       "0      2020. 1. 2 오후 3:30:00\n",
       "1      2020. 1. 3 오후 3:30:00\n",
       "2      2020. 1. 6 오후 3:30:00\n",
       "3      2020. 1. 7 오후 3:30:00\n",
       "4      2020. 1. 8 오후 3:30:00\n",
       "5      2020. 1. 9 오후 3:30:00\n",
       "6     2020. 1. 10 오후 3:30:00\n",
       "7     2020. 1. 13 오후 3:30:00\n",
       "8     2020. 1. 14 오후 3:30:00\n",
       "9     2020. 1. 15 오후 3:30:00\n",
       "10    2020. 1. 16 오후 3:30:00\n",
       "11    2020. 1. 17 오후 3:30:00\n",
       "12    2020. 1. 20 오후 3:30:00\n",
       "13    2020. 1. 21 오후 3:30:00\n",
       "14    2020. 1. 22 오후 3:30:00\n",
       "15    2020. 1. 23 오후 3:30:00\n",
       "16    2020. 1. 28 오후 3:30:00\n",
       "17    2020. 1. 29 오후 3:30:00\n",
       "18    2020. 1. 30 오후 3:30:00\n",
       "19    2020. 1. 31 오후 3:30:00\n",
       "Name: Date, dtype: object"
      ]
     },
     "execution_count": 177,
     "metadata": {},
     "output_type": "execute_result"
    }
   ],
   "source": [
    "stock['Date']"
   ]
  },
  {
   "cell_type": "code",
   "execution_count": null,
   "metadata": {},
   "outputs": [
    {
     "data": {
      "text/plain": [
       "19    2119.01\n",
       "18    2148.00\n",
       "4     2151.31\n",
       "2     2155.07\n",
       "0     2175.17\n",
       "3     2175.54\n",
       "1     2176.46\n",
       "16    2176.72\n",
       "17    2185.28\n",
       "5     2186.45\n",
       "6     2206.39\n",
       "7     2229.26\n",
       "9     2230.98\n",
       "8     2238.88\n",
       "13    2239.69\n",
       "15    2246.13\n",
       "10    2248.05\n",
       "11    2250.57\n",
       "12    2262.64\n",
       "14    2267.25\n",
       "Name: kospi, dtype: float64"
      ]
     },
     "execution_count": 179,
     "metadata": {},
     "output_type": "execute_result"
    }
   ],
   "source": [
    "stock['kospi'].sort_values() # 코스피가 높은 값부터 출력 # 데이터 프레임"
   ]
  },
  {
   "attachments": {},
   "cell_type": "markdown",
   "metadata": {},
   "source": [
    "- unique\n",
    "    - 중복되는 값을 제거하고 유일한 값만 담고있는 Series를 반환\n",
    "    - 데이터프레임에서는 안되지만  \n",
    "  데이터에서 시리즈로 만든다면 사용가능"
   ]
  },
  {
   "cell_type": "code",
   "execution_count": null,
   "metadata": {},
   "outputs": [
    {
     "data": {
      "text/plain": [
       "0    2.0\n",
       "1    1.0\n",
       "2    3.0\n",
       "3    3.0\n",
       "4    1.0\n",
       "5    5.0\n",
       "6    NaN\n",
       "7    1.0\n",
       "8    2.0\n",
       "dtype: float64"
      ]
     },
     "execution_count": 180,
     "metadata": {},
     "output_type": "execute_result"
    }
   ],
   "source": [
    "obj = pd.Series([2,1,3,3,1,5,np.nan,1,2]) # nan = not a number\n",
    "obj"
   ]
  },
  {
   "cell_type": "code",
   "execution_count": null,
   "metadata": {},
   "outputs": [
    {
     "data": {
      "text/plain": [
       "1"
      ]
     },
     "execution_count": 183,
     "metadata": {},
     "output_type": "execute_result"
    }
   ],
   "source": [
    "obj.isnull().sum()"
   ]
  },
  {
   "cell_type": "code",
   "execution_count": null,
   "metadata": {},
   "outputs": [
    {
     "data": {
      "text/plain": [
       "array([ 2.,  1.,  3.,  5., nan])"
      ]
     },
     "execution_count": 185,
     "metadata": {},
     "output_type": "execute_result"
    }
   ],
   "source": [
    "obj.unique()"
   ]
  },
  {
   "cell_type": "code",
   "execution_count": null,
   "metadata": {},
   "outputs": [],
   "source": [
    "stock['kospi'].unique() # Series\n"
   ]
  },
  {
   "attachments": {},
   "cell_type": "markdown",
   "metadata": {},
   "source": [
    "- value_conuts"
   ]
  },
  {
   "cell_type": "code",
   "execution_count": null,
   "metadata": {},
   "outputs": [
    {
     "data": {
      "text/plain": [
       "1.0    3\n",
       "2.0    2\n",
       "3.0    2\n",
       "5.0    1\n",
       "Name: count, dtype: int64"
      ]
     },
     "execution_count": 186,
     "metadata": {},
     "output_type": "execute_result"
    }
   ],
   "source": [
    "obj.value_counts() # 180번 줄에 대한 것"
   ]
  },
  {
   "cell_type": "code",
   "execution_count": null,
   "metadata": {},
   "outputs": [
    {
     "data": {
      "text/plain": [
       "1    1.0\n",
       "4    1.0\n",
       "7    1.0\n",
       "0    2.0\n",
       "8    2.0\n",
       "2    3.0\n",
       "3    3.0\n",
       "5    5.0\n",
       "6    NaN\n",
       "dtype: float64"
      ]
     },
     "execution_count": 188,
     "metadata": {},
     "output_type": "execute_result"
    }
   ],
   "source": [
    "obj.sort_values()"
   ]
  },
  {
   "cell_type": "code",
   "execution_count": null,
   "metadata": {},
   "outputs": [
    {
     "data": {
      "text/plain": [
       "1.0    0.375\n",
       "2.0    0.250\n",
       "3.0    0.250\n",
       "5.0    0.125\n",
       "Name: proportion, dtype: float64"
      ]
     },
     "execution_count": 190,
     "metadata": {},
     "output_type": "execute_result"
    }
   ],
   "source": [
    "obj.value_counts(normalize=True) # 노멀라이즈"
   ]
  },
  {
   "cell_type": "code",
   "execution_count": null,
   "metadata": {},
   "outputs": [
    {
     "data": {
      "text/plain": [
       "1    1.0\n",
       "4    1.0\n",
       "7    1.0\n",
       "0    2.0\n",
       "8    2.0\n",
       "2    3.0\n",
       "3    3.0\n",
       "5    5.0\n",
       "6    NaN\n",
       "dtype: float64"
      ]
     },
     "execution_count": 191,
     "metadata": {},
     "output_type": "execute_result"
    }
   ],
   "source": [
    "obj.sort_values() # index보다 이걸 더 많이 씀, 값을 정렬 하기 때문"
   ]
  },
  {
   "cell_type": "code",
   "execution_count": null,
   "metadata": {},
   "outputs": [
    {
     "data": {
      "text/plain": [
       "a    1\n",
       "d    2\n",
       "e    3\n",
       "b   -1\n",
       "c   -2\n",
       "dtype: int64"
      ]
     },
     "execution_count": 192,
     "metadata": {},
     "output_type": "execute_result"
    }
   ],
   "source": [
    "obj = pd.Series([1,2,3,-1,-2], index=list('adebc'))\n",
    "obj"
   ]
  },
  {
   "cell_type": "code",
   "execution_count": null,
   "metadata": {},
   "outputs": [
    {
     "data": {
      "text/plain": [
       "가    1\n",
       "마    2\n",
       "나    3\n",
       "라   -1\n",
       "다   -2\n",
       "dtype: int64"
      ]
     },
     "execution_count": 196,
     "metadata": {},
     "output_type": "execute_result"
    }
   ],
   "source": [
    "obj = pd.Series([1,2,3,-1,-2], index=list('가마나라다')) # 한 글 가능\n",
    "obj"
   ]
  },
  {
   "cell_type": "code",
   "execution_count": null,
   "metadata": {},
   "outputs": [
    {
     "data": {
      "text/plain": [
       "a    1\n",
       "b   -1\n",
       "c   -2\n",
       "d    2\n",
       "e    3\n",
       "dtype: int64"
      ]
     },
     "execution_count": 194,
     "metadata": {},
     "output_type": "execute_result"
    }
   ],
   "source": [
    "obj.sort_index() # 알파벳 순이라 그닥이래"
   ]
  },
  {
   "cell_type": "code",
   "execution_count": null,
   "metadata": {},
   "outputs": [
    {
     "data": {
      "text/plain": [
       "마    2\n",
       "라   -1\n",
       "다   -2\n",
       "나    3\n",
       "가    1\n",
       "dtype: int64"
      ]
     },
     "execution_count": 198,
     "metadata": {},
     "output_type": "execute_result"
    }
   ],
   "source": [
    "obj.sort_index(ascending=False) # ascending(오름차순)"
   ]
  },
  {
   "cell_type": "code",
   "execution_count": null,
   "metadata": {},
   "outputs": [
    {
     "data": {
      "text/html": [
       "<div>\n",
       "<style scoped>\n",
       "    .dataframe tbody tr th:only-of-type {\n",
       "        vertical-align: middle;\n",
       "    }\n",
       "\n",
       "    .dataframe tbody tr th {\n",
       "        vertical-align: top;\n",
       "    }\n",
       "\n",
       "    .dataframe thead th {\n",
       "        text-align: right;\n",
       "    }\n",
       "</style>\n",
       "<table border=\"1\" class=\"dataframe\">\n",
       "  <thead>\n",
       "    <tr style=\"text-align: right;\">\n",
       "      <th></th>\n",
       "      <th>e</th>\n",
       "      <th>d</th>\n",
       "      <th>f</th>\n",
       "    </tr>\n",
       "  </thead>\n",
       "  <tbody>\n",
       "    <tr>\n",
       "      <th>a</th>\n",
       "      <td>0</td>\n",
       "      <td>1</td>\n",
       "      <td>2</td>\n",
       "    </tr>\n",
       "    <tr>\n",
       "      <th>b</th>\n",
       "      <td>3</td>\n",
       "      <td>4</td>\n",
       "      <td>5</td>\n",
       "    </tr>\n",
       "    <tr>\n",
       "      <th>c</th>\n",
       "      <td>6</td>\n",
       "      <td>7</td>\n",
       "      <td>8</td>\n",
       "    </tr>\n",
       "  </tbody>\n",
       "</table>\n",
       "</div>"
      ],
      "text/plain": [
       "   e  d  f\n",
       "a  0  1  2\n",
       "b  3  4  5\n",
       "c  6  7  8"
      ]
     },
     "execution_count": 202,
     "metadata": {},
     "output_type": "execute_result"
    }
   ],
   "source": [
    "frame = pd.DataFrame(np.arange(9).reshape(3,3),\n",
    "                     index = list('abc'),\n",
    "                     columns = list('edf'))\n",
    "frame"
   ]
  },
  {
   "cell_type": "code",
   "execution_count": null,
   "metadata": {},
   "outputs": [
    {
     "data": {
      "text/html": [
       "<div>\n",
       "<style scoped>\n",
       "    .dataframe tbody tr th:only-of-type {\n",
       "        vertical-align: middle;\n",
       "    }\n",
       "\n",
       "    .dataframe tbody tr th {\n",
       "        vertical-align: top;\n",
       "    }\n",
       "\n",
       "    .dataframe thead th {\n",
       "        text-align: right;\n",
       "    }\n",
       "</style>\n",
       "<table border=\"1\" class=\"dataframe\">\n",
       "  <thead>\n",
       "    <tr style=\"text-align: right;\">\n",
       "      <th></th>\n",
       "      <th>d</th>\n",
       "      <th>e</th>\n",
       "      <th>f</th>\n",
       "    </tr>\n",
       "  </thead>\n",
       "  <tbody>\n",
       "    <tr>\n",
       "      <th>a</th>\n",
       "      <td>1</td>\n",
       "      <td>0</td>\n",
       "      <td>2</td>\n",
       "    </tr>\n",
       "    <tr>\n",
       "      <th>b</th>\n",
       "      <td>4</td>\n",
       "      <td>3</td>\n",
       "      <td>5</td>\n",
       "    </tr>\n",
       "    <tr>\n",
       "      <th>c</th>\n",
       "      <td>7</td>\n",
       "      <td>6</td>\n",
       "      <td>8</td>\n",
       "    </tr>\n",
       "  </tbody>\n",
       "</table>\n",
       "</div>"
      ],
      "text/plain": [
       "   d  e  f\n",
       "a  1  0  2\n",
       "b  4  3  5\n",
       "c  7  6  8"
      ]
     },
     "execution_count": 208,
     "metadata": {},
     "output_type": "execute_result"
    }
   ],
   "source": [
    "frame.sort_index(axis=1) # axis : numpy 0열 1행 / pandas = 0행 1열"
   ]
  },
  {
   "cell_type": "code",
   "execution_count": null,
   "metadata": {},
   "outputs": [
    {
     "data": {
      "text/html": [
       "<div>\n",
       "<style scoped>\n",
       "    .dataframe tbody tr th:only-of-type {\n",
       "        vertical-align: middle;\n",
       "    }\n",
       "\n",
       "    .dataframe tbody tr th {\n",
       "        vertical-align: top;\n",
       "    }\n",
       "\n",
       "    .dataframe thead th {\n",
       "        text-align: right;\n",
       "    }\n",
       "</style>\n",
       "<table border=\"1\" class=\"dataframe\">\n",
       "  <thead>\n",
       "    <tr style=\"text-align: right;\">\n",
       "      <th></th>\n",
       "      <th>e</th>\n",
       "      <th>d</th>\n",
       "      <th>f</th>\n",
       "    </tr>\n",
       "  </thead>\n",
       "  <tbody>\n",
       "    <tr>\n",
       "      <th>c</th>\n",
       "      <td>6</td>\n",
       "      <td>7</td>\n",
       "      <td>8</td>\n",
       "    </tr>\n",
       "    <tr>\n",
       "      <th>b</th>\n",
       "      <td>3</td>\n",
       "      <td>4</td>\n",
       "      <td>5</td>\n",
       "    </tr>\n",
       "    <tr>\n",
       "      <th>a</th>\n",
       "      <td>0</td>\n",
       "      <td>1</td>\n",
       "      <td>2</td>\n",
       "    </tr>\n",
       "  </tbody>\n",
       "</table>\n",
       "</div>"
      ],
      "text/plain": [
       "   e  d  f\n",
       "c  6  7  8\n",
       "b  3  4  5\n",
       "a  0  1  2"
      ]
     },
     "execution_count": 210,
     "metadata": {},
     "output_type": "execute_result"
    }
   ],
   "source": [
    "frame.sort_values(by='e', ascending=False)"
   ]
  },
  {
   "cell_type": "code",
   "execution_count": null,
   "metadata": {},
   "outputs": [
    {
     "data": {
      "text/html": [
       "<div>\n",
       "<style scoped>\n",
       "    .dataframe tbody tr th:only-of-type {\n",
       "        vertical-align: middle;\n",
       "    }\n",
       "\n",
       "    .dataframe tbody tr th {\n",
       "        vertical-align: top;\n",
       "    }\n",
       "\n",
       "    .dataframe thead th {\n",
       "        text-align: right;\n",
       "    }\n",
       "</style>\n",
       "<table border=\"1\" class=\"dataframe\">\n",
       "  <thead>\n",
       "    <tr style=\"text-align: right;\">\n",
       "      <th></th>\n",
       "      <th>e</th>\n",
       "      <th>d</th>\n",
       "      <th>f</th>\n",
       "    </tr>\n",
       "  </thead>\n",
       "  <tbody>\n",
       "    <tr>\n",
       "      <th>c</th>\n",
       "      <td>6</td>\n",
       "      <td>7</td>\n",
       "      <td>8</td>\n",
       "    </tr>\n",
       "    <tr>\n",
       "      <th>b</th>\n",
       "      <td>3</td>\n",
       "      <td>4</td>\n",
       "      <td>5</td>\n",
       "    </tr>\n",
       "    <tr>\n",
       "      <th>a</th>\n",
       "      <td>0</td>\n",
       "      <td>1</td>\n",
       "      <td>2</td>\n",
       "    </tr>\n",
       "  </tbody>\n",
       "</table>\n",
       "</div>"
      ],
      "text/plain": [
       "   e  d  f\n",
       "c  6  7  8\n",
       "b  3  4  5\n",
       "a  0  1  2"
      ]
     },
     "execution_count": 211,
     "metadata": {},
     "output_type": "execute_result"
    }
   ],
   "source": [
    "frame.sort_values(by=['e','f'], ascending=[False, True])"
   ]
  },
  {
   "attachments": {},
   "cell_type": "markdown",
   "metadata": {},
   "source": [
    "- map\n",
    "    - Series의 각각의 element들을 다른 어떤 값으로 대체하는 역할"
   ]
  },
  {
   "cell_type": "code",
   "execution_count": 15,
   "metadata": {},
   "outputs": [
    {
     "data": {
      "text/plain": [
       "0    100\n",
       "1    200\n",
       "2    300\n",
       "dtype: int64"
      ]
     },
     "execution_count": 15,
     "metadata": {},
     "output_type": "execute_result"
    }
   ],
   "source": [
    "series=pd.Series([100,200,300])\n",
    "series"
   ]
  },
  {
   "cell_type": "code",
   "execution_count": null,
   "metadata": {},
   "outputs": [
    {
     "data": {
      "text/plain": [
       "0    C\n",
       "1    B\n",
       "2    A\n",
       "dtype: object"
      ]
     },
     "execution_count": 216,
     "metadata": {},
     "output_type": "execute_result"
    }
   ],
   "source": [
    "series.map({100:'C',200:'B',300:'A'}) # 위 값을 CBA로 바꿈"
   ]
  },
  {
   "cell_type": "code",
   "execution_count": null,
   "metadata": {},
   "outputs": [
    {
     "data": {
      "text/plain": [
       "0    $100\n",
       "1    $200\n",
       "2    $300\n",
       "dtype: object"
      ]
     },
     "execution_count": 217,
     "metadata": {},
     "output_type": "execute_result"
    }
   ],
   "source": [
    "series.map('${}'.format)"
   ]
  },
  {
   "cell_type": "code",
   "execution_count": null,
   "metadata": {},
   "outputs": [
    {
     "data": {
      "text/plain": [
       "0    100달러\n",
       "1    200달러\n",
       "2    300달러\n",
       "dtype: object"
      ]
     },
     "execution_count": 218,
     "metadata": {},
     "output_type": "execute_result"
    }
   ],
   "source": [
    "series.map('{}달러'.format)"
   ]
  },
  {
   "cell_type": "code",
   "execution_count": null,
   "metadata": {},
   "outputs": [
    {
     "data": {
      "text/plain": [
       "0    103\n",
       "1    203\n",
       "2    303\n",
       "dtype: int32"
      ]
     },
     "execution_count": 219,
     "metadata": {},
     "output_type": "execute_result"
    }
   ],
   "source": [
    "f= lambda x: np.add(x,3)\n",
    "series.map(f)"
   ]
  },
  {
   "attachments": {},
   "cell_type": "markdown",
   "metadata": {},
   "source": [
    "- apply\n",
    "  - map 보다 적용할 수 있는 범위가 큰 것. \n"
   ]
  },
  {
   "cell_type": "code",
   "execution_count": null,
   "metadata": {},
   "outputs": [
    {
     "data": {
      "text/plain": [
       "Lomdon      20\n",
       "New York    21\n",
       "Helsinki    12\n",
       "dtype: int64"
      ]
     },
     "execution_count": 220,
     "metadata": {},
     "output_type": "execute_result"
    }
   ],
   "source": [
    "s = pd.Series([20,21,12], index=['London','New York', 'Helsinki'])\n",
    "s\n"
   ]
  },
  {
   "cell_type": "code",
   "execution_count": null,
   "metadata": {},
   "outputs": [],
   "source": [
    "def sub_custom_value(x, val):\n",
    "    return x-val"
   ]
  },
  {
   "cell_type": "code",
   "execution_count": null,
   "metadata": {},
   "outputs": [
    {
     "data": {
      "text/plain": [
       "Lomdon      10\n",
       "New York    11\n",
       "Helsinki     2\n",
       "dtype: int64"
      ]
     },
     "execution_count": 260,
     "metadata": {},
     "output_type": "execute_result"
    }
   ],
   "source": [
    "s.apply(sub_custom_value,args=(10,)) # (10, ) 넘어갈 수 있다 가변공간이라 순환가능\n",
    "# 공간이 있으니까 딴데 갈수있는 느낌\n"
   ]
  },
  {
   "cell_type": "code",
   "execution_count": null,
   "metadata": {},
   "outputs": [],
   "source": [
    "def add_custom_values(x, **kwargs):\n",
    "    for month in kwargs: # month라는 데이터가 없음\n",
    "        x +=kwargs[month]\n",
    "    return x"
   ]
  },
  {
   "cell_type": "code",
   "execution_count": 16,
   "metadata": {},
   "outputs": [
    {
     "ename": "NameError",
     "evalue": "name 's' is not defined",
     "output_type": "error",
     "traceback": [
      "\u001b[1;31m---------------------------------------------------------------------------\u001b[0m",
      "\u001b[1;31mNameError\u001b[0m                                 Traceback (most recent call last)",
      "Cell \u001b[1;32mIn[16], line 1\u001b[0m\n\u001b[1;32m----> 1\u001b[0m s\u001b[39m.\u001b[39mapply(add_custom_values, june\u001b[39m=\u001b[39m\u001b[39m30\u001b[39m, july\u001b[39m=\u001b[39m\u001b[39m20\u001b[39m, august\u001b[39m=\u001b[39m\u001b[39m25\u001b[39m)\n\u001b[0;32m      2\u001b[0m \u001b[39m# 원래 데이터에 month가 없어서 month에 못주니까 딴애들한테 한번씩 다 줌\u001b[39;00m\n",
      "\u001b[1;31mNameError\u001b[0m: name 's' is not defined"
     ]
    }
   ],
   "source": [
    "s.apply(add_custom_values, june=30, july=20, august=25)\n",
    "# 원래 데이터에 month가 없어서 month에 못주니까 딴애들한테 한번씩 다 줌"
   ]
  },
  {
   "attachments": {},
   "cell_type": "markdown",
   "metadata": {},
   "source": [
    " - axis 별로 apply를 적용 가능"
   ]
  },
  {
   "attachments": {},
   "cell_type": "markdown",
   "metadata": {},
   "source": [
    "판다스 DataFrame, Series에 저장한 값을 치환하고 싶은 경우 replace\n",
    "https://ponyozzang.tistory.com/613"
   ]
  }
 ],
 "metadata": {
  "kernelspec": {
   "display_name": "Python 3",
   "language": "python",
   "name": "python3"
  },
  "language_info": {
   "codemirror_mode": {
    "name": "ipython",
    "version": 3
   },
   "file_extension": ".py",
   "mimetype": "text/x-python",
   "name": "python",
   "nbconvert_exporter": "python",
   "pygments_lexer": "ipython3",
   "version": "3.9.13"
  },
  "orig_nbformat": 4
 },
 "nbformat": 4,
 "nbformat_minor": 2
}
