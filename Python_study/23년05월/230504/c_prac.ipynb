{
 "cells": [
  {
   "cell_type": "code",
   "execution_count": 3,
   "metadata": {},
   "outputs": [
    {
     "name": "stdout",
     "output_type": "stream",
     "text": [
      "125\n"
     ]
    }
   ],
   "source": [
    "square = lambda x: x**3\n",
    "print(square(5))"
   ]
  },
  {
   "cell_type": "code",
   "execution_count": 4,
   "metadata": {},
   "outputs": [
    {
     "name": "stdout",
     "output_type": "stream",
     "text": [
      "[8, 27, 64, 125, 216]\n"
     ]
    }
   ],
   "source": [
    "numbers = [2, 3, 4, 5, 6]\n",
    "squares = map(lambda x: x**3, numbers)\n",
    "print(list(squares))  # [1, 4, 9, 16, 25]"
   ]
  },
  {
   "cell_type": "code",
   "execution_count": 5,
   "metadata": {},
   "outputs": [
    {
     "name": "stdout",
     "output_type": "stream",
     "text": [
      "lion\n"
     ]
    }
   ],
   "source": [
    "cat = 'cat'\n",
    "dog = 'dog'\n",
    "cow = 'cow'\n",
    "lion = 'lion'\n",
    "animal = dog\n",
    "ret=  cow if animal is cat else lion if animal is dog else lion\n",
    "print(ret)"
   ]
  },
  {
   "cell_type": "code",
   "execution_count": 6,
   "metadata": {},
   "outputs": [
    {
     "name": "stdout",
     "output_type": "stream",
     "text": [
      "dog\n"
     ]
    }
   ],
   "source": [
    "ret= dog if animal is dog else cot if animal is cat else cat\n",
    "print(ret)"
   ]
  },
  {
   "cell_type": "code",
   "execution_count": 7,
   "metadata": {},
   "outputs": [
    {
     "name": "stdout",
     "output_type": "stream",
     "text": [
      "cow\n"
     ]
    }
   ],
   "source": [
    "cat = 'cat'\n",
    "dog = 'dog'\n",
    "cow = 'cow'\n",
    "lion = 'lion'\n",
    "animal  = cow\n",
    "ret = None\n",
    "if animal is cat:\n",
    "    ret = cat\n",
    "elif animal is dog:\n",
    "    ret = dog\n",
    "elif animal is cow :\n",
    "    ret = cow\n",
    "else :\n",
    "    ret = lion\n",
    "print(ret)"
   ]
  },
  {
   "cell_type": "code",
   "execution_count": null,
   "metadata": {},
   "outputs": [
    {
     "data": {
      "text/plain": [
       "'abc'"
      ]
     },
     "execution_count": 47,
     "metadata": {},
     "output_type": "execute_result"
    }
   ],
   "source": [
    "arr = [\"a\",\"b\",\"c\"]\n",
    "def solution(arr):\n",
    "    return ''.join(arr)\n",
    "solution(arr)"
   ]
  },
  {
   "cell_type": "code",
   "execution_count": 10,
   "metadata": {},
   "outputs": [
    {
     "ename": "TypeError",
     "evalue": "solution() missing 2 required positional arguments: 'num_list' and 'n'",
     "output_type": "error",
     "traceback": [
      "\u001b[1;31m---------------------------------------------------------------------------\u001b[0m",
      "\u001b[1;31mTypeError\u001b[0m                                 Traceback (most recent call last)",
      "Cell \u001b[1;32mIn[10], line 10\u001b[0m\n\u001b[0;32m      8\u001b[0m     \u001b[39mfor\u001b[39;00m j \u001b[39min\u001b[39;00m \u001b[39mrange\u001b[39m(num_list):\n\u001b[0;32m      9\u001b[0m         \u001b[39mreturn\u001b[39;00m num_list[n:]\n\u001b[1;32m---> 10\u001b[0m solution()\n",
      "\u001b[1;31mTypeError\u001b[0m: solution() missing 2 required positional arguments: 'num_list' and 'n'"
     ]
    }
   ],
   "source": [
    "def solution(num_list, n):\n",
    "    answer = []\n",
    "    for i in range(num_list):\n",
    "        if n<= 6 :\n",
    "            return answer\n",
    "        else :\n",
    "            pass\n",
    "    for j in range(num_list):\n",
    "        return num_list[n:]\n",
    "solution()"
   ]
  }
 ],
 "metadata": {
  "kernelspec": {
   "display_name": "Python 3",
   "language": "python",
   "name": "python3"
  },
  "language_info": {
   "codemirror_mode": {
    "name": "ipython",
    "version": 3
   },
   "file_extension": ".py",
   "mimetype": "text/x-python",
   "name": "python",
   "nbconvert_exporter": "python",
   "pygments_lexer": "ipython3",
   "version": "3.9.13"
  },
  "orig_nbformat": 4
 },
 "nbformat": 4,
 "nbformat_minor": 2
}
