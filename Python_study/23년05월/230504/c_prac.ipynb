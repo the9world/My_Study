{
 "cells": [
  {
   "cell_type": "code",
   "execution_count": 26,
   "metadata": {},
   "outputs": [
    {
     "name": "stdout",
     "output_type": "stream",
     "text": [
      "125\n"
     ]
    }
   ],
   "source": [
    "square = lambda x: x**3\n",
    "print(square(5))"
   ]
  },
  {
   "cell_type": "code",
   "execution_count": 27,
   "metadata": {},
   "outputs": [
    {
     "name": "stdout",
     "output_type": "stream",
     "text": [
      "[8, 27, 64, 125, 216]\n"
     ]
    }
   ],
   "source": [
    "numbers = [2, 3, 4, 5, 6]\n",
    "squares = map(lambda x: x**3, numbers)\n",
    "print(list(squares))  # [1, 4, 9, 16, 25]"
   ]
  },
  {
   "cell_type": "code",
   "execution_count": 28,
   "metadata": {},
   "outputs": [
    {
     "name": "stdout",
     "output_type": "stream",
     "text": [
      "lion\n"
     ]
    }
   ],
   "source": [
    "cat = 'cat'\n",
    "dog = 'dog'\n",
    "cow = 'cow'\n",
    "lion = 'lion'\n",
    "animal = dog\n",
    "ret=  cow if animal is cat else lion if animal is dog else lion\n",
    "print(ret)"
   ]
  },
  {
   "cell_type": "code",
   "execution_count": 29,
   "metadata": {},
   "outputs": [
    {
     "name": "stdout",
     "output_type": "stream",
     "text": [
      "dog\n"
     ]
    }
   ],
   "source": [
    "ret= dog if animal is dog else cot if animal is cat else cat\n",
    "print(ret)"
   ]
  },
  {
   "cell_type": "code",
   "execution_count": 30,
   "metadata": {},
   "outputs": [
    {
     "name": "stdout",
     "output_type": "stream",
     "text": [
      "cow\n"
     ]
    }
   ],
   "source": [
    "cat = 'cat'\n",
    "dog = 'dog'\n",
    "cow = 'cow'\n",
    "lion = 'lion'\n",
    "animal  = cow\n",
    "ret = None\n",
    "if animal is cat:\n",
    "    ret = cat\n",
    "elif animal is dog:\n",
    "    ret = dog\n",
    "elif animal is cow :\n",
    "    ret = cow\n",
    "else :\n",
    "    ret = lion\n",
    "print(ret)"
   ]
  },
  {
   "cell_type": "code",
   "execution_count": 31,
   "metadata": {},
   "outputs": [
    {
     "data": {
      "text/plain": [
       "'abc'"
      ]
     },
     "execution_count": 31,
     "metadata": {},
     "output_type": "execute_result"
    }
   ],
   "source": [
    "arr = [\"a\",\"b\",\"c\"]\n",
    "def solution(arr):\n",
    "    return ''.join(arr)\n",
    "solution(arr)"
   ]
  },
  {
   "cell_type": "code",
   "execution_count": 32,
   "metadata": {},
   "outputs": [
    {
     "ename": "TypeError",
     "evalue": "solution() missing 2 required positional arguments: 'num_list' and 'n'",
     "output_type": "error",
     "traceback": [
      "\u001b[1;31m---------------------------------------------------------------------------\u001b[0m",
      "\u001b[1;31mTypeError\u001b[0m                                 Traceback (most recent call last)",
      "Cell \u001b[1;32mIn[32], line 10\u001b[0m\n\u001b[0;32m      8\u001b[0m     \u001b[39mfor\u001b[39;00m j \u001b[39min\u001b[39;00m \u001b[39mrange\u001b[39m(num_list):\n\u001b[0;32m      9\u001b[0m         \u001b[39mreturn\u001b[39;00m num_list[n:]\n\u001b[1;32m---> 10\u001b[0m solution()\n",
      "\u001b[1;31mTypeError\u001b[0m: solution() missing 2 required positional arguments: 'num_list' and 'n'"
     ]
    }
   ],
   "source": [
    "def solution(num_list, n):\n",
    "    answer = []\n",
    "    for i in range(num_list):\n",
    "        if n<= 6 :\n",
    "            return answer\n",
    "        else :\n",
    "            pass\n",
    "    for j in range(num_list):\n",
    "        return num_list[n:]\n",
    "solution()"
   ]
  },
  {
   "cell_type": "code",
   "execution_count": null,
   "metadata": {},
   "outputs": [
    {
     "data": {
      "text/html": [
       "<div>\n",
       "<style scoped>\n",
       "    .dataframe tbody tr th:only-of-type {\n",
       "        vertical-align: middle;\n",
       "    }\n",
       "\n",
       "    .dataframe tbody tr th {\n",
       "        vertical-align: top;\n",
       "    }\n",
       "\n",
       "    .dataframe thead th {\n",
       "        text-align: right;\n",
       "    }\n",
       "</style>\n",
       "<table border=\"1\" class=\"dataframe\">\n",
       "  <thead>\n",
       "    <tr style=\"text-align: right;\">\n",
       "      <th></th>\n",
       "      <th>a가</th>\n",
       "      <th>b나</th>\n",
       "      <th>c다</th>\n",
       "      <th>d라</th>\n",
       "    </tr>\n",
       "  </thead>\n",
       "  <tbody>\n",
       "    <tr>\n",
       "      <th>가a</th>\n",
       "      <td>NaN</td>\n",
       "      <td>NaN</td>\n",
       "      <td>NaN</td>\n",
       "      <td>NaN</td>\n",
       "    </tr>\n",
       "    <tr>\n",
       "      <th>나b</th>\n",
       "      <td>1.0</td>\n",
       "      <td>2.0</td>\n",
       "      <td>3.0</td>\n",
       "      <td>4.0</td>\n",
       "    </tr>\n",
       "    <tr>\n",
       "      <th>다c</th>\n",
       "      <td>5.0</td>\n",
       "      <td>6.0</td>\n",
       "      <td>7.0</td>\n",
       "      <td>8.0</td>\n",
       "    </tr>\n",
       "    <tr>\n",
       "      <th>라d</th>\n",
       "      <td>9.0</td>\n",
       "      <td>10.0</td>\n",
       "      <td>11.0</td>\n",
       "      <td>NaN</td>\n",
       "    </tr>\n",
       "  </tbody>\n",
       "</table>\n",
       "</div>"
      ],
      "text/plain": [
       "     a가    b나    c다   d라\n",
       "가a  NaN   NaN   NaN  NaN\n",
       "나b  1.0   2.0   3.0  4.0\n",
       "다c  5.0   6.0   7.0  8.0\n",
       "라d  9.0  10.0  11.0  NaN"
      ]
     },
     "execution_count": 4,
     "metadata": {},
     "output_type": "execute_result"
    }
   ],
   "source": [
    "import pandas as pd\n",
    "import numpy as np\n",
    "frame = pd.DataFrame([[np.nan, np.nan, np.nan, np.nan],\n",
    "                     [1,2,3,4],\n",
    "                     [5,6,7,8],\n",
    "                     [9,10,11,np.nan]],\n",
    "                     index=['가a','나b','다c','라d'],\n",
    "                     columns=['a가','b나','c다','d라'],)\n",
    "frame"
   ]
  },
  {
   "cell_type": "code",
   "execution_count": null,
   "metadata": {},
   "outputs": [
    {
     "data": {
      "text/html": [
       "<div>\n",
       "<style scoped>\n",
       "    .dataframe tbody tr th:only-of-type {\n",
       "        vertical-align: middle;\n",
       "    }\n",
       "\n",
       "    .dataframe tbody tr th {\n",
       "        vertical-align: top;\n",
       "    }\n",
       "\n",
       "    .dataframe thead th {\n",
       "        text-align: right;\n",
       "    }\n",
       "</style>\n",
       "<table border=\"1\" class=\"dataframe\">\n",
       "  <thead>\n",
       "    <tr style=\"text-align: right;\">\n",
       "      <th></th>\n",
       "      <th>a가</th>\n",
       "      <th>b나</th>\n",
       "      <th>c다</th>\n",
       "      <th>d라</th>\n",
       "    </tr>\n",
       "  </thead>\n",
       "  <tbody>\n",
       "    <tr>\n",
       "      <th>나b</th>\n",
       "      <td>1.0</td>\n",
       "      <td>2.0</td>\n",
       "      <td>3.0</td>\n",
       "      <td>4.0</td>\n",
       "    </tr>\n",
       "    <tr>\n",
       "      <th>다c</th>\n",
       "      <td>5.0</td>\n",
       "      <td>6.0</td>\n",
       "      <td>7.0</td>\n",
       "      <td>8.0</td>\n",
       "    </tr>\n",
       "  </tbody>\n",
       "</table>\n",
       "</div>"
      ],
      "text/plain": [
       "     a가   b나   c다   d라\n",
       "나b  1.0  2.0  3.0  4.0\n",
       "다c  5.0  6.0  7.0  8.0"
      ]
     },
     "execution_count": 5,
     "metadata": {},
     "output_type": "execute_result"
    }
   ],
   "source": [
    "frame.dropna()\n"
   ]
  },
  {
   "cell_type": "code",
   "execution_count": null,
   "metadata": {},
   "outputs": [
    {
     "data": {
      "text/html": [
       "<div>\n",
       "<style scoped>\n",
       "    .dataframe tbody tr th:only-of-type {\n",
       "        vertical-align: middle;\n",
       "    }\n",
       "\n",
       "    .dataframe tbody tr th {\n",
       "        vertical-align: top;\n",
       "    }\n",
       "\n",
       "    .dataframe thead th {\n",
       "        text-align: right;\n",
       "    }\n",
       "</style>\n",
       "<table border=\"1\" class=\"dataframe\">\n",
       "  <thead>\n",
       "    <tr style=\"text-align: right;\">\n",
       "      <th></th>\n",
       "      <th>a가</th>\n",
       "      <th>b나</th>\n",
       "      <th>c다</th>\n",
       "      <th>d라</th>\n",
       "    </tr>\n",
       "  </thead>\n",
       "  <tbody>\n",
       "    <tr>\n",
       "      <th>나b</th>\n",
       "      <td>1.0</td>\n",
       "      <td>2.0</td>\n",
       "      <td>3.0</td>\n",
       "      <td>4.0</td>\n",
       "    </tr>\n",
       "    <tr>\n",
       "      <th>다c</th>\n",
       "      <td>5.0</td>\n",
       "      <td>6.0</td>\n",
       "      <td>7.0</td>\n",
       "      <td>8.0</td>\n",
       "    </tr>\n",
       "    <tr>\n",
       "      <th>라d</th>\n",
       "      <td>9.0</td>\n",
       "      <td>10.0</td>\n",
       "      <td>11.0</td>\n",
       "      <td>NaN</td>\n",
       "    </tr>\n",
       "  </tbody>\n",
       "</table>\n",
       "</div>"
      ],
      "text/plain": [
       "     a가    b나    c다   d라\n",
       "나b  1.0   2.0   3.0  4.0\n",
       "다c  5.0   6.0   7.0  8.0\n",
       "라d  9.0  10.0  11.0  NaN"
      ]
     },
     "execution_count": 6,
     "metadata": {},
     "output_type": "execute_result"
    }
   ],
   "source": [
    "frame.dropna(how='all')"
   ]
  },
  {
   "cell_type": "code",
   "execution_count": null,
   "metadata": {},
   "outputs": [
    {
     "data": {
      "text/html": [
       "<div>\n",
       "<style scoped>\n",
       "    .dataframe tbody tr th:only-of-type {\n",
       "        vertical-align: middle;\n",
       "    }\n",
       "\n",
       "    .dataframe tbody tr th {\n",
       "        vertical-align: top;\n",
       "    }\n",
       "\n",
       "    .dataframe thead th {\n",
       "        text-align: right;\n",
       "    }\n",
       "</style>\n",
       "<table border=\"1\" class=\"dataframe\">\n",
       "  <thead>\n",
       "    <tr style=\"text-align: right;\">\n",
       "      <th></th>\n",
       "      <th>a가</th>\n",
       "      <th>b나</th>\n",
       "      <th>c다</th>\n",
       "      <th>d라</th>\n",
       "    </tr>\n",
       "  </thead>\n",
       "  <tbody>\n",
       "    <tr>\n",
       "      <th>가a</th>\n",
       "      <td>100.0</td>\n",
       "      <td>100.0</td>\n",
       "      <td>100.0</td>\n",
       "      <td>100.0</td>\n",
       "    </tr>\n",
       "    <tr>\n",
       "      <th>나b</th>\n",
       "      <td>1.0</td>\n",
       "      <td>2.0</td>\n",
       "      <td>3.0</td>\n",
       "      <td>4.0</td>\n",
       "    </tr>\n",
       "    <tr>\n",
       "      <th>다c</th>\n",
       "      <td>5.0</td>\n",
       "      <td>6.0</td>\n",
       "      <td>7.0</td>\n",
       "      <td>8.0</td>\n",
       "    </tr>\n",
       "    <tr>\n",
       "      <th>라d</th>\n",
       "      <td>9.0</td>\n",
       "      <td>10.0</td>\n",
       "      <td>11.0</td>\n",
       "      <td>100.0</td>\n",
       "    </tr>\n",
       "  </tbody>\n",
       "</table>\n",
       "</div>"
      ],
      "text/plain": [
       "       a가     b나     c다     d라\n",
       "가a  100.0  100.0  100.0  100.0\n",
       "나b    1.0    2.0    3.0    4.0\n",
       "다c    5.0    6.0    7.0    8.0\n",
       "라d    9.0   10.0   11.0  100.0"
      ]
     },
     "execution_count": 7,
     "metadata": {},
     "output_type": "execute_result"
    }
   ],
   "source": [
    "frame.fillna(100)"
   ]
  },
  {
   "cell_type": "code",
   "execution_count": null,
   "metadata": {},
   "outputs": [
    {
     "data": {
      "text/html": [
       "<div>\n",
       "<style scoped>\n",
       "    .dataframe tbody tr th:only-of-type {\n",
       "        vertical-align: middle;\n",
       "    }\n",
       "\n",
       "    .dataframe tbody tr th {\n",
       "        vertical-align: top;\n",
       "    }\n",
       "\n",
       "    .dataframe thead th {\n",
       "        text-align: right;\n",
       "    }\n",
       "</style>\n",
       "<table border=\"1\" class=\"dataframe\">\n",
       "  <thead>\n",
       "    <tr style=\"text-align: right;\">\n",
       "      <th></th>\n",
       "      <th>a가</th>\n",
       "      <th>b나</th>\n",
       "      <th>c다</th>\n",
       "      <th>d라</th>\n",
       "    </tr>\n",
       "  </thead>\n",
       "  <tbody>\n",
       "    <tr>\n",
       "      <th>가a</th>\n",
       "      <td>10.0</td>\n",
       "      <td>NaN</td>\n",
       "      <td>3.0</td>\n",
       "      <td>NaN</td>\n",
       "    </tr>\n",
       "    <tr>\n",
       "      <th>나b</th>\n",
       "      <td>1.0</td>\n",
       "      <td>2.0</td>\n",
       "      <td>3.0</td>\n",
       "      <td>4.0</td>\n",
       "    </tr>\n",
       "    <tr>\n",
       "      <th>다c</th>\n",
       "      <td>5.0</td>\n",
       "      <td>6.0</td>\n",
       "      <td>7.0</td>\n",
       "      <td>8.0</td>\n",
       "    </tr>\n",
       "    <tr>\n",
       "      <th>라d</th>\n",
       "      <td>9.0</td>\n",
       "      <td>10.0</td>\n",
       "      <td>11.0</td>\n",
       "      <td>NaN</td>\n",
       "    </tr>\n",
       "  </tbody>\n",
       "</table>\n",
       "</div>"
      ],
      "text/plain": [
       "      a가    b나    c다   d라\n",
       "가a  10.0   NaN   3.0  NaN\n",
       "나b   1.0   2.0   3.0  4.0\n",
       "다c   5.0   6.0   7.0  8.0\n",
       "라d   9.0  10.0  11.0  NaN"
      ]
     },
     "execution_count": 8,
     "metadata": {},
     "output_type": "execute_result"
    }
   ],
   "source": [
    "frame.fillna({'a가':10, 'c다':3})\n",
    "# 딕셔너리로 해당 값 입력"
   ]
  },
  {
   "cell_type": "code",
   "execution_count": null,
   "metadata": {},
   "outputs": [
    {
     "data": {
      "text/plain": [
       "a가    1\n",
       "b나    1\n",
       "c다    1\n",
       "d라    2\n",
       "dtype: int64"
      ]
     },
     "execution_count": 9,
     "metadata": {},
     "output_type": "execute_result"
    }
   ],
   "source": [
    "frame.isna().sum()"
   ]
  },
  {
   "cell_type": "code",
   "execution_count": null,
   "metadata": {},
   "outputs": [],
   "source": [
    "data = pd.DataFrame({'id':['0001', '0002', '0003', '0001'],\n",
    "                     'name':['a','b','c','a']})"
   ]
  },
  {
   "attachments": {},
   "cell_type": "markdown",
   "metadata": {},
   "source": [
    "- 중복 제거\n",
    "- duplicated() : 각 row가 중복인지(True) 아닌지(False) 알려주는 불리언"
   ]
  },
  {
   "cell_type": "code",
   "execution_count": null,
   "metadata": {},
   "outputs": [
    {
     "data": {
      "text/plain": [
       "0    False\n",
       "1    False\n",
       "2    False\n",
       "3     True\n",
       "dtype: bool"
      ]
     },
     "execution_count": 11,
     "metadata": {},
     "output_type": "execute_result"
    }
   ],
   "source": [
    "data.duplicated() # 중복 체크, True 중복O"
   ]
  },
  {
   "cell_type": "code",
   "execution_count": null,
   "metadata": {},
   "outputs": [
    {
     "data": {
      "text/html": [
       "<div>\n",
       "<style scoped>\n",
       "    .dataframe tbody tr th:only-of-type {\n",
       "        vertical-align: middle;\n",
       "    }\n",
       "\n",
       "    .dataframe tbody tr th {\n",
       "        vertical-align: top;\n",
       "    }\n",
       "\n",
       "    .dataframe thead th {\n",
       "        text-align: right;\n",
       "    }\n",
       "</style>\n",
       "<table border=\"1\" class=\"dataframe\">\n",
       "  <thead>\n",
       "    <tr style=\"text-align: right;\">\n",
       "      <th></th>\n",
       "      <th>id</th>\n",
       "      <th>name</th>\n",
       "    </tr>\n",
       "  </thead>\n",
       "  <tbody>\n",
       "    <tr>\n",
       "      <th>0</th>\n",
       "      <td>0001</td>\n",
       "      <td>a</td>\n",
       "    </tr>\n",
       "    <tr>\n",
       "      <th>1</th>\n",
       "      <td>0002</td>\n",
       "      <td>b</td>\n",
       "    </tr>\n",
       "    <tr>\n",
       "      <th>2</th>\n",
       "      <td>0003</td>\n",
       "      <td>c</td>\n",
       "    </tr>\n",
       "  </tbody>\n",
       "</table>\n",
       "</div>"
      ],
      "text/plain": [
       "     id name\n",
       "0  0001    a\n",
       "1  0002    b\n",
       "2  0003    c"
      ]
     },
     "execution_count": 12,
     "metadata": {},
     "output_type": "execute_result"
    }
   ],
   "source": [
    "data.drop_duplicates() # 중복 삭제"
   ]
  },
  {
   "attachments": {},
   "cell_type": "markdown",
   "metadata": {},
   "source": [
    "- cut 함수"
   ]
  },
  {
   "cell_type": "code",
   "execution_count": null,
   "metadata": {},
   "outputs": [],
   "source": [
    "ages = [20,30,67,39,59,44,56,77,28,80,32,46,52,19,33,5,15,50,29,21,33,48,85,80,31,10]\n",
    "bins = [0,20,40,60,100]"
   ]
  },
  {
   "cell_type": "code",
   "execution_count": null,
   "metadata": {},
   "outputs": [
    {
     "data": {
      "text/plain": [
       "[(0, 20], (20, 40], (60, 100], (20, 40], (40, 60], ..., (40, 60], (60, 100], (60, 100], (20, 40], (0, 20]]\n",
       "Length: 26\n",
       "Categories (4, interval[int64, right]): [(0, 20] < (20, 40] < (40, 60] < (60, 100]]"
      ]
     },
     "execution_count": 14,
     "metadata": {},
     "output_type": "execute_result"
    }
   ],
   "source": [
    "cuts = pd.cut(ages, bins) # 범주화/ 묶기/ 카테고리 // 구간 자름\n",
    "# bins가 구간 0~20, …, 60~100으로 카테고리를 나누고, 해당 범주에 맞는 요소가 많은 것 부터 차례로 나열\n",
    "cuts"
   ]
  },
  {
   "cell_type": "code",
   "execution_count": null,
   "metadata": {},
   "outputs": [
    {
     "data": {
      "text/plain": [
       "IntervalIndex([(0, 20], (20, 40], (40, 60], (60, 100]], dtype='interval[int64, right]')"
      ]
     },
     "execution_count": 17,
     "metadata": {},
     "output_type": "execute_result"
    }
   ],
   "source": [
    "cuts.categories # cut 메소드의 결과는 categorical이라는 특수 객체에 존재. 구간을 나눠줌"
   ]
  },
  {
   "cell_type": "code",
   "execution_count": null,
   "metadata": {},
   "outputs": [
    {
     "data": {
      "text/plain": [
       "array([0, 1, 3, 1, 2, 2, 2, 3, 1, 3, 1, 2, 2, 0, 1, 0, 0, 2, 1, 1, 1, 2,\n",
       "       3, 3, 1, 0], dtype=int8)"
      ]
     },
     "execution_count": 16,
     "metadata": {},
     "output_type": "execute_result"
    }
   ],
   "source": [
    "cuts.codes # 각 요소의 구간인덱스를 알려줌\n",
    "# 해당 요소의 카테고리 인덱스를 반환"
   ]
  },
  {
   "cell_type": "code",
   "execution_count": 35,
   "metadata": {},
   "outputs": [
    {
     "data": {
      "text/plain": [
       "['10대이하', '20~30대', '60대 이상', '20~30대', '40~50대', ..., '40~50대', '60대 이상', '60대 이상', '20~30대', '10대이하']\n",
       "Length: 26\n",
       "Categories (4, object): ['10대이하' < '20~30대' < '40~50대' < '60대 이상']"
      ]
     },
     "execution_count": 35,
     "metadata": {},
     "output_type": "execute_result"
    }
   ],
   "source": [
    "group_names = [\"10대이하\", \"20~30대\", \"40~50대\", \"60대 이상\"]\n",
    "pd.cut(ages, bins, labels=group_names)\n",
    "# ages 리스트를 bins로 나누어 4개의 구간으로 나눈 후, \n",
    "# group_names 리스트를 label로 갖는 각 구간에 대한 label이 지정된 결과를 반환"
   ]
  },
  {
   "cell_type": "code",
   "execution_count": 44,
   "metadata": {},
   "outputs": [
    {
     "data": {
      "text/plain": [
       "(4.9, 25.0]     6\n",
       "(25.0, 45.0]    9\n",
       "(45.0, 65.0]    6\n",
       "(65.0, 85.0]    5\n",
       "Name: count, dtype: int64"
      ]
     },
     "execution_count": 44,
     "metadata": {},
     "output_type": "execute_result"
    }
   ],
   "source": [
    "pd.cut(ages,4,precision=1).value_counts() # 구간을 균등한 길이로 나눔. 구간 값이 균등\n",
    "# precision : 소수점 자릿수, 3이면 소수점 세번째에서 반올림\n",
    "# 객체에 대해 value_counts() 각 구간에 속하는 데이터의 갯수를 세어준 결과를 출력"
   ]
  },
  {
   "cell_type": "code",
   "execution_count": 50,
   "metadata": {},
   "outputs": [
    {
     "data": {
      "text/plain": [
       "(4.999, 28.25]    7\n",
       "(28.25, 36.0]     6\n",
       "(36.0, 55.0]      6\n",
       "(55.0, 85.0]      7\n",
       "Name: count, dtype: int64"
      ]
     },
     "execution_count": 50,
     "metadata": {},
     "output_type": "execute_result"
    }
   ],
   "source": [
    "pd.qcut(ages,4).value_counts()\n",
    "# qcut 구간을 균등하게 나눔, 분포인원 균등\n",
    "# 4개의 동일한 구간으로 분할하고, 각 구간에 속한 데이터 포인트의 개수를 세어 출력"
   ]
  },
  {
   "attachments": {},
   "cell_type": "markdown",
   "metadata": {},
   "source": [
    "- get_dummines\n",
    "- 명목형 변수를(수치형X) 문자형 원핫(OneHot) 인코딩 해줌.\n",
    "  - pd.get_dummies(df) 함수는 데이터프레임 내의 범주형 변수를  \n",
    "  더미 변수(dummy variable)로 변환해주는 함수  \n",
    "  (수치형 변수는 숫자로 이루어진 변수,  \n",
    "  범주형 변수는 문자열, 정수, 카테고리 등으로 이루어진 변수들)\n",
    "\n",
    "  - 수치형 변수는 숫자로 이루어진 변수를 말하며, 연속형 변수와 이산형 변수로 나뉩니다.  \n",
    "    1. 연속형 변수: 정해진 범위 안에서 모든 값을 가질 수 있는 변수\n",
    "    2. 이산형 변수: 정수와 같이 연속적이지 않은 값을 가지는 변수  \n",
    "\n",
    "  - 범주형 변수는 명목형 변수와 순서형 변수로 나뉩니다.  \n",
    "    1. 명목형 변수: 순서가 없는 카테고리형 변수(ex. 성별, 지역, 직업 등)\n",
    "    \n",
    "    2. 순서형 변수: 범주 간에 순서가 있는 변수(ex. 학점 등급, 만족도 등)\n",
    "\n",
    "정수로 이루어져 있어도 변수의 의미에 따라서  \n",
    "  수치형 변수일 수도, 범주형 변수일 수도 있음\n",
    "\n",
    "사람의 성별을 나타내는 변수는 0과 1로 인코딩하더라도 범주형 변수입니다.  \n",
    "반면에, 사람의 연령을 나타내는 변수는 정수 값으로  \n",
    "인코딩하고 그 의미가 연속적인 값이라면 수치형 변수입니다.  \n",
    "하지만 그 값이 나이의 범주를 나타내는 것이라면  \n",
    "범주형 변수일 수도 있습니다.  \n",
    "따라서 변수의 의미와 데이터 분석의 목적에 따라서 변수의 유형을 결정해야 함"
   ]
  },
  {
   "cell_type": "code",
   "execution_count": 53,
   "metadata": {},
   "outputs": [
    {
     "data": {
      "text/html": [
       "<div>\n",
       "<style scoped>\n",
       "    .dataframe tbody tr th:only-of-type {\n",
       "        vertical-align: middle;\n",
       "    }\n",
       "\n",
       "    .dataframe tbody tr th {\n",
       "        vertical-align: top;\n",
       "    }\n",
       "\n",
       "    .dataframe thead th {\n",
       "        text-align: right;\n",
       "    }\n",
       "</style>\n",
       "<table border=\"1\" class=\"dataframe\">\n",
       "  <thead>\n",
       "    <tr style=\"text-align: right;\">\n",
       "      <th></th>\n",
       "      <th>col1</th>\n",
       "      <th>col2</th>\n",
       "    </tr>\n",
       "  </thead>\n",
       "  <tbody>\n",
       "    <tr>\n",
       "      <th>0</th>\n",
       "      <td>10</td>\n",
       "      <td>a</td>\n",
       "    </tr>\n",
       "    <tr>\n",
       "      <th>1</th>\n",
       "      <td>20</td>\n",
       "      <td>b</td>\n",
       "    </tr>\n",
       "    <tr>\n",
       "      <th>2</th>\n",
       "      <td>30</td>\n",
       "      <td>c</td>\n",
       "    </tr>\n",
       "  </tbody>\n",
       "</table>\n",
       "</div>"
      ],
      "text/plain": [
       "   col1 col2\n",
       "0    10    a\n",
       "1    20    b\n",
       "2    30    c"
      ]
     },
     "execution_count": 53,
     "metadata": {},
     "output_type": "execute_result"
    }
   ],
   "source": [
    "df = pd.DataFrame({'col1':[10,20,30],  # column1\n",
    "                   'col2':['a','b','c']}) #  column2\n",
    "df # col1, col2 열이 있는 DataFrame 출력"
   ]
  },
  {
   "cell_type": "code",
   "execution_count": 55,
   "metadata": {},
   "outputs": [
    {
     "data": {
      "text/html": [
       "<div>\n",
       "<style scoped>\n",
       "    .dataframe tbody tr th:only-of-type {\n",
       "        vertical-align: middle;\n",
       "    }\n",
       "\n",
       "    .dataframe tbody tr th {\n",
       "        vertical-align: top;\n",
       "    }\n",
       "\n",
       "    .dataframe thead th {\n",
       "        text-align: right;\n",
       "    }\n",
       "</style>\n",
       "<table border=\"1\" class=\"dataframe\">\n",
       "  <thead>\n",
       "    <tr style=\"text-align: right;\">\n",
       "      <th></th>\n",
       "      <th>col1</th>\n",
       "      <th>col2_a</th>\n",
       "      <th>col2_b</th>\n",
       "      <th>col2_c</th>\n",
       "    </tr>\n",
       "  </thead>\n",
       "  <tbody>\n",
       "    <tr>\n",
       "      <th>0</th>\n",
       "      <td>10</td>\n",
       "      <td>True</td>\n",
       "      <td>False</td>\n",
       "      <td>False</td>\n",
       "    </tr>\n",
       "    <tr>\n",
       "      <th>1</th>\n",
       "      <td>20</td>\n",
       "      <td>False</td>\n",
       "      <td>True</td>\n",
       "      <td>False</td>\n",
       "    </tr>\n",
       "    <tr>\n",
       "      <th>2</th>\n",
       "      <td>30</td>\n",
       "      <td>False</td>\n",
       "      <td>False</td>\n",
       "      <td>True</td>\n",
       "    </tr>\n",
       "  </tbody>\n",
       "</table>\n",
       "</div>"
      ],
      "text/plain": [
       "   col1  col2_a  col2_b  col2_c\n",
       "0    10    True   False   False\n",
       "1    20   False    True   False\n",
       "2    30   False   False    True"
      ]
     },
     "execution_count": 55,
     "metadata": {},
     "output_type": "execute_result"
    }
   ],
   "source": [
    "pd.get_dummies(df)\n",
    "# 범주형 변수가 존재하는 열들을 더미 변수로 변환하고,\n",
    "# 해당 더미 변수를 새로운 열로 추가\n",
    "# 범주형 변수가 아닌 수치형 변수는 그대로 유지"
   ]
  },
  {
   "cell_type": "code",
   "execution_count": 75,
   "metadata": {},
   "outputs": [
    {
     "data": {
      "text/html": [
       "<div>\n",
       "<style scoped>\n",
       "    .dataframe tbody tr th:only-of-type {\n",
       "        vertical-align: middle;\n",
       "    }\n",
       "\n",
       "    .dataframe tbody tr th {\n",
       "        vertical-align: top;\n",
       "    }\n",
       "\n",
       "    .dataframe thead th {\n",
       "        text-align: right;\n",
       "    }\n",
       "</style>\n",
       "<table border=\"1\" class=\"dataframe\">\n",
       "  <thead>\n",
       "    <tr style=\"text-align: right;\">\n",
       "      <th></th>\n",
       "      <th>col1</th>\n",
       "      <th>col2</th>\n",
       "      <th>col3</th>\n",
       "    </tr>\n",
       "  </thead>\n",
       "  <tbody>\n",
       "    <tr>\n",
       "      <th>0</th>\n",
       "      <td>001</td>\n",
       "      <td>10</td>\n",
       "      <td>서울시</td>\n",
       "    </tr>\n",
       "    <tr>\n",
       "      <th>1</th>\n",
       "      <td>002</td>\n",
       "      <td>20</td>\n",
       "      <td>경기도</td>\n",
       "    </tr>\n",
       "    <tr>\n",
       "      <th>2</th>\n",
       "      <td>003</td>\n",
       "      <td>30</td>\n",
       "      <td>서울시</td>\n",
       "    </tr>\n",
       "    <tr>\n",
       "      <th>3</th>\n",
       "      <td>004</td>\n",
       "      <td>40</td>\n",
       "      <td>제주도</td>\n",
       "    </tr>\n",
       "    <tr>\n",
       "      <th>4</th>\n",
       "      <td>005</td>\n",
       "      <td>50</td>\n",
       "      <td>경기도</td>\n",
       "    </tr>\n",
       "    <tr>\n",
       "      <th>5</th>\n",
       "      <td>006</td>\n",
       "      <td>60</td>\n",
       "      <td>서울시</td>\n",
       "    </tr>\n",
       "  </tbody>\n",
       "</table>\n",
       "</div>"
      ],
      "text/plain": [
       "  col1  col2 col3\n",
       "0  001    10  서울시\n",
       "1  002    20  경기도\n",
       "2  003    30  서울시\n",
       "3  004    40  제주도\n",
       "4  005    50  경기도\n",
       "5  006    60  서울시"
      ]
     },
     "execution_count": 75,
     "metadata": {},
     "output_type": "execute_result"
    }
   ],
   "source": [
    "df = pd.DataFrame({'col1':['001','002','003','004','005','006'],\n",
    "                   'col2':[10,20,30,40,50,60],\n",
    "                   'col3':['서울시','경기도','서울시','제주도','경기도','서울시']})\n",
    "df\n",
    "# arr_col2 = df['col2'].to_numpy().reshape(-1, 2)  \n",
    "# reshape는 numpy 함수로 사용하려면 위 코드를 작성하여\n",
    "# pd.DataFrame을 numpy로 바꿔서 사용 "
   ]
  },
  {
   "cell_type": "code",
   "execution_count": 76,
   "metadata": {},
   "outputs": [
    {
     "data": {
      "text/html": [
       "<div>\n",
       "<style scoped>\n",
       "    .dataframe tbody tr th:only-of-type {\n",
       "        vertical-align: middle;\n",
       "    }\n",
       "\n",
       "    .dataframe tbody tr th {\n",
       "        vertical-align: top;\n",
       "    }\n",
       "\n",
       "    .dataframe thead th {\n",
       "        text-align: right;\n",
       "    }\n",
       "</style>\n",
       "<table border=\"1\" class=\"dataframe\">\n",
       "  <thead>\n",
       "    <tr style=\"text-align: right;\">\n",
       "      <th></th>\n",
       "      <th>col2</th>\n",
       "      <th>col1_001</th>\n",
       "      <th>col1_002</th>\n",
       "      <th>col1_003</th>\n",
       "      <th>col1_004</th>\n",
       "      <th>col1_005</th>\n",
       "      <th>col1_006</th>\n",
       "      <th>col3_경기도</th>\n",
       "      <th>col3_서울시</th>\n",
       "      <th>col3_제주도</th>\n",
       "    </tr>\n",
       "  </thead>\n",
       "  <tbody>\n",
       "    <tr>\n",
       "      <th>0</th>\n",
       "      <td>10</td>\n",
       "      <td>True</td>\n",
       "      <td>False</td>\n",
       "      <td>False</td>\n",
       "      <td>False</td>\n",
       "      <td>False</td>\n",
       "      <td>False</td>\n",
       "      <td>False</td>\n",
       "      <td>True</td>\n",
       "      <td>False</td>\n",
       "    </tr>\n",
       "    <tr>\n",
       "      <th>1</th>\n",
       "      <td>20</td>\n",
       "      <td>False</td>\n",
       "      <td>True</td>\n",
       "      <td>False</td>\n",
       "      <td>False</td>\n",
       "      <td>False</td>\n",
       "      <td>False</td>\n",
       "      <td>True</td>\n",
       "      <td>False</td>\n",
       "      <td>False</td>\n",
       "    </tr>\n",
       "    <tr>\n",
       "      <th>2</th>\n",
       "      <td>30</td>\n",
       "      <td>False</td>\n",
       "      <td>False</td>\n",
       "      <td>True</td>\n",
       "      <td>False</td>\n",
       "      <td>False</td>\n",
       "      <td>False</td>\n",
       "      <td>False</td>\n",
       "      <td>True</td>\n",
       "      <td>False</td>\n",
       "    </tr>\n",
       "    <tr>\n",
       "      <th>3</th>\n",
       "      <td>40</td>\n",
       "      <td>False</td>\n",
       "      <td>False</td>\n",
       "      <td>False</td>\n",
       "      <td>True</td>\n",
       "      <td>False</td>\n",
       "      <td>False</td>\n",
       "      <td>False</td>\n",
       "      <td>False</td>\n",
       "      <td>True</td>\n",
       "    </tr>\n",
       "    <tr>\n",
       "      <th>4</th>\n",
       "      <td>50</td>\n",
       "      <td>False</td>\n",
       "      <td>False</td>\n",
       "      <td>False</td>\n",
       "      <td>False</td>\n",
       "      <td>True</td>\n",
       "      <td>False</td>\n",
       "      <td>True</td>\n",
       "      <td>False</td>\n",
       "      <td>False</td>\n",
       "    </tr>\n",
       "    <tr>\n",
       "      <th>5</th>\n",
       "      <td>60</td>\n",
       "      <td>False</td>\n",
       "      <td>False</td>\n",
       "      <td>False</td>\n",
       "      <td>False</td>\n",
       "      <td>False</td>\n",
       "      <td>True</td>\n",
       "      <td>False</td>\n",
       "      <td>True</td>\n",
       "      <td>False</td>\n",
       "    </tr>\n",
       "  </tbody>\n",
       "</table>\n",
       "</div>"
      ],
      "text/plain": [
       "   col2  col1_001  col1_002  col1_003  col1_004  col1_005  col1_006  col3_경기도   \n",
       "0    10      True     False     False     False     False     False     False  \\\n",
       "1    20     False      True     False     False     False     False      True   \n",
       "2    30     False     False      True     False     False     False     False   \n",
       "3    40     False     False     False      True     False     False     False   \n",
       "4    50     False     False     False     False      True     False      True   \n",
       "5    60     False     False     False     False     False      True     False   \n",
       "\n",
       "   col3_서울시  col3_제주도  \n",
       "0      True     False  \n",
       "1     False     False  \n",
       "2      True     False  \n",
       "3     False      True  \n",
       "4     False     False  \n",
       "5      True     False  "
      ]
     },
     "execution_count": 76,
     "metadata": {},
     "output_type": "execute_result"
    }
   ],
   "source": [
    "pd.get_dummies(df) # 1:True, 0:False 유효하지 않은 분석\n",
    "# 원핫(onehot)쓰면 스팔스 매트릭스(sparse matrix)대부분의 요소가 0인 행렬 자주,많이 발생"
   ]
  },
  {
   "cell_type": "code",
   "execution_count": 78,
   "metadata": {},
   "outputs": [
    {
     "data": {
      "text/html": [
       "<div>\n",
       "<style scoped>\n",
       "    .dataframe tbody tr th:only-of-type {\n",
       "        vertical-align: middle;\n",
       "    }\n",
       "\n",
       "    .dataframe tbody tr th {\n",
       "        vertical-align: top;\n",
       "    }\n",
       "\n",
       "    .dataframe thead th {\n",
       "        text-align: right;\n",
       "    }\n",
       "</style>\n",
       "<table border=\"1\" class=\"dataframe\">\n",
       "  <thead>\n",
       "    <tr style=\"text-align: right;\">\n",
       "      <th></th>\n",
       "      <th>연도</th>\n",
       "      <th>순위</th>\n",
       "      <th>팀</th>\n",
       "      <th>경기수</th>\n",
       "      <th>승</th>\n",
       "      <th>패</th>\n",
       "      <th>무</th>\n",
       "      <th>승률</th>\n",
       "      <th>게임차</th>\n",
       "    </tr>\n",
       "  </thead>\n",
       "  <tbody>\n",
       "    <tr>\n",
       "      <th>0</th>\n",
       "      <td>2019</td>\n",
       "      <td>1</td>\n",
       "      <td>두산</td>\n",
       "      <td>144</td>\n",
       "      <td>88</td>\n",
       "      <td>55</td>\n",
       "      <td>1</td>\n",
       "      <td>0.615</td>\n",
       "      <td>0.0</td>\n",
       "    </tr>\n",
       "    <tr>\n",
       "      <th>1</th>\n",
       "      <td>2019</td>\n",
       "      <td>2</td>\n",
       "      <td>키움</td>\n",
       "      <td>144</td>\n",
       "      <td>86</td>\n",
       "      <td>57</td>\n",
       "      <td>1</td>\n",
       "      <td>0.601</td>\n",
       "      <td>2.0</td>\n",
       "    </tr>\n",
       "    <tr>\n",
       "      <th>2</th>\n",
       "      <td>2019</td>\n",
       "      <td>3</td>\n",
       "      <td>SK</td>\n",
       "      <td>144</td>\n",
       "      <td>88</td>\n",
       "      <td>55</td>\n",
       "      <td>1</td>\n",
       "      <td>0.615</td>\n",
       "      <td>0.0</td>\n",
       "    </tr>\n",
       "    <tr>\n",
       "      <th>3</th>\n",
       "      <td>2019</td>\n",
       "      <td>4</td>\n",
       "      <td>LG</td>\n",
       "      <td>144</td>\n",
       "      <td>79</td>\n",
       "      <td>64</td>\n",
       "      <td>1</td>\n",
       "      <td>0.552</td>\n",
       "      <td>9.0</td>\n",
       "    </tr>\n",
       "    <tr>\n",
       "      <th>4</th>\n",
       "      <td>2019</td>\n",
       "      <td>5</td>\n",
       "      <td>NC</td>\n",
       "      <td>144</td>\n",
       "      <td>73</td>\n",
       "      <td>69</td>\n",
       "      <td>2</td>\n",
       "      <td>0.514</td>\n",
       "      <td>14.5</td>\n",
       "    </tr>\n",
       "    <tr>\n",
       "      <th>5</th>\n",
       "      <td>2019</td>\n",
       "      <td>6</td>\n",
       "      <td>KT</td>\n",
       "      <td>144</td>\n",
       "      <td>71</td>\n",
       "      <td>71</td>\n",
       "      <td>2</td>\n",
       "      <td>0.500</td>\n",
       "      <td>16.5</td>\n",
       "    </tr>\n",
       "    <tr>\n",
       "      <th>6</th>\n",
       "      <td>2019</td>\n",
       "      <td>7</td>\n",
       "      <td>KIA</td>\n",
       "      <td>144</td>\n",
       "      <td>62</td>\n",
       "      <td>80</td>\n",
       "      <td>2</td>\n",
       "      <td>0.437</td>\n",
       "      <td>25.5</td>\n",
       "    </tr>\n",
       "    <tr>\n",
       "      <th>7</th>\n",
       "      <td>2019</td>\n",
       "      <td>8</td>\n",
       "      <td>삼성</td>\n",
       "      <td>144</td>\n",
       "      <td>60</td>\n",
       "      <td>83</td>\n",
       "      <td>1</td>\n",
       "      <td>0.420</td>\n",
       "      <td>28.0</td>\n",
       "    </tr>\n",
       "    <tr>\n",
       "      <th>8</th>\n",
       "      <td>2019</td>\n",
       "      <td>9</td>\n",
       "      <td>한화</td>\n",
       "      <td>144</td>\n",
       "      <td>58</td>\n",
       "      <td>86</td>\n",
       "      <td>0</td>\n",
       "      <td>0.403</td>\n",
       "      <td>30.5</td>\n",
       "    </tr>\n",
       "    <tr>\n",
       "      <th>9</th>\n",
       "      <td>2019</td>\n",
       "      <td>10</td>\n",
       "      <td>롯데</td>\n",
       "      <td>144</td>\n",
       "      <td>48</td>\n",
       "      <td>93</td>\n",
       "      <td>3</td>\n",
       "      <td>0.340</td>\n",
       "      <td>39.0</td>\n",
       "    </tr>\n",
       "    <tr>\n",
       "      <th>10</th>\n",
       "      <td>2018</td>\n",
       "      <td>1</td>\n",
       "      <td>두산</td>\n",
       "      <td>144</td>\n",
       "      <td>93</td>\n",
       "      <td>51</td>\n",
       "      <td>0</td>\n",
       "      <td>0.646</td>\n",
       "      <td>-14.5</td>\n",
       "    </tr>\n",
       "    <tr>\n",
       "      <th>11</th>\n",
       "      <td>2018</td>\n",
       "      <td>2</td>\n",
       "      <td>SK</td>\n",
       "      <td>144</td>\n",
       "      <td>78</td>\n",
       "      <td>65</td>\n",
       "      <td>1</td>\n",
       "      <td>0.545</td>\n",
       "      <td>0.0</td>\n",
       "    </tr>\n",
       "    <tr>\n",
       "      <th>12</th>\n",
       "      <td>2018</td>\n",
       "      <td>3</td>\n",
       "      <td>한화</td>\n",
       "      <td>144</td>\n",
       "      <td>77</td>\n",
       "      <td>67</td>\n",
       "      <td>0</td>\n",
       "      <td>0.535</td>\n",
       "      <td>1.5</td>\n",
       "    </tr>\n",
       "    <tr>\n",
       "      <th>13</th>\n",
       "      <td>2018</td>\n",
       "      <td>4</td>\n",
       "      <td>넥센</td>\n",
       "      <td>144</td>\n",
       "      <td>75</td>\n",
       "      <td>69</td>\n",
       "      <td>0</td>\n",
       "      <td>0.521</td>\n",
       "      <td>3.5</td>\n",
       "    </tr>\n",
       "    <tr>\n",
       "      <th>14</th>\n",
       "      <td>2018</td>\n",
       "      <td>5</td>\n",
       "      <td>KIA</td>\n",
       "      <td>144</td>\n",
       "      <td>70</td>\n",
       "      <td>74</td>\n",
       "      <td>0</td>\n",
       "      <td>0.486</td>\n",
       "      <td>8.5</td>\n",
       "    </tr>\n",
       "    <tr>\n",
       "      <th>15</th>\n",
       "      <td>2018</td>\n",
       "      <td>5</td>\n",
       "      <td>삼성</td>\n",
       "      <td>144</td>\n",
       "      <td>68</td>\n",
       "      <td>72</td>\n",
       "      <td>4</td>\n",
       "      <td>0.486</td>\n",
       "      <td>8.5</td>\n",
       "    </tr>\n",
       "    <tr>\n",
       "      <th>16</th>\n",
       "      <td>2018</td>\n",
       "      <td>7</td>\n",
       "      <td>롯데</td>\n",
       "      <td>144</td>\n",
       "      <td>68</td>\n",
       "      <td>74</td>\n",
       "      <td>2</td>\n",
       "      <td>0.479</td>\n",
       "      <td>9.5</td>\n",
       "    </tr>\n",
       "    <tr>\n",
       "      <th>17</th>\n",
       "      <td>2018</td>\n",
       "      <td>8</td>\n",
       "      <td>LG</td>\n",
       "      <td>144</td>\n",
       "      <td>68</td>\n",
       "      <td>75</td>\n",
       "      <td>1</td>\n",
       "      <td>0.476</td>\n",
       "      <td>10.0</td>\n",
       "    </tr>\n",
       "    <tr>\n",
       "      <th>18</th>\n",
       "      <td>2018</td>\n",
       "      <td>9</td>\n",
       "      <td>KT</td>\n",
       "      <td>144</td>\n",
       "      <td>59</td>\n",
       "      <td>82</td>\n",
       "      <td>3</td>\n",
       "      <td>0.418</td>\n",
       "      <td>18.0</td>\n",
       "    </tr>\n",
       "    <tr>\n",
       "      <th>19</th>\n",
       "      <td>2018</td>\n",
       "      <td>10</td>\n",
       "      <td>NC</td>\n",
       "      <td>144</td>\n",
       "      <td>58</td>\n",
       "      <td>85</td>\n",
       "      <td>1</td>\n",
       "      <td>0.406</td>\n",
       "      <td>20.0</td>\n",
       "    </tr>\n",
       "    <tr>\n",
       "      <th>20</th>\n",
       "      <td>2017</td>\n",
       "      <td>1</td>\n",
       "      <td>KIA</td>\n",
       "      <td>144</td>\n",
       "      <td>87</td>\n",
       "      <td>56</td>\n",
       "      <td>1</td>\n",
       "      <td>0.608</td>\n",
       "      <td>0.0</td>\n",
       "    </tr>\n",
       "    <tr>\n",
       "      <th>21</th>\n",
       "      <td>2017</td>\n",
       "      <td>2</td>\n",
       "      <td>두산</td>\n",
       "      <td>144</td>\n",
       "      <td>84</td>\n",
       "      <td>57</td>\n",
       "      <td>3</td>\n",
       "      <td>0.596</td>\n",
       "      <td>2.0</td>\n",
       "    </tr>\n",
       "    <tr>\n",
       "      <th>22</th>\n",
       "      <td>2017</td>\n",
       "      <td>3</td>\n",
       "      <td>롯데</td>\n",
       "      <td>144</td>\n",
       "      <td>80</td>\n",
       "      <td>62</td>\n",
       "      <td>2</td>\n",
       "      <td>0.563</td>\n",
       "      <td>6.5</td>\n",
       "    </tr>\n",
       "    <tr>\n",
       "      <th>23</th>\n",
       "      <td>2017</td>\n",
       "      <td>4</td>\n",
       "      <td>NC</td>\n",
       "      <td>144</td>\n",
       "      <td>79</td>\n",
       "      <td>62</td>\n",
       "      <td>3</td>\n",
       "      <td>0.560</td>\n",
       "      <td>7.0</td>\n",
       "    </tr>\n",
       "    <tr>\n",
       "      <th>24</th>\n",
       "      <td>2017</td>\n",
       "      <td>5</td>\n",
       "      <td>SK</td>\n",
       "      <td>144</td>\n",
       "      <td>75</td>\n",
       "      <td>68</td>\n",
       "      <td>1</td>\n",
       "      <td>0.524</td>\n",
       "      <td>12.0</td>\n",
       "    </tr>\n",
       "    <tr>\n",
       "      <th>25</th>\n",
       "      <td>2017</td>\n",
       "      <td>6</td>\n",
       "      <td>LG</td>\n",
       "      <td>144</td>\n",
       "      <td>69</td>\n",
       "      <td>72</td>\n",
       "      <td>3</td>\n",
       "      <td>0.489</td>\n",
       "      <td>17.0</td>\n",
       "    </tr>\n",
       "    <tr>\n",
       "      <th>26</th>\n",
       "      <td>2017</td>\n",
       "      <td>7</td>\n",
       "      <td>넥센</td>\n",
       "      <td>144</td>\n",
       "      <td>69</td>\n",
       "      <td>73</td>\n",
       "      <td>2</td>\n",
       "      <td>0.486</td>\n",
       "      <td>17.5</td>\n",
       "    </tr>\n",
       "    <tr>\n",
       "      <th>27</th>\n",
       "      <td>2017</td>\n",
       "      <td>8</td>\n",
       "      <td>한화</td>\n",
       "      <td>144</td>\n",
       "      <td>61</td>\n",
       "      <td>81</td>\n",
       "      <td>2</td>\n",
       "      <td>0.430</td>\n",
       "      <td>25.5</td>\n",
       "    </tr>\n",
       "    <tr>\n",
       "      <th>28</th>\n",
       "      <td>2017</td>\n",
       "      <td>9</td>\n",
       "      <td>삼성</td>\n",
       "      <td>144</td>\n",
       "      <td>55</td>\n",
       "      <td>84</td>\n",
       "      <td>5</td>\n",
       "      <td>0.396</td>\n",
       "      <td>30.0</td>\n",
       "    </tr>\n",
       "    <tr>\n",
       "      <th>29</th>\n",
       "      <td>2017</td>\n",
       "      <td>10</td>\n",
       "      <td>KT</td>\n",
       "      <td>144</td>\n",
       "      <td>50</td>\n",
       "      <td>94</td>\n",
       "      <td>0</td>\n",
       "      <td>0.347</td>\n",
       "      <td>37.5</td>\n",
       "    </tr>\n",
       "  </tbody>\n",
       "</table>\n",
       "</div>"
      ],
      "text/plain": [
       "      연도  순위    팀  경기수   승   패  무     승률   게임차\n",
       "0   2019   1   두산  144  88  55  1  0.615   0.0\n",
       "1   2019   2   키움  144  86  57  1  0.601   2.0\n",
       "2   2019   3   SK  144  88  55  1  0.615   0.0\n",
       "3   2019   4   LG  144  79  64  1  0.552   9.0\n",
       "4   2019   5   NC  144  73  69  2  0.514  14.5\n",
       "5   2019   6   KT  144  71  71  2  0.500  16.5\n",
       "6   2019   7  KIA  144  62  80  2  0.437  25.5\n",
       "7   2019   8   삼성  144  60  83  1  0.420  28.0\n",
       "8   2019   9   한화  144  58  86  0  0.403  30.5\n",
       "9   2019  10   롯데  144  48  93  3  0.340  39.0\n",
       "10  2018   1   두산  144  93  51  0  0.646 -14.5\n",
       "11  2018   2   SK  144  78  65  1  0.545   0.0\n",
       "12  2018   3   한화  144  77  67  0  0.535   1.5\n",
       "13  2018   4   넥센  144  75  69  0  0.521   3.5\n",
       "14  2018   5  KIA  144  70  74  0  0.486   8.5\n",
       "15  2018   5   삼성  144  68  72  4  0.486   8.5\n",
       "16  2018   7   롯데  144  68  74  2  0.479   9.5\n",
       "17  2018   8   LG  144  68  75  1  0.476  10.0\n",
       "18  2018   9   KT  144  59  82  3  0.418  18.0\n",
       "19  2018  10   NC  144  58  85  1  0.406  20.0\n",
       "20  2017   1  KIA  144  87  56  1  0.608   0.0\n",
       "21  2017   2   두산  144  84  57  3  0.596   2.0\n",
       "22  2017   3   롯데  144  80  62  2  0.563   6.5\n",
       "23  2017   4   NC  144  79  62  3  0.560   7.0\n",
       "24  2017   5   SK  144  75  68  1  0.524  12.0\n",
       "25  2017   6   LG  144  69  72  3  0.489  17.0\n",
       "26  2017   7   넥센  144  69  73  2  0.486  17.5\n",
       "27  2017   8   한화  144  61  81  2  0.430  25.5\n",
       "28  2017   9   삼성  144  55  84  5  0.396  30.0\n",
       "29  2017  10   KT  144  50  94  0  0.347  37.5"
      ]
     },
     "execution_count": 78,
     "metadata": {},
     "output_type": "execute_result"
    }
   ],
   "source": [
    "import pandas as pd\n",
    "\n",
    "kbo = pd.read_csv('C:/Users/5/kbo.csv') # file load \n",
    "kbo"
   ]
  },
  {
   "cell_type": "code",
   "execution_count": 79,
   "metadata": {},
   "outputs": [
    {
     "data": {
      "text/plain": [
       "(30, 9)"
      ]
     },
     "execution_count": 79,
     "metadata": {},
     "output_type": "execute_result"
    }
   ],
   "source": [
    "kbo.shape # 30열 9행, (열과 행의 갯수를 알려줌)"
   ]
  },
  {
   "cell_type": "code",
   "execution_count": 80,
   "metadata": {},
   "outputs": [
    {
     "data": {
      "text/plain": [
       "Index(['연도', '순위', '팀', '경기수', '승', '패', '무', '승률', '게임차'], dtype='object')"
      ]
     },
     "execution_count": 80,
     "metadata": {},
     "output_type": "execute_result"
    }
   ],
   "source": [
    "kbo.columns # 칼럼즈 columns 열들 title(?)을 알려줌"
   ]
  },
  {
   "cell_type": "code",
   "execution_count": 81,
   "metadata": {},
   "outputs": [
    {
     "data": {
      "text/plain": [
       "<bound method Series.unique of 0      두산\n",
       "1      키움\n",
       "2      SK\n",
       "3      LG\n",
       "4      NC\n",
       "5      KT\n",
       "6     KIA\n",
       "7      삼성\n",
       "8      한화\n",
       "9      롯데\n",
       "10     두산\n",
       "11     SK\n",
       "12     한화\n",
       "13     넥센\n",
       "14    KIA\n",
       "15     삼성\n",
       "16     롯데\n",
       "17     LG\n",
       "18     KT\n",
       "19     NC\n",
       "20    KIA\n",
       "21     두산\n",
       "22     롯데\n",
       "23     NC\n",
       "24     SK\n",
       "25     LG\n",
       "26     넥센\n",
       "27     한화\n",
       "28     삼성\n",
       "29     KT\n",
       "Name: 팀, dtype: object>"
      ]
     },
     "execution_count": 81,
     "metadata": {},
     "output_type": "execute_result"
    }
   ],
   "source": [
    "kbo['팀'].unique # '팀' 열의 중복 이름을 가진 팀 제거"
   ]
  },
  {
   "cell_type": "code",
   "execution_count": 82,
   "metadata": {},
   "outputs": [
    {
     "name": "stdout",
     "output_type": "stream",
     "text": [
      "<class 'pandas.core.frame.DataFrame'>\n",
      "RangeIndex: 30 entries, 0 to 29\n",
      "Data columns (total 9 columns):\n",
      " #   Column  Non-Null Count  Dtype  \n",
      "---  ------  --------------  -----  \n",
      " 0   연도      30 non-null     int64  \n",
      " 1   순위      30 non-null     int64  \n",
      " 2   팀       30 non-null     object \n",
      " 3   경기수     30 non-null     int64  \n",
      " 4   승       30 non-null     int64  \n",
      " 5   패       30 non-null     int64  \n",
      " 6   무       30 non-null     int64  \n",
      " 7   승률      30 non-null     float64\n",
      " 8   게임차     30 non-null     float64\n",
      "dtypes: float64(2), int64(6), object(1)\n",
      "memory usage: 2.2+ KB\n"
     ]
    }
   ],
   "source": [
    "kbo.info() # csv 정보"
   ]
  },
  {
   "cell_type": "code",
   "execution_count": 83,
   "metadata": {},
   "outputs": [
    {
     "data": {
      "text/html": [
       "<div>\n",
       "<style scoped>\n",
       "    .dataframe tbody tr th:only-of-type {\n",
       "        vertical-align: middle;\n",
       "    }\n",
       "\n",
       "    .dataframe tbody tr th {\n",
       "        vertical-align: top;\n",
       "    }\n",
       "\n",
       "    .dataframe thead th {\n",
       "        text-align: right;\n",
       "    }\n",
       "</style>\n",
       "<table border=\"1\" class=\"dataframe\">\n",
       "  <thead>\n",
       "    <tr style=\"text-align: right;\">\n",
       "      <th></th>\n",
       "      <th>연도</th>\n",
       "      <th>순위</th>\n",
       "      <th>경기수</th>\n",
       "      <th>승</th>\n",
       "      <th>패</th>\n",
       "      <th>무</th>\n",
       "      <th>승률</th>\n",
       "      <th>게임차</th>\n",
       "    </tr>\n",
       "  </thead>\n",
       "  <tbody>\n",
       "    <tr>\n",
       "      <th>count</th>\n",
       "      <td>30.000000</td>\n",
       "      <td>30.000000</td>\n",
       "      <td>30.0</td>\n",
       "      <td>30.000000</td>\n",
       "      <td>30.000000</td>\n",
       "      <td>30.000000</td>\n",
       "      <td>30.000000</td>\n",
       "      <td>30.000000</td>\n",
       "    </tr>\n",
       "    <tr>\n",
       "      <th>mean</th>\n",
       "      <td>2018.000000</td>\n",
       "      <td>5.466667</td>\n",
       "      <td>144.0</td>\n",
       "      <td>71.200000</td>\n",
       "      <td>71.200000</td>\n",
       "      <td>1.600000</td>\n",
       "      <td>0.499800</td>\n",
       "      <td>12.833333</td>\n",
       "    </tr>\n",
       "    <tr>\n",
       "      <th>std</th>\n",
       "      <td>0.830455</td>\n",
       "      <td>2.921187</td>\n",
       "      <td>0.0</td>\n",
       "      <td>11.871147</td>\n",
       "      <td>11.591912</td>\n",
       "      <td>1.275769</td>\n",
       "      <td>0.082079</td>\n",
       "      <td>12.576204</td>\n",
       "    </tr>\n",
       "    <tr>\n",
       "      <th>min</th>\n",
       "      <td>2017.000000</td>\n",
       "      <td>1.000000</td>\n",
       "      <td>144.0</td>\n",
       "      <td>48.000000</td>\n",
       "      <td>51.000000</td>\n",
       "      <td>0.000000</td>\n",
       "      <td>0.340000</td>\n",
       "      <td>-14.500000</td>\n",
       "    </tr>\n",
       "    <tr>\n",
       "      <th>25%</th>\n",
       "      <td>2017.000000</td>\n",
       "      <td>3.000000</td>\n",
       "      <td>144.0</td>\n",
       "      <td>61.250000</td>\n",
       "      <td>62.500000</td>\n",
       "      <td>1.000000</td>\n",
       "      <td>0.431750</td>\n",
       "      <td>2.375000</td>\n",
       "    </tr>\n",
       "    <tr>\n",
       "      <th>50%</th>\n",
       "      <td>2018.000000</td>\n",
       "      <td>5.000000</td>\n",
       "      <td>144.0</td>\n",
       "      <td>70.500000</td>\n",
       "      <td>71.500000</td>\n",
       "      <td>1.000000</td>\n",
       "      <td>0.494500</td>\n",
       "      <td>9.750000</td>\n",
       "    </tr>\n",
       "    <tr>\n",
       "      <th>75%</th>\n",
       "      <td>2019.000000</td>\n",
       "      <td>8.000000</td>\n",
       "      <td>144.0</td>\n",
       "      <td>79.000000</td>\n",
       "      <td>80.750000</td>\n",
       "      <td>2.000000</td>\n",
       "      <td>0.558000</td>\n",
       "      <td>19.500000</td>\n",
       "    </tr>\n",
       "    <tr>\n",
       "      <th>max</th>\n",
       "      <td>2019.000000</td>\n",
       "      <td>10.000000</td>\n",
       "      <td>144.0</td>\n",
       "      <td>93.000000</td>\n",
       "      <td>94.000000</td>\n",
       "      <td>5.000000</td>\n",
       "      <td>0.646000</td>\n",
       "      <td>39.000000</td>\n",
       "    </tr>\n",
       "  </tbody>\n",
       "</table>\n",
       "</div>"
      ],
      "text/plain": [
       "                연도         순위    경기수          승          패          무   \n",
       "count    30.000000  30.000000   30.0  30.000000  30.000000  30.000000  \\\n",
       "mean   2018.000000   5.466667  144.0  71.200000  71.200000   1.600000   \n",
       "std       0.830455   2.921187    0.0  11.871147  11.591912   1.275769   \n",
       "min    2017.000000   1.000000  144.0  48.000000  51.000000   0.000000   \n",
       "25%    2017.000000   3.000000  144.0  61.250000  62.500000   1.000000   \n",
       "50%    2018.000000   5.000000  144.0  70.500000  71.500000   1.000000   \n",
       "75%    2019.000000   8.000000  144.0  79.000000  80.750000   2.000000   \n",
       "max    2019.000000  10.000000  144.0  93.000000  94.000000   5.000000   \n",
       "\n",
       "              승률        게임차  \n",
       "count  30.000000  30.000000  \n",
       "mean    0.499800  12.833333  \n",
       "std     0.082079  12.576204  \n",
       "min     0.340000 -14.500000  \n",
       "25%     0.431750   2.375000  \n",
       "50%     0.494500   9.750000  \n",
       "75%     0.558000  19.500000  \n",
       "max     0.646000  39.000000  "
      ]
     },
     "execution_count": 83,
     "metadata": {},
     "output_type": "execute_result"
    }
   ],
   "source": [
    "kbo.describe() # 디스크라이브, 각 수치 count …mean … 50% … max"
   ]
  },
  {
   "cell_type": "code",
   "execution_count": 84,
   "metadata": {},
   "outputs": [
    {
     "data": {
      "text/plain": [
       "연도     0\n",
       "순위     0\n",
       "팀      0\n",
       "경기수    0\n",
       "승      0\n",
       "패      0\n",
       "무      0\n",
       "승률     0\n",
       "게임차    0\n",
       "dtype: int64"
      ]
     },
     "execution_count": 84,
     "metadata": {},
     "output_type": "execute_result"
    }
   ],
   "source": [
    "kbo.isna().sum() # 결측치(NaN, None) 확인 및 나열"
   ]
  },
  {
   "attachments": {},
   "cell_type": "markdown",
   "metadata": {},
   "source": [
    "- groupby를 하면 group으로 묶인 Groupby 객체를 반환\n",
    "    - 이 객체는 그룹 연산을 위해 필요한 모든 정보를 가지고 있음.\n",
    "    - 새로운 정보를 추출 할 수 있음"
   ]
  },
  {
   "cell_type": "code",
   "execution_count": 86,
   "metadata": {},
   "outputs": [
    {
     "data": {
      "text/plain": [
       "<pandas.core.groupby.generic.DataFrameGroupBy object at 0x0000012FB92683A0>"
      ]
     },
     "execution_count": 86,
     "metadata": {},
     "output_type": "execute_result"
    }
   ],
   "source": [
    "kbo.groupby('팀') # 팀' 기준으로 그룹핑\n",
    "#  '팀'을 가진 데이터끼리 묶어서 다양한 집계 함수들을 적용 가능"
   ]
  },
  {
   "cell_type": "code",
   "execution_count": 88,
   "metadata": {},
   "outputs": [
    {
     "data": {
      "text/html": [
       "<div>\n",
       "<style scoped>\n",
       "    .dataframe tbody tr th:only-of-type {\n",
       "        vertical-align: middle;\n",
       "    }\n",
       "\n",
       "    .dataframe tbody tr th {\n",
       "        vertical-align: top;\n",
       "    }\n",
       "\n",
       "    .dataframe thead th {\n",
       "        text-align: right;\n",
       "    }\n",
       "</style>\n",
       "<table border=\"1\" class=\"dataframe\">\n",
       "  <thead>\n",
       "    <tr style=\"text-align: right;\">\n",
       "      <th></th>\n",
       "      <th>연도</th>\n",
       "      <th>순위</th>\n",
       "      <th>경기수</th>\n",
       "      <th>승</th>\n",
       "      <th>패</th>\n",
       "      <th>무</th>\n",
       "      <th>승률</th>\n",
       "      <th>게임차</th>\n",
       "    </tr>\n",
       "    <tr>\n",
       "      <th>팀</th>\n",
       "      <th></th>\n",
       "      <th></th>\n",
       "      <th></th>\n",
       "      <th></th>\n",
       "      <th></th>\n",
       "      <th></th>\n",
       "      <th></th>\n",
       "      <th></th>\n",
       "    </tr>\n",
       "  </thead>\n",
       "  <tbody>\n",
       "    <tr>\n",
       "      <th>KIA</th>\n",
       "      <td>3</td>\n",
       "      <td>3</td>\n",
       "      <td>3</td>\n",
       "      <td>3</td>\n",
       "      <td>3</td>\n",
       "      <td>3</td>\n",
       "      <td>3</td>\n",
       "      <td>3</td>\n",
       "    </tr>\n",
       "    <tr>\n",
       "      <th>KT</th>\n",
       "      <td>3</td>\n",
       "      <td>3</td>\n",
       "      <td>3</td>\n",
       "      <td>3</td>\n",
       "      <td>3</td>\n",
       "      <td>3</td>\n",
       "      <td>3</td>\n",
       "      <td>3</td>\n",
       "    </tr>\n",
       "    <tr>\n",
       "      <th>LG</th>\n",
       "      <td>3</td>\n",
       "      <td>3</td>\n",
       "      <td>3</td>\n",
       "      <td>3</td>\n",
       "      <td>3</td>\n",
       "      <td>3</td>\n",
       "      <td>3</td>\n",
       "      <td>3</td>\n",
       "    </tr>\n",
       "    <tr>\n",
       "      <th>NC</th>\n",
       "      <td>3</td>\n",
       "      <td>3</td>\n",
       "      <td>3</td>\n",
       "      <td>3</td>\n",
       "      <td>3</td>\n",
       "      <td>3</td>\n",
       "      <td>3</td>\n",
       "      <td>3</td>\n",
       "    </tr>\n",
       "    <tr>\n",
       "      <th>SK</th>\n",
       "      <td>3</td>\n",
       "      <td>3</td>\n",
       "      <td>3</td>\n",
       "      <td>3</td>\n",
       "      <td>3</td>\n",
       "      <td>3</td>\n",
       "      <td>3</td>\n",
       "      <td>3</td>\n",
       "    </tr>\n",
       "    <tr>\n",
       "      <th>넥센</th>\n",
       "      <td>2</td>\n",
       "      <td>2</td>\n",
       "      <td>2</td>\n",
       "      <td>2</td>\n",
       "      <td>2</td>\n",
       "      <td>2</td>\n",
       "      <td>2</td>\n",
       "      <td>2</td>\n",
       "    </tr>\n",
       "    <tr>\n",
       "      <th>두산</th>\n",
       "      <td>3</td>\n",
       "      <td>3</td>\n",
       "      <td>3</td>\n",
       "      <td>3</td>\n",
       "      <td>3</td>\n",
       "      <td>3</td>\n",
       "      <td>3</td>\n",
       "      <td>3</td>\n",
       "    </tr>\n",
       "    <tr>\n",
       "      <th>롯데</th>\n",
       "      <td>3</td>\n",
       "      <td>3</td>\n",
       "      <td>3</td>\n",
       "      <td>3</td>\n",
       "      <td>3</td>\n",
       "      <td>3</td>\n",
       "      <td>3</td>\n",
       "      <td>3</td>\n",
       "    </tr>\n",
       "    <tr>\n",
       "      <th>삼성</th>\n",
       "      <td>3</td>\n",
       "      <td>3</td>\n",
       "      <td>3</td>\n",
       "      <td>3</td>\n",
       "      <td>3</td>\n",
       "      <td>3</td>\n",
       "      <td>3</td>\n",
       "      <td>3</td>\n",
       "    </tr>\n",
       "    <tr>\n",
       "      <th>키움</th>\n",
       "      <td>1</td>\n",
       "      <td>1</td>\n",
       "      <td>1</td>\n",
       "      <td>1</td>\n",
       "      <td>1</td>\n",
       "      <td>1</td>\n",
       "      <td>1</td>\n",
       "      <td>1</td>\n",
       "    </tr>\n",
       "    <tr>\n",
       "      <th>한화</th>\n",
       "      <td>3</td>\n",
       "      <td>3</td>\n",
       "      <td>3</td>\n",
       "      <td>3</td>\n",
       "      <td>3</td>\n",
       "      <td>3</td>\n",
       "      <td>3</td>\n",
       "      <td>3</td>\n",
       "    </tr>\n",
       "  </tbody>\n",
       "</table>\n",
       "</div>"
      ],
      "text/plain": [
       "     연도  순위  경기수  승  패  무  승률  게임차\n",
       "팀                                 \n",
       "KIA   3   3    3  3  3  3   3    3\n",
       "KT    3   3    3  3  3  3   3    3\n",
       "LG    3   3    3  3  3  3   3    3\n",
       "NC    3   3    3  3  3  3   3    3\n",
       "SK    3   3    3  3  3  3   3    3\n",
       "넥센    2   2    2  2  2  2   2    2\n",
       "두산    3   3    3  3  3  3   3    3\n",
       "롯데    3   3    3  3  3  3   3    3\n",
       "삼성    3   3    3  3  3  3   3    3\n",
       "키움    1   1    1  1  1  1   1    1\n",
       "한화    3   3    3  3  3  3   3    3"
      ]
     },
     "execution_count": 88,
     "metadata": {},
     "output_type": "execute_result"
    }
   ],
   "source": [
    "kbo.groupby('팀').count() # 총 수를 카운트, 넥센->키움, 팀 이름 바뀜\n",
    "# 팀별로 몇 개의 데이터가 있는지를 확인, dataframe의 각 열마다\n",
    "# 값이 있는 데이터의 개수를 세는 것이기 때문에 결과 값은 모두 같음"
   ]
  },
  {
   "cell_type": "code",
   "execution_count": null,
   "metadata": {},
   "outputs": [],
   "source": []
  }
 ],
 "metadata": {
  "kernelspec": {
   "display_name": "Python 3",
   "language": "python",
   "name": "python3"
  },
  "language_info": {
   "codemirror_mode": {
    "name": "ipython",
    "version": 3
   },
   "file_extension": ".py",
   "mimetype": "text/x-python",
   "name": "python",
   "nbconvert_exporter": "python",
   "pygments_lexer": "ipython3",
   "version": "3.9.13"
  },
  "orig_nbformat": 4
 },
 "nbformat": 4,
 "nbformat_minor": 2
}
