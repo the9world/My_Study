{
 "cells": [
  {
   "attachments": {},
   "cell_type": "markdown",
   "metadata": {},
   "source": [
    "### 회귀 분석의 다양한 유형\n",
    "   1. 선형 회귀(Linear regression)  \n",
    "   - 선형 회귀는 예측 변수와 종속 변수로 구성되며, 선형 방식으로 서로 연관지어져 있다.\n",
    "   가장 적합한 선, 즉 최적적합선을 사용  \n",
    "   \n",
    "   2. 로지스틱 회귀(Logistic regression)\n",
    "   - 종속 변수에 이산 값이 있는 경우, 0 또는 1, 참 또는 거짓, 흑 또는 백 등의  \n",
    "   두 가지 값 중 하나만 취할 수 있는 경우 로지스틱 회귀를 사용하여 데이터를 분석할 수 있다.\n",
    "   - 로지스틱 회귀는 S자형 곡선을 사용하여 대상 변수와 독립 변수 사이의 관계를 표시한다.  \n",
    "   그러나 로지스틱 회귀 분석 방식\n",
    "   - 변수들의 순위를 지정할 때 문제를 일으킬 수 있기 때문에  \n",
    "   서로 상관성이 높은 독립 변수들이 데이터 집합에 포함되어서는 안 된다.  \n",
    "   (multicollinearity, 다중공선성이라고 알려진 현상으로, 회귀 분석에서 사용된 모델의 일부 예측 변수가  \n",
    "   다른 예측 변수와 상관 정도가 높아, 데이터 분석 시 부정적인 영향을 미치는 현상을 의미한다.)\n",
    "\n",
    "   3. 리지 회귀(Ridge regression)  \n",
    "   - 불가피하게 독립 변수들 사이에 높은 상관 관계가 있는 경우라면 리지 회귀가 더 적합한 접근방식이다.  \n",
    "   다중 회귀라고도 불리는 리지 회귀는 정규화 또는 규제화(regularization) 기법으로 알려져 있으며  \n",
    "   모델의 복잡성을 줄이는 데 사용된다. 또한 ‘리지 회귀 페널티’로 알려진 약간의 편향, 즉 바이어스(bias)를  \n",
    "   사용하여 모델이 과대적합(overfitting)에 덜 취약하게 만든다.\n",
    "\n",
    "   4. 라쏘 회귀(Lasso regression)  \n",
    "   - 라쏘 회귀는 리지 회귀와 같이 모델의 복잡성을 줄여주는 또 다른 정규화 기법이다.\n",
    "   회귀 계수의 절대 사이즈를 금지함으로써 복잡성을 줄인다.  \n",
    "   - 리지 회귀와는 다르게 아예 계수 값을 0에 가깝게 만든다. 그 장점은 기능 선택을 사용할 수 있다는 것이다. 데이터 집합에서 기능 세트를 선택하여 모델을 구축할 수 있다. 라쏘 회귀는 필요한 요소들만 사용하고  \n",
    "   나머지를 0으로 설정함으로써 과대적합을 방지할 수 있다.\n",
    "\n",
    "   5. 다항 회귀(Polynomial regression)  \n",
    "   - 다항 회귀는 선형 모델을 사용하여 비선형 데이터 집합을 모델링함. 동그란 모양의 구멍에 네모난 모양의  \n",
    "   못 또는 말뚝을 끼워 넣는 것과 같다. 다항 회귀는 독립 변수가 여러 개인 선형 회귀를 뜻하는  \n",
    "   다중 선형 회귀와 비슷한 방식으로 작동하지만, 비선형 곡선을 사용한다.  \n",
    "   즉, 데이터 포인트가 비선형 방식으로 존재할 때 사용한다.\n",
    "   - 모델은 이 데이터 포인트들을 지정된 수준의 다항식 특성으로 변환하고 선형 모델을 사용하여 모델화한다. 선형 회귀에서 볼 수 있는 직선이 아닌 곡선의 다항식 선을 사용하여 최적적합을 수행한다. 그러나 이 모델은 과대적합으로 나타나기 쉬우므로 이상한 결과치를 피하기 위해서는 끝 부분의 곡선을 분석하는 것이 좋다.\n",
    "\n",
    "회귀 분석에는 위에서 소개한 것들보다 더 많은 종류가 있지만,  \n",
    "이 다섯 가지가 가장 일반적으로 사용함, 가장 적합한 모델을 선택하면  \n",
    "데이터가 가진 잠재력을 최대한 활용하여 더 큰 인사이트를 얻을 수 있음  \n"
   ]
  },
  {
   "attachments": {},
   "cell_type": "markdown",
   "metadata": {},
   "source": [
    "1. 코딩유치원 : https://coding-kindergarten.tistory.com/category/%ED%8C%8C%EC%9D%B4%EC%8D%AC%20%EA%B8%B0%EC%B4%88/%EA%B8%B0%EC%B4%88%20%EB%AC%B8%EB%B2%95\n",
    "2. 딥 러닝을 이용한 자연어 처리 입문 : https://wikidocs.net/22647\n",
    "3. 위키독스, 온라인 책을 제작 공유하는 플랫폼 : https://wikidocs.net/\n",
    "4. 데이터 사이언스 스쿨 : https://datascienceschool.net/intro.html\n",
    "\n",
    "#### random state(),  seed  \n",
    "- random_state 숫자 역할은, 어떤 추출 (확률적)스타일을 지정.  \n",
    "    동일한 random_state 값이라 하더라도 컴퓨터를 다시 켰을 때 소스를 다시 로딩했을 때 등  \n",
    "    변화가 생기면 추출된 결과에 변화가 발생될 수도 있음, 프로그램 종료전까지 항상 동일한 결과  \n",
    "\n",
    "    \n",
    "#### 그래프 오차막대 (GraphErrorBar)  \n",
    "- Variance: Variance (V) 분산\n",
    "- Variation: Standard Deviation (SD) 표준편차\n",
    "- Variation: Standard Error (SE) 표준오차\n",
    "- Variation: Confidence Interval (CI) 신뢰구간\n",
    "\n",
    "##### 교차 검증 스태킹(stacking)\n",
    "##### 경사하강법, 가중치 그라디언트, 그라디언트 부스팅\n",
    "\n",
    "트리 (예/아뇨- - - - - …)   \n",
    "엔트로피 / 혼잡도 / 앞 0~~~^~~~1 뒷면?\n",
    "p 밸류 0.05< (95%신뢰) 100 =>  95% 신뢰구간 = 95개 / 통계에선 P밸류가 가장 중요  \n",
    "\n"
   ]
  },
  {
   "cell_type": "code",
   "execution_count": null,
   "metadata": {},
   "outputs": [],
   "source": []
  }
 ],
 "metadata": {
  "kernelspec": {
   "display_name": "Python 3",
   "language": "python",
   "name": "python3"
  },
  "language_info": {
   "codemirror_mode": {
    "name": "ipython",
    "version": 3
   },
   "file_extension": ".py",
   "mimetype": "text/x-python",
   "name": "python",
   "nbconvert_exporter": "python",
   "pygments_lexer": "ipython3",
   "version": "3.9.13"
  },
  "orig_nbformat": 4
 },
 "nbformat": 4,
 "nbformat_minor": 2
}
